{
 "cells": [
  {
   "cell_type": "code",
   "execution_count": 1,
   "id": "e2e92a48",
   "metadata": {
    "execution": {
     "iopub.execute_input": "2025-03-25T03:32:01.066410Z",
     "iopub.status.busy": "2025-03-25T03:32:01.066113Z",
     "iopub.status.idle": "2025-03-25T03:32:09.488525Z",
     "shell.execute_reply": "2025-03-25T03:32:09.487834Z"
    },
    "papermill": {
     "duration": 8.427391,
     "end_time": "2025-03-25T03:32:09.490093",
     "exception": false,
     "start_time": "2025-03-25T03:32:01.062702",
     "status": "completed"
    },
    "tags": []
   },
   "outputs": [],
   "source": [
    "import os\n",
    "import random\n",
    "from sklearn.model_selection import train_test_split\n",
    "from torch.utils.data import Dataset, DataLoader\n",
    "from torchvision import transforms\n",
    "from PIL import Image\n",
    "\n",
    "import torch\n",
    "import torch.nn as nn\n",
    "import torch.optim as optim\n",
    "import torch.nn.functional as F\n",
    "import matplotlib.pyplot as plt\n",
    "from sklearn.metrics import jaccard_score\n",
    "from torchvision import transforms\n",
    "import numpy as np\n",
    "\n",
    "# Set random seed for reproducibility\n",
    "def seed_everything(seed=42):\n",
    "    random.seed(seed)\n",
    "    np.random.seed(seed)\n",
    "    torch.manual_seed(seed)\n",
    "    torch.cuda.manual_seed_all(seed)\n",
    "    torch.backends.cudnn.deterministic = True\n",
    "    torch.backends.cudnn.benchmark = False\n",
    "\n",
    "seed_everything()\n",
    "\n",
    "class SegmentationDataset(Dataset):\n",
    "    def __init__(self, image_paths, mask_paths, transform=None):\n",
    "        self.image_paths = image_paths\n",
    "        self.mask_paths = mask_paths\n",
    "        self.transform = transform\n",
    "\n",
    "    def __len__(self):\n",
    "        return len(self.image_paths)\n",
    "\n",
    "    def __getitem__(self, idx):\n",
    "        img_path = self.image_paths[idx]\n",
    "        mask_path = self.mask_paths[idx]\n",
    "\n",
    "        image = Image.open(img_path).convert(\"RGB\")\n",
    "        mask = Image.open(mask_path).convert(\"L\")\n",
    "\n",
    "        if self.transform:\n",
    "            image = self.transform(image)\n",
    "            mask = transforms.Resize((256, 256))(mask)\n",
    "            mask = transforms.ToTensor()(mask)\n",
    "\n",
    "        return image, mask\n",
    "\n",
    "# Define transformations\n",
    "train_transform = transforms.Compose([\n",
    "    transforms.Resize((256, 256)),\n",
    "    transforms.RandomHorizontalFlip(p=0.5),\n",
    "    transforms.RandomRotation(degrees=15),\n",
    "    transforms.ColorJitter(brightness=0.2, contrast=0.2, saturation=0.2, hue=0.1),\n",
    "    transforms.RandomAffine(degrees=0, translate=(0.1, 0.1)),\n",
    "    transforms.RandomPerspective(distortion_scale=0.2, p=0.5),\n",
    "    transforms.ToTensor(),\n",
    "])\n",
    "\n",
    "val_test_transform = transforms.Compose([\n",
    "    transforms.Resize((256, 256)),\n",
    "    transforms.ToTensor(),\n",
    "])\n",
    "\n",
    "# Load dataset paths\n",
    "image_dir = \"/kaggle/input/kvasir-seg/Kvasir-SEG/images\"\n",
    "mask_dir = \"/kaggle/input/kvasir-seg/Kvasir-SEG/masks\"\n",
    "\n",
    "images = sorted(os.listdir(image_dir))\n",
    "masks = sorted(os.listdir(mask_dir))\n",
    "\n",
    "image_paths = [os.path.join(image_dir, img) for img in images]\n",
    "mask_paths = [os.path.join(mask_dir, mask) for mask in masks]\n",
    "\n",
    "# Split into train (85%), validation (10%), and test (5%)\n",
    "train_imgs, temp_imgs, train_masks, temp_masks = train_test_split(image_paths, mask_paths, test_size=0.15, random_state=42)\n",
    "val_imgs, test_imgs, val_masks, test_masks = train_test_split(temp_imgs, temp_masks, test_size=0.3333, random_state=42)\n",
    "\n",
    "# Initialize datasets\n",
    "train_dataset = SegmentationDataset(train_imgs, train_masks, transform=train_transform)\n",
    "val_dataset = SegmentationDataset(val_imgs, val_masks, transform=val_test_transform)\n",
    "test_dataset = SegmentationDataset(test_imgs, test_masks, transform=val_test_transform)\n",
    "\n",
    "# Create DataLoaders\n",
    "train_loader = DataLoader(train_dataset, batch_size=8, shuffle=True)\n",
    "val_loader = DataLoader(val_dataset, batch_size=8, shuffle=False)\n",
    "test_loader = DataLoader(test_dataset, batch_size=8, shuffle=False)\n"
   ]
  },
  {
   "cell_type": "code",
   "execution_count": 2,
   "id": "d24f4d37",
   "metadata": {
    "execution": {
     "iopub.execute_input": "2025-03-25T03:32:09.495879Z",
     "iopub.status.busy": "2025-03-25T03:32:09.495483Z",
     "iopub.status.idle": "2025-03-25T03:32:11.644518Z",
     "shell.execute_reply": "2025-03-25T03:32:11.643405Z"
    },
    "papermill": {
     "duration": 2.153521,
     "end_time": "2025-03-25T03:32:11.646246",
     "exception": false,
     "start_time": "2025-03-25T03:32:09.492725",
     "status": "completed"
    },
    "tags": []
   },
   "outputs": [
    {
     "name": "stdout",
     "output_type": "stream",
     "text": [
      "Output 1 shape: torch.Size([1, 1, 256, 256])\n",
      "Output 2 shape: torch.Size([1, 1, 256, 256])\n",
      "Output 3 shape: torch.Size([1, 1, 256, 256])\n",
      "Output 4 shape: torch.Size([1, 1, 256, 256])\n"
     ]
    }
   ],
   "source": [
    "import torch\n",
    "import torch.nn as nn\n",
    "import torch.nn.functional as F\n",
    "\n",
    "# --- Residual ConvBlock ---\n",
    "class ResidualConvBlock(nn.Module):\n",
    "    def __init__(self, in_channels, out_channels, dropout=0.0):\n",
    "        super().__init__()\n",
    "        self.conv = nn.Sequential(\n",
    "            nn.Conv2d(in_channels, out_channels, 3, padding=1),\n",
    "            nn.BatchNorm2d(out_channels),\n",
    "            nn.ReLU(inplace=True),\n",
    "            nn.Dropout2d(dropout),\n",
    "            nn.Conv2d(out_channels, out_channels, 3, padding=1),\n",
    "            nn.BatchNorm2d(out_channels),\n",
    "        )\n",
    "        self.relu = nn.ReLU(inplace=True)\n",
    "        self.skip = nn.Conv2d(in_channels, out_channels, 1) if in_channels != out_channels else nn.Identity()\n",
    "\n",
    "    def forward(self, x):\n",
    "        residual = self.skip(x)\n",
    "        out = self.conv(x)\n",
    "        return self.relu(out + residual)\n",
    "\n",
    "# --- Attention Block ---\n",
    "class AttentionBlock(nn.Module):\n",
    "    def __init__(self, f_g, f_l, f_int):\n",
    "        super().__init__()\n",
    "        self.W_g = nn.Sequential(nn.Conv2d(f_g, f_int, 1), nn.BatchNorm2d(f_int))\n",
    "        self.W_x = nn.Sequential(nn.Conv2d(f_l, f_int, 1), nn.BatchNorm2d(f_int))\n",
    "        self.psi = nn.Sequential(nn.Conv2d(f_int, 1, 1), nn.BatchNorm2d(1), nn.Sigmoid())\n",
    "        self.relu = nn.ReLU(inplace=True)\n",
    "\n",
    "    def forward(self, g, x):\n",
    "        return x * self.psi(self.relu(self.W_g(g) + self.W_x(x)))\n",
    "\n",
    "# --- CBAM ---\n",
    "class ChannelAttention(nn.Module):\n",
    "    def __init__(self, in_planes, ratio=8):\n",
    "        super().__init__()\n",
    "        self.avg_pool = nn.AdaptiveAvgPool2d(1)\n",
    "        self.max_pool = nn.AdaptiveMaxPool2d(1)\n",
    "        self.shared_MLP = nn.Sequential(\n",
    "            nn.Conv2d(in_planes, in_planes // ratio, 1, bias=False),\n",
    "            nn.ReLU(),\n",
    "            nn.Conv2d(in_planes // ratio, in_planes, 1, bias=False)\n",
    "        )\n",
    "        self.sigmoid = nn.Sigmoid()\n",
    "\n",
    "    def forward(self, x):\n",
    "        return self.sigmoid(self.shared_MLP(self.avg_pool(x)) + self.shared_MLP(self.max_pool(x)))\n",
    "\n",
    "class SpatialAttention(nn.Module):\n",
    "    def __init__(self, kernel_size=7):\n",
    "        super().__init__()\n",
    "        padding = kernel_size // 2\n",
    "        self.conv = nn.Conv2d(2, 1, kernel_size, padding=padding, bias=False)\n",
    "        self.sigmoid = nn.Sigmoid()\n",
    "\n",
    "    def forward(self, x):\n",
    "        avg_out = torch.mean(x, dim=1, keepdim=True)\n",
    "        max_out, _ = torch.max(x, dim=1, keepdim=True)\n",
    "        return self.sigmoid(self.conv(torch.cat([avg_out, max_out], dim=1)))\n",
    "\n",
    "class CBAM(nn.Module):\n",
    "    def __init__(self, channels, reduction=8, spatial_kernel=7):\n",
    "        super().__init__()\n",
    "        self.ca = ChannelAttention(channels, reduction)\n",
    "        self.sa = SpatialAttention(spatial_kernel)\n",
    "\n",
    "    def forward(self, x):\n",
    "        return x * self.ca(x) * self.sa(x)\n",
    "\n",
    "# --- Up + Conv ---\n",
    "class UpConv(nn.Module):\n",
    "    def __init__(self, in_channels, out_channels):\n",
    "        super().__init__()\n",
    "        self.up = nn.Sequential(\n",
    "            nn.Upsample(scale_factor=2, mode='bilinear', align_corners=True),\n",
    "            nn.Conv2d(in_channels, out_channels, 3, padding=1),\n",
    "            nn.ReLU(inplace=True)\n",
    "        )\n",
    "\n",
    "    def forward(self, x):\n",
    "        return self.up(x)\n",
    "\n",
    "# --- Morphological BRM ---\n",
    "class MorphologicalGradientBRM(nn.Module):\n",
    "    def __init__(self, kernel_size=3):\n",
    "        super().__init__()\n",
    "        padding = kernel_size // 2\n",
    "        self.dilate = nn.MaxPool2d(kernel_size, stride=1, padding=padding)\n",
    "        self.erode = nn.MaxPool2d(kernel_size, stride=1, padding=padding)\n",
    "\n",
    "    def forward(self, x):\n",
    "        dilation = self.dilate(x)\n",
    "        erosion = -self.erode(-x)\n",
    "        boundary = dilation - erosion\n",
    "        return x + boundary\n",
    "\n",
    "# --- Edge Enhancement Module ---\n",
    "class EdgeEnhancement(nn.Module):\n",
    "    def __init__(self):\n",
    "        super().__init__()\n",
    "        # Laplacian filter\n",
    "        laplacian_kernel = torch.tensor([[0,  1,  0],\n",
    "                                         [1, -4,  1],\n",
    "                                         [0,  1,  0]], dtype=torch.float32).unsqueeze(0).unsqueeze(0)\n",
    "        self.register_buffer('laplacian_kernel', laplacian_kernel)\n",
    "\n",
    "        # Sobel filters\n",
    "        sobel_x = torch.tensor([[-1, 0, 1], \n",
    "                                [-2, 0, 2], \n",
    "                                [-1, 0, 1]], dtype=torch.float32).unsqueeze(0).unsqueeze(0)\n",
    "        sobel_y = torch.tensor([[-1, -2, -1], \n",
    "                                [0,  0,  0], \n",
    "                                [1,  2,  1]], dtype=torch.float32).unsqueeze(0).unsqueeze(0)\n",
    "        self.register_buffer('sobel_x', sobel_x)\n",
    "        self.register_buffer('sobel_y', sobel_y)\n",
    "\n",
    "    def forward(self, x):\n",
    "        laplacian = F.conv2d(x, self.laplacian_kernel, padding=1)\n",
    "        sobel_x = F.conv2d(x, self.sobel_x, padding=1)\n",
    "        sobel_y = F.conv2d(x, self.sobel_y, padding=1)\n",
    "        \n",
    "        sobel = torch.sqrt(sobel_x ** 2 + sobel_y ** 2)  # Gradient magnitude\n",
    "        edge_enhanced = x + laplacian + sobel  # Combine edges with original feature maps\n",
    "        \n",
    "        return edge_enhanced\n",
    "\n",
    "\n",
    "# --- Boundary Attention Module ---\n",
    "class BoundaryAttentionModule(nn.Module):\n",
    "    def __init__(self, in_channels):\n",
    "        super().__init__()\n",
    "        self.att = nn.Sequential(\n",
    "            nn.Conv2d(in_channels, in_channels // 2, 1),\n",
    "            nn.BatchNorm2d(in_channels // 2),\n",
    "            nn.ReLU(inplace=True),\n",
    "            nn.Conv2d(in_channels // 2, 1, 1),\n",
    "            nn.Sigmoid()\n",
    "        )\n",
    "\n",
    "    def forward(self, x):\n",
    "        return x * self.att(x)\n",
    "\n",
    "# --- Attention UNet++ Full Boundary-Aware ---\n",
    "class AttentionUNetPlusPlus(nn.Module):\n",
    "    def __init__(self, in_channels=1, out_channels=1, feature_scale=1, dropout=0.0):\n",
    "        super().__init__()\n",
    "\n",
    "        filters = [int(x / feature_scale) for x in [64, 128, 256, 512, 1024]]\n",
    "        self.pool = nn.MaxPool2d(2, 2)\n",
    "\n",
    "        # Encoder\n",
    "        self.encoder1 = ResidualConvBlock(in_channels, filters[0], dropout)\n",
    "        self.encoder2 = ResidualConvBlock(filters[0], filters[1], dropout)\n",
    "        self.encoder3 = ResidualConvBlock(filters[1], filters[2], dropout)\n",
    "        self.encoder4 = ResidualConvBlock(filters[2], filters[3], dropout)\n",
    "        self.center = ResidualConvBlock(filters[3], filters[4], dropout)\n",
    "\n",
    "        # Decoder\n",
    "        self.up4 = UpConv(filters[4], filters[3])\n",
    "        self.att4 = AttentionBlock(filters[3], filters[3], filters[2])\n",
    "        self.dec4 = ResidualConvBlock(filters[4], filters[3], dropout)\n",
    "        self.cbam4 = CBAM(filters[3])\n",
    "        self.bam4 = BoundaryAttentionModule(filters[3])\n",
    "\n",
    "        self.up3 = UpConv(filters[3], filters[2])\n",
    "        self.att3 = AttentionBlock(filters[2], filters[2], filters[1])\n",
    "        self.dec3 = ResidualConvBlock(filters[3], filters[2], dropout)\n",
    "        self.cbam3 = CBAM(filters[2])\n",
    "        self.bam3 = BoundaryAttentionModule(filters[2])\n",
    "\n",
    "        self.up2 = UpConv(filters[2], filters[1])\n",
    "        self.att2 = AttentionBlock(filters[1], filters[1], filters[0])\n",
    "        self.dec2 = ResidualConvBlock(filters[2], filters[1], dropout)\n",
    "        self.cbam2 = CBAM(filters[1])\n",
    "        self.bam2 = BoundaryAttentionModule(filters[1])\n",
    "\n",
    "        self.up1 = UpConv(filters[1], filters[0])\n",
    "        self.att1 = AttentionBlock(filters[0], filters[0], filters[0] // 2)\n",
    "        self.dec1 = ResidualConvBlock(filters[1], filters[0], dropout)\n",
    "        self.cbam1 = CBAM(filters[0])\n",
    "        self.bam1 = BoundaryAttentionModule(filters[0])\n",
    "\n",
    "        # Output layers\n",
    "        self.out1 = nn.Conv2d(filters[0], out_channels, 1)\n",
    "        self.out2 = nn.Conv2d(filters[1], out_channels, 1)\n",
    "        self.out3 = nn.Conv2d(filters[2], out_channels, 1)\n",
    "        self.out4 = nn.Conv2d(filters[3], out_channels, 1)\n",
    "\n",
    "        # Extra modules\n",
    "        self.brm = MorphologicalGradientBRM()\n",
    "        self.edge_enhance = EdgeEnhancement()\n",
    "\n",
    "        # Multi-scale input fusion\n",
    "        self.input_down1 = nn.AvgPool2d(2)\n",
    "        self.input_down2 = nn.AvgPool2d(4)\n",
    "        self.input_down3 = nn.AvgPool2d(8)\n",
    "\n",
    "    def forward(self, x):\n",
    "        # Input fusion\n",
    "        x1 = x\n",
    "        x2 = F.interpolate(self.input_down1(x), size=x.shape[2:], mode='bilinear', align_corners=True)\n",
    "        x3 = F.interpolate(self.input_down2(x), size=x.shape[2:], mode='bilinear', align_corners=True)\n",
    "        x4 = F.interpolate(self.input_down3(x), size=x.shape[2:], mode='bilinear', align_corners=True)\n",
    "        x = (x1 + x2 + x3 + x4) / 4\n",
    "\n",
    "        e1 = self.encoder1(x)\n",
    "        e2 = self.encoder2(self.pool(e1))\n",
    "        e3 = self.encoder3(self.pool(e2))\n",
    "        e4 = self.encoder4(self.pool(e3))\n",
    "        center = self.center(self.pool(e4))\n",
    "\n",
    "        d4 = self.up4(center)\n",
    "        e4 = self.att4(d4, e4)\n",
    "        d4 = self.dec4(torch.cat([d4, e4], dim=1))\n",
    "        d4 = self.bam4(self.cbam4(d4))\n",
    "\n",
    "        d3 = self.up3(d4)\n",
    "        e3 = self.att3(d3, e3)\n",
    "        d3 = self.dec3(torch.cat([d3, e3], dim=1))\n",
    "        d3 = self.bam3(self.cbam3(d3))\n",
    "\n",
    "        d2 = self.up2(d3)\n",
    "        e2 = self.att2(d2, e2)\n",
    "        d2 = self.dec2(torch.cat([d2, e2], dim=1))\n",
    "        d2 = self.bam2(self.cbam2(d2))\n",
    "\n",
    "        d1 = self.up1(d2)\n",
    "        e1 = self.att1(d1, e1)\n",
    "        d1 = self.dec1(torch.cat([d1, e1], dim=1))\n",
    "        d1 = self.bam1(self.cbam1(d1))\n",
    "\n",
    "        out_main = self.out1(d1)\n",
    "        out_main = self.brm(out_main)\n",
    "        out_main = self.edge_enhance(out_main)\n",
    "\n",
    "        out_aux1 = F.interpolate(self.out2(d2), size=out_main.shape[2:], mode='bilinear', align_corners=True)\n",
    "        out_aux2 = F.interpolate(self.out3(d3), size=out_main.shape[2:], mode='bilinear', align_corners=True)\n",
    "        out_aux3 = F.interpolate(self.out4(d4), size=out_main.shape[2:], mode='bilinear', align_corners=True)\n",
    "\n",
    "        return out_main, out_aux1, out_aux2, out_aux3\n",
    "\n",
    "# --- Test the model ---\n",
    "if __name__ == \"__main__\":\n",
    "    model = AttentionUNetPlusPlus(in_channels=1, out_channels=1, dropout=0.1)\n",
    "    x = torch.randn(1, 1, 256, 256)\n",
    "    outputs = model(x)\n",
    "    for i, out in enumerate(outputs):\n",
    "        print(f\"Output {i+1} shape: {out.shape}\")\n"
   ]
  },
  {
   "cell_type": "code",
   "execution_count": 3,
   "id": "699ed392",
   "metadata": {
    "execution": {
     "iopub.execute_input": "2025-03-25T03:32:11.652560Z",
     "iopub.status.busy": "2025-03-25T03:32:11.652246Z",
     "iopub.status.idle": "2025-03-25T03:32:11.655576Z",
     "shell.execute_reply": "2025-03-25T03:32:11.654823Z"
    },
    "papermill": {
     "duration": 0.00797,
     "end_time": "2025-03-25T03:32:11.656984",
     "exception": false,
     "start_time": "2025-03-25T03:32:11.649014",
     "status": "completed"
    },
    "tags": []
   },
   "outputs": [],
   "source": [
    "\n",
    "epochs = 500\n",
    "lr = 1e-4"
   ]
  },
  {
   "cell_type": "code",
   "execution_count": 4,
   "id": "18ea7357",
   "metadata": {
    "execution": {
     "iopub.execute_input": "2025-03-25T03:32:11.664443Z",
     "iopub.status.busy": "2025-03-25T03:32:11.664238Z",
     "iopub.status.idle": "2025-03-25T03:32:12.230994Z",
     "shell.execute_reply": "2025-03-25T03:32:12.230280Z"
    },
    "papermill": {
     "duration": 0.572225,
     "end_time": "2025-03-25T03:32:12.232615",
     "exception": false,
     "start_time": "2025-03-25T03:32:11.660390",
     "status": "completed"
    },
    "tags": []
   },
   "outputs": [],
   "source": [
    "import os\n",
    "import torch\n",
    "import torch.nn as nn\n",
    "import torch.optim as optim\n",
    "from torch.utils.data import DataLoader\n",
    "from torchvision import transforms\n",
    "import matplotlib.pyplot as plt\n",
    "from tqdm import tqdm\n",
    "\n",
    "def visualize_predictions(loader, title, save_path=None):\n",
    "    model.eval()\n",
    "    with torch.no_grad():\n",
    "        inputs, targets = next(iter(loader))\n",
    "        inputs, targets = inputs.to(device), targets.to(device)\n",
    "\n",
    "        raw_outputs = model(inputs)\n",
    "        if isinstance(raw_outputs, tuple):\n",
    "            main_output = raw_outputs[0]\n",
    "        else:\n",
    "            main_output = raw_outputs\n",
    "\n",
    "        outputs = (torch.sigmoid(main_output) > 0.5).float()\n",
    "\n",
    "        fig, axes = plt.subplots(3, 5, figsize=(15, 9))\n",
    "        for i in range(5):\n",
    "            img = inputs[i].cpu().permute(1, 2, 0) if inputs.shape[1] == 3 else inputs[i, 0].cpu()\n",
    "            axes[0, i].imshow(img, cmap='gray' if inputs.shape[1] == 1 else None)\n",
    "            axes[1, i].imshow(targets[i].cpu().squeeze(), cmap='gray')\n",
    "            axes[2, i].imshow(outputs[i].cpu().squeeze(), cmap='gray')\n",
    "            for ax in axes[:, i]:\n",
    "                ax.axis(\"off\")\n",
    "\n",
    "        plt.suptitle(title)\n",
    "        plt.tight_layout()\n",
    "        if save_path:\n",
    "            plt.savefig(save_path)\n",
    "        plt.show()\n",
    "\n",
    "\n",
    "# --- Hyperparameters ---\n",
    "device = torch.device(\"cuda\" if torch.cuda.is_available() else \"cpu\")\n",
    "\n",
    "\n",
    "\n",
    "# --- Model, Optimizer ---\n",
    "model = AttentionUNetPlusPlus(in_channels=3, out_channels=1).to(device)\n",
    "optimizer = optim.Adam(model.parameters(), lr=lr)\n"
   ]
  },
  {
   "cell_type": "code",
   "execution_count": 5,
   "id": "8035e699",
   "metadata": {
    "execution": {
     "iopub.execute_input": "2025-03-25T03:32:12.238054Z",
     "iopub.status.busy": "2025-03-25T03:32:12.237779Z",
     "iopub.status.idle": "2025-03-25T12:52:31.529228Z",
     "shell.execute_reply": "2025-03-25T12:52:31.528269Z"
    },
    "papermill": {
     "duration": 33619.295577,
     "end_time": "2025-03-25T12:52:31.530567",
     "exception": false,
     "start_time": "2025-03-25T03:32:12.234990",
     "status": "completed"
    },
    "tags": []
   },
   "outputs": [
    {
     "name": "stderr",
     "output_type": "stream",
     "text": [
      "Epoch 1/500: 100%|██████████| 107/107 [01:14<00:00,  1.44it/s, loss=1.18, accuracy=0.777]\n"
     ]
    },
    {
     "name": "stdout",
     "output_type": "stream",
     "text": [
      "\n",
      "Epoch 1: Train Loss=1.3615 | Train Acc=0.5883 | Val Loss=1.2614 | Dice=0.3881 | IoU=0.2634 | Accuracy=0.6783\n",
      "\n",
      "✅ Best model saved: checkpoints/best_model_epoch1_dice0.3881.pth\n"
     ]
    },
    {
     "name": "stderr",
     "output_type": "stream",
     "text": [
      "Epoch 2/500: 100%|██████████| 107/107 [01:04<00:00,  1.67it/s, loss=1.09, accuracy=0.784]\n"
     ]
    },
    {
     "name": "stdout",
     "output_type": "stream",
     "text": [
      "\n",
      "Epoch 2: Train Loss=1.2081 | Train Acc=0.7798 | Val Loss=1.1372 | Dice=0.3537 | IoU=0.2399 | Accuracy=0.8295\n",
      "\n"
     ]
    },
    {
     "name": "stderr",
     "output_type": "stream",
     "text": [
      "Epoch 3/500: 100%|██████████| 107/107 [01:04<00:00,  1.66it/s, loss=1.02, accuracy=0.888]\n"
     ]
    },
    {
     "name": "stdout",
     "output_type": "stream",
     "text": [
      "\n",
      "Epoch 3: Train Loss=1.1788 | Train Acc=0.7956 | Val Loss=1.1247 | Dice=0.3894 | IoU=0.2677 | Accuracy=0.8359\n",
      "\n",
      "✅ Best model saved: checkpoints/best_model_epoch3_dice0.3894.pth\n"
     ]
    },
    {
     "name": "stderr",
     "output_type": "stream",
     "text": [
      "Epoch 4/500: 100%|██████████| 107/107 [01:04<00:00,  1.67it/s, loss=1.32, accuracy=0.731]\n"
     ]
    },
    {
     "name": "stdout",
     "output_type": "stream",
     "text": [
      "\n",
      "Epoch 4: Train Loss=1.1702 | Train Acc=0.7960 | Val Loss=1.1431 | Dice=0.3734 | IoU=0.2521 | Accuracy=0.8260\n",
      "\n"
     ]
    },
    {
     "name": "stderr",
     "output_type": "stream",
     "text": [
      "Epoch 5/500: 100%|██████████| 107/107 [01:04<00:00,  1.67it/s, loss=1.15, accuracy=0.741]\n"
     ]
    },
    {
     "name": "stdout",
     "output_type": "stream",
     "text": [
      "\n",
      "Epoch 5: Train Loss=1.1631 | Train Acc=0.7931 | Val Loss=1.1567 | Dice=0.3072 | IoU=0.2026 | Accuracy=0.8307\n",
      "\n"
     ]
    },
    {
     "name": "stderr",
     "output_type": "stream",
     "text": [
      "Epoch 6/500: 100%|██████████| 107/107 [01:03<00:00,  1.67it/s, loss=1.37, accuracy=0.683]\n"
     ]
    },
    {
     "name": "stdout",
     "output_type": "stream",
     "text": [
      "\n",
      "Epoch 6: Train Loss=1.1557 | Train Acc=0.7989 | Val Loss=1.0913 | Dice=0.3949 | IoU=0.2734 | Accuracy=0.8340\n",
      "\n",
      "✅ Best model saved: checkpoints/best_model_epoch6_dice0.3949.pth\n"
     ]
    },
    {
     "name": "stderr",
     "output_type": "stream",
     "text": [
      "Epoch 7/500: 100%|██████████| 107/107 [01:03<00:00,  1.68it/s, loss=1.28, accuracy=0.744]\n"
     ]
    },
    {
     "name": "stdout",
     "output_type": "stream",
     "text": [
      "\n",
      "Epoch 7: Train Loss=1.1548 | Train Acc=0.7988 | Val Loss=1.0747 | Dice=0.4242 | IoU=0.2980 | Accuracy=0.8341\n",
      "\n",
      "✅ Best model saved: checkpoints/best_model_epoch7_dice0.4242.pth\n"
     ]
    },
    {
     "name": "stderr",
     "output_type": "stream",
     "text": [
      "Epoch 8/500: 100%|██████████| 107/107 [01:03<00:00,  1.68it/s, loss=1.21, accuracy=0.743]\n"
     ]
    },
    {
     "name": "stdout",
     "output_type": "stream",
     "text": [
      "\n",
      "Epoch 8: Train Loss=1.1470 | Train Acc=0.8033 | Val Loss=1.0900 | Dice=0.3700 | IoU=0.2538 | Accuracy=0.8339\n",
      "\n"
     ]
    },
    {
     "name": "stderr",
     "output_type": "stream",
     "text": [
      "Epoch 9/500: 100%|██████████| 107/107 [01:03<00:00,  1.68it/s, loss=1.1, accuracy=0.864]\n"
     ]
    },
    {
     "name": "stdout",
     "output_type": "stream",
     "text": [
      "\n",
      "Epoch 9: Train Loss=1.1405 | Train Acc=0.8037 | Val Loss=1.0652 | Dice=0.4733 | IoU=0.3367 | Accuracy=0.8184\n",
      "\n",
      "✅ Best model saved: checkpoints/best_model_epoch9_dice0.4733.pth\n"
     ]
    },
    {
     "name": "stderr",
     "output_type": "stream",
     "text": [
      "Epoch 10/500: 100%|██████████| 107/107 [01:03<00:00,  1.68it/s, loss=0.907, accuracy=0.823]\n"
     ]
    },
    {
     "name": "stdout",
     "output_type": "stream",
     "text": [
      "\n",
      "Epoch 10: Train Loss=1.1400 | Train Acc=0.8028 | Val Loss=1.0611 | Dice=0.4808 | IoU=0.3413 | Accuracy=0.8076\n",
      "\n",
      "✅ Best model saved: checkpoints/best_model_epoch10_dice0.4808.pth\n"
     ]
    },
    {
     "name": "stderr",
     "output_type": "stream",
     "text": [
      "Epoch 11/500: 100%|██████████| 107/107 [01:03<00:00,  1.68it/s, loss=1.3, accuracy=0.778]\n"
     ]
    },
    {
     "name": "stdout",
     "output_type": "stream",
     "text": [
      "\n",
      "Epoch 11: Train Loss=1.1349 | Train Acc=0.8024 | Val Loss=1.0795 | Dice=0.4356 | IoU=0.3048 | Accuracy=0.8362\n",
      "\n"
     ]
    },
    {
     "name": "stderr",
     "output_type": "stream",
     "text": [
      "Epoch 12/500: 100%|██████████| 107/107 [01:04<00:00,  1.67it/s, loss=0.881, accuracy=0.881]\n"
     ]
    },
    {
     "name": "stdout",
     "output_type": "stream",
     "text": [
      "\n",
      "Epoch 12: Train Loss=1.1357 | Train Acc=0.8075 | Val Loss=1.0774 | Dice=0.4151 | IoU=0.2903 | Accuracy=0.8292\n",
      "\n"
     ]
    },
    {
     "name": "stderr",
     "output_type": "stream",
     "text": [
      "Epoch 13/500: 100%|██████████| 107/107 [01:03<00:00,  1.68it/s, loss=1.45, accuracy=0.666]\n"
     ]
    },
    {
     "name": "stdout",
     "output_type": "stream",
     "text": [
      "\n",
      "Epoch 13: Train Loss=1.1344 | Train Acc=0.8060 | Val Loss=1.0242 | Dice=0.4630 | IoU=0.3283 | Accuracy=0.8345\n",
      "\n"
     ]
    },
    {
     "name": "stderr",
     "output_type": "stream",
     "text": [
      "Epoch 14/500: 100%|██████████| 107/107 [01:04<00:00,  1.67it/s, loss=1.12, accuracy=0.805]\n"
     ]
    },
    {
     "name": "stdout",
     "output_type": "stream",
     "text": [
      "\n",
      "Epoch 14: Train Loss=1.1226 | Train Acc=0.8094 | Val Loss=1.0264 | Dice=0.4825 | IoU=0.3450 | Accuracy=0.8219\n",
      "\n",
      "✅ Best model saved: checkpoints/best_model_epoch14_dice0.4825.pth\n"
     ]
    },
    {
     "name": "stderr",
     "output_type": "stream",
     "text": [
      "Epoch 15/500: 100%|██████████| 107/107 [01:04<00:00,  1.66it/s, loss=1.15, accuracy=0.776]\n"
     ]
    },
    {
     "name": "stdout",
     "output_type": "stream",
     "text": [
      "\n",
      "Epoch 15: Train Loss=1.1193 | Train Acc=0.8123 | Val Loss=1.0307 | Dice=0.4893 | IoU=0.3516 | Accuracy=0.8036\n",
      "\n",
      "✅ Best model saved: checkpoints/best_model_epoch15_dice0.4893.pth\n"
     ]
    },
    {
     "name": "stderr",
     "output_type": "stream",
     "text": [
      "Epoch 16/500: 100%|██████████| 107/107 [01:04<00:00,  1.67it/s, loss=1.53, accuracy=0.707]\n"
     ]
    },
    {
     "name": "stdout",
     "output_type": "stream",
     "text": [
      "\n",
      "Epoch 16: Train Loss=1.1205 | Train Acc=0.8085 | Val Loss=1.0643 | Dice=0.4701 | IoU=0.3363 | Accuracy=0.8237\n",
      "\n"
     ]
    },
    {
     "name": "stderr",
     "output_type": "stream",
     "text": [
      "Epoch 17/500: 100%|██████████| 107/107 [01:04<00:00,  1.67it/s, loss=1.27, accuracy=0.795]\n"
     ]
    },
    {
     "name": "stdout",
     "output_type": "stream",
     "text": [
      "\n",
      "Epoch 17: Train Loss=1.1240 | Train Acc=0.8083 | Val Loss=0.9985 | Dice=0.5086 | IoU=0.3710 | Accuracy=0.8433\n",
      "\n",
      "✅ Best model saved: checkpoints/best_model_epoch17_dice0.5086.pth\n"
     ]
    },
    {
     "name": "stderr",
     "output_type": "stream",
     "text": [
      "Epoch 18/500: 100%|██████████| 107/107 [01:04<00:00,  1.67it/s, loss=1.04, accuracy=0.874]\n"
     ]
    },
    {
     "name": "stdout",
     "output_type": "stream",
     "text": [
      "\n",
      "Epoch 18: Train Loss=1.1023 | Train Acc=0.8157 | Val Loss=1.0267 | Dice=0.4990 | IoU=0.3583 | Accuracy=0.8144\n",
      "\n"
     ]
    },
    {
     "name": "stderr",
     "output_type": "stream",
     "text": [
      "Epoch 19/500: 100%|██████████| 107/107 [01:04<00:00,  1.66it/s, loss=1.3, accuracy=0.785]\n"
     ]
    },
    {
     "name": "stdout",
     "output_type": "stream",
     "text": [
      "\n",
      "Epoch 19: Train Loss=1.1129 | Train Acc=0.8120 | Val Loss=1.0148 | Dice=0.4630 | IoU=0.3359 | Accuracy=0.8547\n",
      "\n"
     ]
    },
    {
     "name": "stderr",
     "output_type": "stream",
     "text": [
      "Epoch 20/500: 100%|██████████| 107/107 [01:04<00:00,  1.67it/s, loss=0.905, accuracy=0.906]\n"
     ]
    },
    {
     "name": "stdout",
     "output_type": "stream",
     "text": [
      "\n",
      "Epoch 20: Train Loss=1.0990 | Train Acc=0.8165 | Val Loss=1.0265 | Dice=0.4224 | IoU=0.3000 | Accuracy=0.8538\n",
      "\n"
     ]
    },
    {
     "name": "stderr",
     "output_type": "stream",
     "text": [
      "Epoch 21/500: 100%|██████████| 107/107 [01:04<00:00,  1.67it/s, loss=1.14, accuracy=0.8]\n"
     ]
    },
    {
     "name": "stdout",
     "output_type": "stream",
     "text": [
      "\n",
      "Epoch 21: Train Loss=1.1046 | Train Acc=0.8137 | Val Loss=0.9888 | Dice=0.4433 | IoU=0.3200 | Accuracy=0.8522\n",
      "\n"
     ]
    },
    {
     "name": "stderr",
     "output_type": "stream",
     "text": [
      "Epoch 22/500: 100%|██████████| 107/107 [01:03<00:00,  1.68it/s, loss=1.11, accuracy=0.852]\n"
     ]
    },
    {
     "name": "stdout",
     "output_type": "stream",
     "text": [
      "\n",
      "Epoch 22: Train Loss=1.0984 | Train Acc=0.8192 | Val Loss=0.9798 | Dice=0.4890 | IoU=0.3534 | Accuracy=0.8593\n",
      "\n"
     ]
    },
    {
     "name": "stderr",
     "output_type": "stream",
     "text": [
      "Epoch 23/500: 100%|██████████| 107/107 [01:03<00:00,  1.67it/s, loss=1.21, accuracy=0.81]\n"
     ]
    },
    {
     "name": "stdout",
     "output_type": "stream",
     "text": [
      "\n",
      "Epoch 23: Train Loss=1.0963 | Train Acc=0.8212 | Val Loss=1.0229 | Dice=0.4093 | IoU=0.2880 | Accuracy=0.8457\n",
      "\n"
     ]
    },
    {
     "name": "stderr",
     "output_type": "stream",
     "text": [
      "Epoch 24/500: 100%|██████████| 107/107 [01:03<00:00,  1.68it/s, loss=1.28, accuracy=0.757]\n"
     ]
    },
    {
     "name": "stdout",
     "output_type": "stream",
     "text": [
      "\n",
      "Epoch 24: Train Loss=1.0857 | Train Acc=0.8176 | Val Loss=0.9485 | Dice=0.5025 | IoU=0.3620 | Accuracy=0.8464\n",
      "\n"
     ]
    },
    {
     "name": "stderr",
     "output_type": "stream",
     "text": [
      "Epoch 25/500: 100%|██████████| 107/107 [01:03<00:00,  1.67it/s, loss=0.831, accuracy=0.895]\n"
     ]
    },
    {
     "name": "stdout",
     "output_type": "stream",
     "text": [
      "\n",
      "Epoch 25: Train Loss=1.0795 | Train Acc=0.8210 | Val Loss=0.9433 | Dice=0.4894 | IoU=0.3561 | Accuracy=0.8567\n",
      "\n"
     ]
    },
    {
     "name": "stderr",
     "output_type": "stream",
     "text": [
      "Epoch 26/500: 100%|██████████| 107/107 [01:03<00:00,  1.68it/s, loss=1.23, accuracy=0.813]\n"
     ]
    },
    {
     "name": "stdout",
     "output_type": "stream",
     "text": [
      "\n",
      "Epoch 26: Train Loss=1.0789 | Train Acc=0.8233 | Val Loss=0.9161 | Dice=0.5447 | IoU=0.4045 | Accuracy=0.8626\n",
      "\n",
      "✅ Best model saved: checkpoints/best_model_epoch26_dice0.5447.pth\n"
     ]
    },
    {
     "name": "stderr",
     "output_type": "stream",
     "text": [
      "Epoch 27/500: 100%|██████████| 107/107 [01:03<00:00,  1.67it/s, loss=1.05, accuracy=0.859]\n"
     ]
    },
    {
     "name": "stdout",
     "output_type": "stream",
     "text": [
      "\n",
      "Epoch 27: Train Loss=1.0712 | Train Acc=0.8249 | Val Loss=0.9355 | Dice=0.5429 | IoU=0.3980 | Accuracy=0.8556\n",
      "\n"
     ]
    },
    {
     "name": "stderr",
     "output_type": "stream",
     "text": [
      "Epoch 28/500: 100%|██████████| 107/107 [01:03<00:00,  1.68it/s, loss=1.2, accuracy=0.792]\n"
     ]
    },
    {
     "name": "stdout",
     "output_type": "stream",
     "text": [
      "\n",
      "Epoch 28: Train Loss=1.0614 | Train Acc=0.8272 | Val Loss=0.9549 | Dice=0.5372 | IoU=0.3953 | Accuracy=0.8366\n",
      "\n"
     ]
    },
    {
     "name": "stderr",
     "output_type": "stream",
     "text": [
      "Epoch 29/500: 100%|██████████| 107/107 [01:03<00:00,  1.68it/s, loss=1.24, accuracy=0.771]\n"
     ]
    },
    {
     "name": "stdout",
     "output_type": "stream",
     "text": [
      "\n",
      "Epoch 29: Train Loss=1.0554 | Train Acc=0.8284 | Val Loss=0.9277 | Dice=0.5676 | IoU=0.4222 | Accuracy=0.8565\n",
      "\n",
      "✅ Best model saved: checkpoints/best_model_epoch29_dice0.5676.pth\n"
     ]
    },
    {
     "name": "stderr",
     "output_type": "stream",
     "text": [
      "Epoch 30/500: 100%|██████████| 107/107 [01:03<00:00,  1.68it/s, loss=0.868, accuracy=0.882]\n"
     ]
    },
    {
     "name": "stdout",
     "output_type": "stream",
     "text": [
      "\n",
      "Epoch 30: Train Loss=1.0558 | Train Acc=0.8283 | Val Loss=0.8999 | Dice=0.5652 | IoU=0.4249 | Accuracy=0.8604\n",
      "\n"
     ]
    },
    {
     "name": "stderr",
     "output_type": "stream",
     "text": [
      "Epoch 31/500: 100%|██████████| 107/107 [01:03<00:00,  1.68it/s, loss=0.99, accuracy=0.84]\n"
     ]
    },
    {
     "name": "stdout",
     "output_type": "stream",
     "text": [
      "\n",
      "Epoch 31: Train Loss=1.0474 | Train Acc=0.8301 | Val Loss=0.9291 | Dice=0.5408 | IoU=0.4014 | Accuracy=0.8509\n",
      "\n"
     ]
    },
    {
     "name": "stderr",
     "output_type": "stream",
     "text": [
      "Epoch 32/500: 100%|██████████| 107/107 [01:04<00:00,  1.67it/s, loss=0.794, accuracy=0.872]\n"
     ]
    },
    {
     "name": "stdout",
     "output_type": "stream",
     "text": [
      "\n",
      "Epoch 32: Train Loss=1.0324 | Train Acc=0.8338 | Val Loss=1.0041 | Dice=0.5152 | IoU=0.3768 | Accuracy=0.8046\n",
      "\n"
     ]
    },
    {
     "name": "stderr",
     "output_type": "stream",
     "text": [
      "Epoch 33/500: 100%|██████████| 107/107 [01:04<00:00,  1.66it/s, loss=1.16, accuracy=0.788]\n"
     ]
    },
    {
     "name": "stdout",
     "output_type": "stream",
     "text": [
      "\n",
      "Epoch 33: Train Loss=1.0401 | Train Acc=0.8316 | Val Loss=0.8842 | Dice=0.5740 | IoU=0.4321 | Accuracy=0.8606\n",
      "\n",
      "✅ Best model saved: checkpoints/best_model_epoch33_dice0.5740.pth\n"
     ]
    },
    {
     "name": "stderr",
     "output_type": "stream",
     "text": [
      "Epoch 34/500: 100%|██████████| 107/107 [01:04<00:00,  1.66it/s, loss=1.16, accuracy=0.821]\n"
     ]
    },
    {
     "name": "stdout",
     "output_type": "stream",
     "text": [
      "\n",
      "Epoch 34: Train Loss=1.0323 | Train Acc=0.8348 | Val Loss=0.9360 | Dice=0.5251 | IoU=0.3855 | Accuracy=0.8627\n",
      "\n"
     ]
    },
    {
     "name": "stderr",
     "output_type": "stream",
     "text": [
      "Epoch 35/500: 100%|██████████| 107/107 [01:04<00:00,  1.66it/s, loss=0.844, accuracy=0.832]\n"
     ]
    },
    {
     "name": "stdout",
     "output_type": "stream",
     "text": [
      "\n",
      "Epoch 35: Train Loss=1.0100 | Train Acc=0.8373 | Val Loss=0.8653 | Dice=0.5921 | IoU=0.4477 | Accuracy=0.8640\n",
      "\n",
      "✅ Best model saved: checkpoints/best_model_epoch35_dice0.5921.pth\n"
     ]
    },
    {
     "name": "stderr",
     "output_type": "stream",
     "text": [
      "Epoch 36/500: 100%|██████████| 107/107 [01:04<00:00,  1.66it/s, loss=1.07, accuracy=0.849]\n"
     ]
    },
    {
     "name": "stdout",
     "output_type": "stream",
     "text": [
      "\n",
      "Epoch 36: Train Loss=1.0111 | Train Acc=0.8371 | Val Loss=0.8493 | Dice=0.5976 | IoU=0.4540 | Accuracy=0.8758\n",
      "\n",
      "✅ Best model saved: checkpoints/best_model_epoch36_dice0.5976.pth\n"
     ]
    },
    {
     "name": "stderr",
     "output_type": "stream",
     "text": [
      "Epoch 37/500: 100%|██████████| 107/107 [01:04<00:00,  1.66it/s, loss=1.37, accuracy=0.711]\n"
     ]
    },
    {
     "name": "stdout",
     "output_type": "stream",
     "text": [
      "\n",
      "Epoch 37: Train Loss=1.0061 | Train Acc=0.8395 | Val Loss=0.8658 | Dice=0.5896 | IoU=0.4454 | Accuracy=0.8688\n",
      "\n"
     ]
    },
    {
     "name": "stderr",
     "output_type": "stream",
     "text": [
      "Epoch 38/500: 100%|██████████| 107/107 [01:04<00:00,  1.67it/s, loss=1.18, accuracy=0.756]\n"
     ]
    },
    {
     "name": "stdout",
     "output_type": "stream",
     "text": [
      "\n",
      "Epoch 38: Train Loss=0.9920 | Train Acc=0.8415 | Val Loss=0.8505 | Dice=0.5910 | IoU=0.4407 | Accuracy=0.8729\n",
      "\n"
     ]
    },
    {
     "name": "stderr",
     "output_type": "stream",
     "text": [
      "Epoch 39/500: 100%|██████████| 107/107 [01:04<00:00,  1.67it/s, loss=0.845, accuracy=0.839]\n"
     ]
    },
    {
     "name": "stdout",
     "output_type": "stream",
     "text": [
      "\n",
      "Epoch 39: Train Loss=0.9918 | Train Acc=0.8407 | Val Loss=0.8165 | Dice=0.5964 | IoU=0.4540 | Accuracy=0.8850\n",
      "\n"
     ]
    },
    {
     "name": "stderr",
     "output_type": "stream",
     "text": [
      "Epoch 40/500: 100%|██████████| 107/107 [01:04<00:00,  1.67it/s, loss=1.13, accuracy=0.833]\n"
     ]
    },
    {
     "name": "stdout",
     "output_type": "stream",
     "text": [
      "\n",
      "Epoch 40: Train Loss=0.9789 | Train Acc=0.8429 | Val Loss=0.8033 | Dice=0.6250 | IoU=0.4786 | Accuracy=0.8808\n",
      "\n",
      "✅ Best model saved: checkpoints/best_model_epoch40_dice0.6250.pth\n"
     ]
    },
    {
     "name": "stderr",
     "output_type": "stream",
     "text": [
      "Epoch 41/500: 100%|██████████| 107/107 [01:04<00:00,  1.67it/s, loss=0.876, accuracy=0.861]\n"
     ]
    },
    {
     "name": "stdout",
     "output_type": "stream",
     "text": [
      "\n",
      "Epoch 41: Train Loss=0.9757 | Train Acc=0.8456 | Val Loss=0.8409 | Dice=0.5832 | IoU=0.4382 | Accuracy=0.8756\n",
      "\n"
     ]
    },
    {
     "name": "stderr",
     "output_type": "stream",
     "text": [
      "Epoch 42/500: 100%|██████████| 107/107 [01:04<00:00,  1.67it/s, loss=0.901, accuracy=0.855]\n"
     ]
    },
    {
     "name": "stdout",
     "output_type": "stream",
     "text": [
      "\n",
      "Epoch 42: Train Loss=0.9827 | Train Acc=0.8436 | Val Loss=0.8359 | Dice=0.5902 | IoU=0.4451 | Accuracy=0.8771\n",
      "\n"
     ]
    },
    {
     "name": "stderr",
     "output_type": "stream",
     "text": [
      "Epoch 43/500: 100%|██████████| 107/107 [01:04<00:00,  1.67it/s, loss=1.21, accuracy=0.723]\n"
     ]
    },
    {
     "name": "stdout",
     "output_type": "stream",
     "text": [
      "\n",
      "Epoch 43: Train Loss=0.9534 | Train Acc=0.8504 | Val Loss=0.7870 | Dice=0.6279 | IoU=0.4836 | Accuracy=0.8892\n",
      "\n",
      "✅ Best model saved: checkpoints/best_model_epoch43_dice0.6279.pth\n"
     ]
    },
    {
     "name": "stderr",
     "output_type": "stream",
     "text": [
      "Epoch 44/500: 100%|██████████| 107/107 [01:04<00:00,  1.67it/s, loss=0.936, accuracy=0.846]\n"
     ]
    },
    {
     "name": "stdout",
     "output_type": "stream",
     "text": [
      "\n",
      "Epoch 44: Train Loss=0.9544 | Train Acc=0.8494 | Val Loss=0.7800 | Dice=0.6308 | IoU=0.4871 | Accuracy=0.8914\n",
      "\n",
      "✅ Best model saved: checkpoints/best_model_epoch44_dice0.6308.pth\n"
     ]
    },
    {
     "name": "stderr",
     "output_type": "stream",
     "text": [
      "Epoch 45/500: 100%|██████████| 107/107 [01:04<00:00,  1.67it/s, loss=0.796, accuracy=0.872]\n"
     ]
    },
    {
     "name": "stdout",
     "output_type": "stream",
     "text": [
      "\n",
      "Epoch 45: Train Loss=0.9439 | Train Acc=0.8519 | Val Loss=0.8509 | Dice=0.5787 | IoU=0.4317 | Accuracy=0.8653\n",
      "\n"
     ]
    },
    {
     "name": "stderr",
     "output_type": "stream",
     "text": [
      "Epoch 46/500: 100%|██████████| 107/107 [01:04<00:00,  1.67it/s, loss=0.698, accuracy=0.924]\n"
     ]
    },
    {
     "name": "stdout",
     "output_type": "stream",
     "text": [
      "\n",
      "Epoch 46: Train Loss=0.9138 | Train Acc=0.8595 | Val Loss=0.8283 | Dice=0.5751 | IoU=0.4344 | Accuracy=0.8855\n",
      "\n"
     ]
    },
    {
     "name": "stderr",
     "output_type": "stream",
     "text": [
      "Epoch 47/500: 100%|██████████| 107/107 [01:04<00:00,  1.67it/s, loss=0.843, accuracy=0.855]\n"
     ]
    },
    {
     "name": "stdout",
     "output_type": "stream",
     "text": [
      "\n",
      "Epoch 47: Train Loss=0.9196 | Train Acc=0.8581 | Val Loss=0.7978 | Dice=0.6129 | IoU=0.4697 | Accuracy=0.8839\n",
      "\n"
     ]
    },
    {
     "name": "stderr",
     "output_type": "stream",
     "text": [
      "Epoch 48/500: 100%|██████████| 107/107 [01:03<00:00,  1.67it/s, loss=1.11, accuracy=0.851]\n"
     ]
    },
    {
     "name": "stdout",
     "output_type": "stream",
     "text": [
      "\n",
      "Epoch 48: Train Loss=0.9178 | Train Acc=0.8601 | Val Loss=0.7954 | Dice=0.5931 | IoU=0.4515 | Accuracy=0.8859\n",
      "\n"
     ]
    },
    {
     "name": "stderr",
     "output_type": "stream",
     "text": [
      "Epoch 49/500: 100%|██████████| 107/107 [01:04<00:00,  1.67it/s, loss=0.773, accuracy=0.9]\n"
     ]
    },
    {
     "name": "stdout",
     "output_type": "stream",
     "text": [
      "\n",
      "Epoch 49: Train Loss=0.9076 | Train Acc=0.8627 | Val Loss=0.7921 | Dice=0.6365 | IoU=0.4931 | Accuracy=0.8739\n",
      "\n",
      "✅ Best model saved: checkpoints/best_model_epoch49_dice0.6365.pth\n"
     ]
    },
    {
     "name": "stderr",
     "output_type": "stream",
     "text": [
      "Epoch 50/500: 100%|██████████| 107/107 [01:04<00:00,  1.67it/s, loss=0.982, accuracy=0.845]\n"
     ]
    },
    {
     "name": "stdout",
     "output_type": "stream",
     "text": [
      "\n",
      "Epoch 50: Train Loss=0.8889 | Train Acc=0.8675 | Val Loss=0.7642 | Dice=0.6411 | IoU=0.4994 | Accuracy=0.8858\n",
      "\n",
      "✅ Best model saved: checkpoints/best_model_epoch50_dice0.6411.pth\n"
     ]
    },
    {
     "name": "stderr",
     "output_type": "stream",
     "text": [
      "Epoch 51/500: 100%|██████████| 107/107 [01:03<00:00,  1.67it/s, loss=1.41, accuracy=0.76]\n"
     ]
    },
    {
     "name": "stdout",
     "output_type": "stream",
     "text": [
      "\n",
      "Epoch 51: Train Loss=0.8765 | Train Acc=0.8674 | Val Loss=0.8088 | Dice=0.6041 | IoU=0.4577 | Accuracy=0.8748\n",
      "\n"
     ]
    },
    {
     "name": "stderr",
     "output_type": "stream",
     "text": [
      "Epoch 52/500: 100%|██████████| 107/107 [01:04<00:00,  1.66it/s, loss=1.03, accuracy=0.876]\n"
     ]
    },
    {
     "name": "stdout",
     "output_type": "stream",
     "text": [
      "\n",
      "Epoch 52: Train Loss=0.8754 | Train Acc=0.8690 | Val Loss=0.7661 | Dice=0.6411 | IoU=0.5048 | Accuracy=0.8812\n",
      "\n"
     ]
    },
    {
     "name": "stderr",
     "output_type": "stream",
     "text": [
      "Epoch 53/500: 100%|██████████| 107/107 [01:04<00:00,  1.67it/s, loss=0.67, accuracy=0.913]\n"
     ]
    },
    {
     "name": "stdout",
     "output_type": "stream",
     "text": [
      "\n",
      "Epoch 53: Train Loss=0.8598 | Train Acc=0.8729 | Val Loss=0.7276 | Dice=0.6484 | IoU=0.5043 | Accuracy=0.8944\n",
      "\n",
      "✅ Best model saved: checkpoints/best_model_epoch53_dice0.6484.pth\n"
     ]
    },
    {
     "name": "stderr",
     "output_type": "stream",
     "text": [
      "Epoch 54/500: 100%|██████████| 107/107 [01:04<00:00,  1.67it/s, loss=0.967, accuracy=0.884]\n"
     ]
    },
    {
     "name": "stdout",
     "output_type": "stream",
     "text": [
      "\n",
      "Epoch 54: Train Loss=0.8492 | Train Acc=0.8750 | Val Loss=0.7209 | Dice=0.6699 | IoU=0.5278 | Accuracy=0.8951\n",
      "\n",
      "✅ Best model saved: checkpoints/best_model_epoch54_dice0.6699.pth\n"
     ]
    },
    {
     "name": "stderr",
     "output_type": "stream",
     "text": [
      "Epoch 55/500: 100%|██████████| 107/107 [01:04<00:00,  1.67it/s, loss=1.07, accuracy=0.866]\n"
     ]
    },
    {
     "name": "stdout",
     "output_type": "stream",
     "text": [
      "\n",
      "Epoch 55: Train Loss=0.8450 | Train Acc=0.8762 | Val Loss=0.7090 | Dice=0.6686 | IoU=0.5317 | Accuracy=0.9012\n",
      "\n"
     ]
    },
    {
     "name": "stderr",
     "output_type": "stream",
     "text": [
      "Epoch 56/500: 100%|██████████| 107/107 [01:04<00:00,  1.67it/s, loss=1.15, accuracy=0.863]\n"
     ]
    },
    {
     "name": "stdout",
     "output_type": "stream",
     "text": [
      "\n",
      "Epoch 56: Train Loss=0.8183 | Train Acc=0.8827 | Val Loss=0.7948 | Dice=0.6198 | IoU=0.4775 | Accuracy=0.8802\n",
      "\n"
     ]
    },
    {
     "name": "stderr",
     "output_type": "stream",
     "text": [
      "Epoch 57/500: 100%|██████████| 107/107 [01:04<00:00,  1.67it/s, loss=0.576, accuracy=0.945]\n"
     ]
    },
    {
     "name": "stdout",
     "output_type": "stream",
     "text": [
      "\n",
      "Epoch 57: Train Loss=0.8167 | Train Acc=0.8826 | Val Loss=0.7346 | Dice=0.6254 | IoU=0.4840 | Accuracy=0.8955\n",
      "\n"
     ]
    },
    {
     "name": "stderr",
     "output_type": "stream",
     "text": [
      "Epoch 58/500: 100%|██████████| 107/107 [01:04<00:00,  1.67it/s, loss=1.43, accuracy=0.812]\n"
     ]
    },
    {
     "name": "stdout",
     "output_type": "stream",
     "text": [
      "\n",
      "Epoch 58: Train Loss=0.7987 | Train Acc=0.8883 | Val Loss=0.8654 | Dice=0.4707 | IoU=0.3272 | Accuracy=0.8687\n",
      "\n"
     ]
    },
    {
     "name": "stderr",
     "output_type": "stream",
     "text": [
      "Epoch 59/500: 100%|██████████| 107/107 [01:03<00:00,  1.68it/s, loss=0.815, accuracy=0.913]\n"
     ]
    },
    {
     "name": "stdout",
     "output_type": "stream",
     "text": [
      "\n",
      "Epoch 59: Train Loss=0.8043 | Train Acc=0.8852 | Val Loss=0.7310 | Dice=0.6150 | IoU=0.4709 | Accuracy=0.8949\n",
      "\n"
     ]
    },
    {
     "name": "stderr",
     "output_type": "stream",
     "text": [
      "Epoch 60/500: 100%|██████████| 107/107 [01:04<00:00,  1.67it/s, loss=1.23, accuracy=0.873]\n"
     ]
    },
    {
     "name": "stdout",
     "output_type": "stream",
     "text": [
      "\n",
      "Epoch 60: Train Loss=0.7990 | Train Acc=0.8874 | Val Loss=0.8348 | Dice=0.5490 | IoU=0.4033 | Accuracy=0.8820\n",
      "\n"
     ]
    },
    {
     "name": "stderr",
     "output_type": "stream",
     "text": [
      "Epoch 61/500: 100%|██████████| 107/107 [01:03<00:00,  1.68it/s, loss=0.618, accuracy=0.931]\n"
     ]
    },
    {
     "name": "stdout",
     "output_type": "stream",
     "text": [
      "\n",
      "Epoch 61: Train Loss=0.7914 | Train Acc=0.8876 | Val Loss=0.6819 | Dice=0.6675 | IoU=0.5236 | Accuracy=0.9041\n",
      "\n"
     ]
    },
    {
     "name": "stderr",
     "output_type": "stream",
     "text": [
      "Epoch 62/500: 100%|██████████| 107/107 [01:03<00:00,  1.68it/s, loss=0.636, accuracy=0.904]\n"
     ]
    },
    {
     "name": "stdout",
     "output_type": "stream",
     "text": [
      "\n",
      "Epoch 62: Train Loss=0.7718 | Train Acc=0.8923 | Val Loss=0.7079 | Dice=0.6479 | IoU=0.5040 | Accuracy=0.9010\n",
      "\n"
     ]
    },
    {
     "name": "stderr",
     "output_type": "stream",
     "text": [
      "Epoch 63/500: 100%|██████████| 107/107 [01:03<00:00,  1.67it/s, loss=0.589, accuracy=0.942]\n"
     ]
    },
    {
     "name": "stdout",
     "output_type": "stream",
     "text": [
      "\n",
      "Epoch 63: Train Loss=0.7795 | Train Acc=0.8913 | Val Loss=0.6789 | Dice=0.6676 | IoU=0.5293 | Accuracy=0.9043\n",
      "\n"
     ]
    },
    {
     "name": "stderr",
     "output_type": "stream",
     "text": [
      "Epoch 64/500: 100%|██████████| 107/107 [01:03<00:00,  1.68it/s, loss=0.662, accuracy=0.908]\n"
     ]
    },
    {
     "name": "stdout",
     "output_type": "stream",
     "text": [
      "\n",
      "Epoch 64: Train Loss=0.7528 | Train Acc=0.8961 | Val Loss=0.6718 | Dice=0.6824 | IoU=0.5464 | Accuracy=0.9072\n",
      "\n",
      "✅ Best model saved: checkpoints/best_model_epoch64_dice0.6824.pth\n"
     ]
    },
    {
     "name": "stderr",
     "output_type": "stream",
     "text": [
      "Epoch 65/500: 100%|██████████| 107/107 [01:04<00:00,  1.67it/s, loss=0.709, accuracy=0.93]\n"
     ]
    },
    {
     "name": "stdout",
     "output_type": "stream",
     "text": [
      "\n",
      "Epoch 65: Train Loss=0.7569 | Train Acc=0.8950 | Val Loss=0.6426 | Dice=0.6999 | IoU=0.5669 | Accuracy=0.9118\n",
      "\n",
      "✅ Best model saved: checkpoints/best_model_epoch65_dice0.6999.pth\n"
     ]
    },
    {
     "name": "stderr",
     "output_type": "stream",
     "text": [
      "Epoch 66/500: 100%|██████████| 107/107 [01:03<00:00,  1.68it/s, loss=0.55, accuracy=0.943]\n"
     ]
    },
    {
     "name": "stdout",
     "output_type": "stream",
     "text": [
      "\n",
      "Epoch 66: Train Loss=0.7453 | Train Acc=0.8964 | Val Loss=0.6473 | Dice=0.6940 | IoU=0.5605 | Accuracy=0.9138\n",
      "\n"
     ]
    },
    {
     "name": "stderr",
     "output_type": "stream",
     "text": [
      "Epoch 67/500: 100%|██████████| 107/107 [01:03<00:00,  1.68it/s, loss=0.785, accuracy=0.884]\n"
     ]
    },
    {
     "name": "stdout",
     "output_type": "stream",
     "text": [
      "\n",
      "Epoch 67: Train Loss=0.7410 | Train Acc=0.8980 | Val Loss=0.6394 | Dice=0.6969 | IoU=0.5624 | Accuracy=0.9137\n",
      "\n"
     ]
    },
    {
     "name": "stderr",
     "output_type": "stream",
     "text": [
      "Epoch 68/500: 100%|██████████| 107/107 [01:03<00:00,  1.67it/s, loss=1.22, accuracy=0.825]\n"
     ]
    },
    {
     "name": "stdout",
     "output_type": "stream",
     "text": [
      "\n",
      "Epoch 68: Train Loss=0.7441 | Train Acc=0.8982 | Val Loss=0.6430 | Dice=0.6977 | IoU=0.5636 | Accuracy=0.9102\n",
      "\n"
     ]
    },
    {
     "name": "stderr",
     "output_type": "stream",
     "text": [
      "Epoch 69/500: 100%|██████████| 107/107 [01:04<00:00,  1.67it/s, loss=1.57, accuracy=0.776]\n"
     ]
    },
    {
     "name": "stdout",
     "output_type": "stream",
     "text": [
      "\n",
      "Epoch 69: Train Loss=0.7306 | Train Acc=0.8997 | Val Loss=0.7013 | Dice=0.6497 | IoU=0.5086 | Accuracy=0.9057\n",
      "\n"
     ]
    },
    {
     "name": "stderr",
     "output_type": "stream",
     "text": [
      "Epoch 70/500: 100%|██████████| 107/107 [01:03<00:00,  1.68it/s, loss=0.964, accuracy=0.854]\n"
     ]
    },
    {
     "name": "stdout",
     "output_type": "stream",
     "text": [
      "\n",
      "Epoch 70: Train Loss=0.7312 | Train Acc=0.8992 | Val Loss=0.6873 | Dice=0.6750 | IoU=0.5351 | Accuracy=0.9020\n",
      "\n"
     ]
    },
    {
     "name": "stderr",
     "output_type": "stream",
     "text": [
      "Epoch 71/500: 100%|██████████| 107/107 [01:03<00:00,  1.67it/s, loss=0.83, accuracy=0.895]\n"
     ]
    },
    {
     "name": "stdout",
     "output_type": "stream",
     "text": [
      "\n",
      "Epoch 71: Train Loss=0.7319 | Train Acc=0.9001 | Val Loss=0.6212 | Dice=0.7100 | IoU=0.5769 | Accuracy=0.9164\n",
      "\n",
      "✅ Best model saved: checkpoints/best_model_epoch71_dice0.7100.pth\n"
     ]
    },
    {
     "name": "stderr",
     "output_type": "stream",
     "text": [
      "Epoch 72/500: 100%|██████████| 107/107 [01:04<00:00,  1.66it/s, loss=0.781, accuracy=0.899]\n"
     ]
    },
    {
     "name": "stdout",
     "output_type": "stream",
     "text": [
      "\n",
      "Epoch 72: Train Loss=0.7154 | Train Acc=0.9020 | Val Loss=0.6332 | Dice=0.6923 | IoU=0.5575 | Accuracy=0.9143\n",
      "\n"
     ]
    },
    {
     "name": "stderr",
     "output_type": "stream",
     "text": [
      "Epoch 73/500: 100%|██████████| 107/107 [01:04<00:00,  1.66it/s, loss=0.593, accuracy=0.921]\n"
     ]
    },
    {
     "name": "stdout",
     "output_type": "stream",
     "text": [
      "\n",
      "Epoch 73: Train Loss=0.7011 | Train Acc=0.9059 | Val Loss=0.6199 | Dice=0.7079 | IoU=0.5762 | Accuracy=0.9143\n",
      "\n"
     ]
    },
    {
     "name": "stderr",
     "output_type": "stream",
     "text": [
      "Epoch 74/500: 100%|██████████| 107/107 [01:04<00:00,  1.67it/s, loss=0.785, accuracy=0.867]\n"
     ]
    },
    {
     "name": "stdout",
     "output_type": "stream",
     "text": [
      "\n",
      "Epoch 74: Train Loss=0.6969 | Train Acc=0.9064 | Val Loss=0.6323 | Dice=0.7000 | IoU=0.5655 | Accuracy=0.9154\n",
      "\n"
     ]
    },
    {
     "name": "stderr",
     "output_type": "stream",
     "text": [
      "Epoch 75/500: 100%|██████████| 107/107 [01:04<00:00,  1.67it/s, loss=0.564, accuracy=0.95]\n"
     ]
    },
    {
     "name": "stdout",
     "output_type": "stream",
     "text": [
      "\n",
      "Epoch 75: Train Loss=0.7044 | Train Acc=0.9048 | Val Loss=0.6578 | Dice=0.6585 | IoU=0.5221 | Accuracy=0.9122\n",
      "\n"
     ]
    },
    {
     "name": "stderr",
     "output_type": "stream",
     "text": [
      "Epoch 76/500: 100%|██████████| 107/107 [01:04<00:00,  1.66it/s, loss=1.29, accuracy=0.826]\n"
     ]
    },
    {
     "name": "stdout",
     "output_type": "stream",
     "text": [
      "\n",
      "Epoch 76: Train Loss=0.6907 | Train Acc=0.9076 | Val Loss=0.6781 | Dice=0.6637 | IoU=0.5211 | Accuracy=0.9091\n",
      "\n"
     ]
    },
    {
     "name": "stderr",
     "output_type": "stream",
     "text": [
      "Epoch 77/500: 100%|██████████| 107/107 [01:04<00:00,  1.67it/s, loss=0.805, accuracy=0.918]\n"
     ]
    },
    {
     "name": "stdout",
     "output_type": "stream",
     "text": [
      "\n",
      "Epoch 77: Train Loss=0.7052 | Train Acc=0.9043 | Val Loss=0.6383 | Dice=0.7042 | IoU=0.5728 | Accuracy=0.9134\n",
      "\n"
     ]
    },
    {
     "name": "stderr",
     "output_type": "stream",
     "text": [
      "Epoch 78/500: 100%|██████████| 107/107 [01:04<00:00,  1.66it/s, loss=0.703, accuracy=0.932]\n"
     ]
    },
    {
     "name": "stdout",
     "output_type": "stream",
     "text": [
      "\n",
      "Epoch 78: Train Loss=0.6645 | Train Acc=0.9134 | Val Loss=0.6930 | Dice=0.6688 | IoU=0.5309 | Accuracy=0.8981\n",
      "\n"
     ]
    },
    {
     "name": "stderr",
     "output_type": "stream",
     "text": [
      "Epoch 79/500: 100%|██████████| 107/107 [01:04<00:00,  1.66it/s, loss=0.636, accuracy=0.891]\n"
     ]
    },
    {
     "name": "stdout",
     "output_type": "stream",
     "text": [
      "\n",
      "Epoch 79: Train Loss=0.6806 | Train Acc=0.9081 | Val Loss=0.6495 | Dice=0.6820 | IoU=0.5422 | Accuracy=0.9135\n",
      "\n"
     ]
    },
    {
     "name": "stderr",
     "output_type": "stream",
     "text": [
      "Epoch 80/500: 100%|██████████| 107/107 [01:04<00:00,  1.67it/s, loss=0.716, accuracy=0.879]\n"
     ]
    },
    {
     "name": "stdout",
     "output_type": "stream",
     "text": [
      "\n",
      "Epoch 80: Train Loss=0.6626 | Train Acc=0.9127 | Val Loss=0.6461 | Dice=0.6982 | IoU=0.5645 | Accuracy=0.9121\n",
      "\n"
     ]
    },
    {
     "name": "stderr",
     "output_type": "stream",
     "text": [
      "Epoch 81/500: 100%|██████████| 107/107 [01:04<00:00,  1.67it/s, loss=0.72, accuracy=0.915]\n"
     ]
    },
    {
     "name": "stdout",
     "output_type": "stream",
     "text": [
      "\n",
      "Epoch 81: Train Loss=0.6695 | Train Acc=0.9106 | Val Loss=0.6097 | Dice=0.7146 | IoU=0.5862 | Accuracy=0.9200\n",
      "\n",
      "✅ Best model saved: checkpoints/best_model_epoch81_dice0.7146.pth\n"
     ]
    },
    {
     "name": "stderr",
     "output_type": "stream",
     "text": [
      "Epoch 82/500: 100%|██████████| 107/107 [01:03<00:00,  1.67it/s, loss=0.52, accuracy=0.959]\n"
     ]
    },
    {
     "name": "stdout",
     "output_type": "stream",
     "text": [
      "\n",
      "Epoch 82: Train Loss=0.6549 | Train Acc=0.9147 | Val Loss=0.6667 | Dice=0.6848 | IoU=0.5444 | Accuracy=0.9106\n",
      "\n"
     ]
    },
    {
     "name": "stderr",
     "output_type": "stream",
     "text": [
      "Epoch 83/500: 100%|██████████| 107/107 [01:03<00:00,  1.67it/s, loss=0.837, accuracy=0.894]\n"
     ]
    },
    {
     "name": "stdout",
     "output_type": "stream",
     "text": [
      "\n",
      "Epoch 83: Train Loss=0.6604 | Train Acc=0.9117 | Val Loss=0.7151 | Dice=0.6513 | IoU=0.5101 | Accuracy=0.9069\n",
      "\n"
     ]
    },
    {
     "name": "stderr",
     "output_type": "stream",
     "text": [
      "Epoch 84/500: 100%|██████████| 107/107 [01:04<00:00,  1.67it/s, loss=0.824, accuracy=0.908]\n"
     ]
    },
    {
     "name": "stdout",
     "output_type": "stream",
     "text": [
      "\n",
      "Epoch 84: Train Loss=0.6518 | Train Acc=0.9139 | Val Loss=0.6835 | Dice=0.6649 | IoU=0.5239 | Accuracy=0.9081\n",
      "\n"
     ]
    },
    {
     "name": "stderr",
     "output_type": "stream",
     "text": [
      "Epoch 85/500: 100%|██████████| 107/107 [01:03<00:00,  1.67it/s, loss=0.629, accuracy=0.95]\n"
     ]
    },
    {
     "name": "stdout",
     "output_type": "stream",
     "text": [
      "\n",
      "Epoch 85: Train Loss=0.6444 | Train Acc=0.9168 | Val Loss=0.6582 | Dice=0.6982 | IoU=0.5676 | Accuracy=0.9074\n",
      "\n"
     ]
    },
    {
     "name": "stderr",
     "output_type": "stream",
     "text": [
      "Epoch 86/500: 100%|██████████| 107/107 [01:04<00:00,  1.67it/s, loss=0.631, accuracy=0.964]\n"
     ]
    },
    {
     "name": "stdout",
     "output_type": "stream",
     "text": [
      "\n",
      "Epoch 86: Train Loss=0.6413 | Train Acc=0.9173 | Val Loss=0.6993 | Dice=0.6451 | IoU=0.5009 | Accuracy=0.9060\n",
      "\n"
     ]
    },
    {
     "name": "stderr",
     "output_type": "stream",
     "text": [
      "Epoch 87/500: 100%|██████████| 107/107 [01:04<00:00,  1.67it/s, loss=0.498, accuracy=0.92]\n"
     ]
    },
    {
     "name": "stdout",
     "output_type": "stream",
     "text": [
      "\n",
      "Epoch 87: Train Loss=0.6402 | Train Acc=0.9167 | Val Loss=0.6816 | Dice=0.6910 | IoU=0.5530 | Accuracy=0.9041\n",
      "\n"
     ]
    },
    {
     "name": "stderr",
     "output_type": "stream",
     "text": [
      "Epoch 88/500: 100%|██████████| 107/107 [01:04<00:00,  1.67it/s, loss=0.519, accuracy=0.938]\n"
     ]
    },
    {
     "name": "stdout",
     "output_type": "stream",
     "text": [
      "\n",
      "Epoch 88: Train Loss=0.6247 | Train Acc=0.9195 | Val Loss=0.5987 | Dice=0.7245 | IoU=0.5952 | Accuracy=0.9225\n",
      "\n",
      "✅ Best model saved: checkpoints/best_model_epoch88_dice0.7245.pth\n"
     ]
    },
    {
     "name": "stderr",
     "output_type": "stream",
     "text": [
      "Epoch 89/500: 100%|██████████| 107/107 [01:04<00:00,  1.67it/s, loss=0.478, accuracy=0.962]\n"
     ]
    },
    {
     "name": "stdout",
     "output_type": "stream",
     "text": [
      "\n",
      "Epoch 89: Train Loss=0.6288 | Train Acc=0.9189 | Val Loss=0.6184 | Dice=0.7123 | IoU=0.5801 | Accuracy=0.9169\n",
      "\n"
     ]
    },
    {
     "name": "stderr",
     "output_type": "stream",
     "text": [
      "Epoch 90/500: 100%|██████████| 107/107 [01:04<00:00,  1.67it/s, loss=0.827, accuracy=0.885]\n"
     ]
    },
    {
     "name": "stdout",
     "output_type": "stream",
     "text": [
      "\n",
      "Epoch 90: Train Loss=0.6238 | Train Acc=0.9189 | Val Loss=0.6220 | Dice=0.7033 | IoU=0.5666 | Accuracy=0.9171\n",
      "\n"
     ]
    },
    {
     "name": "stderr",
     "output_type": "stream",
     "text": [
      "Epoch 91/500: 100%|██████████| 107/107 [01:04<00:00,  1.67it/s, loss=0.444, accuracy=0.935]\n"
     ]
    },
    {
     "name": "stdout",
     "output_type": "stream",
     "text": [
      "\n",
      "Epoch 91: Train Loss=0.6259 | Train Acc=0.9199 | Val Loss=0.6085 | Dice=0.7094 | IoU=0.5747 | Accuracy=0.9181\n",
      "\n"
     ]
    },
    {
     "name": "stderr",
     "output_type": "stream",
     "text": [
      "Epoch 92/500: 100%|██████████| 107/107 [01:03<00:00,  1.67it/s, loss=0.527, accuracy=0.971]\n"
     ]
    },
    {
     "name": "stdout",
     "output_type": "stream",
     "text": [
      "\n",
      "Epoch 92: Train Loss=0.6147 | Train Acc=0.9214 | Val Loss=0.7075 | Dice=0.6597 | IoU=0.5191 | Accuracy=0.9067\n",
      "\n"
     ]
    },
    {
     "name": "stderr",
     "output_type": "stream",
     "text": [
      "Epoch 93/500: 100%|██████████| 107/107 [01:04<00:00,  1.67it/s, loss=0.792, accuracy=0.862]\n"
     ]
    },
    {
     "name": "stdout",
     "output_type": "stream",
     "text": [
      "\n",
      "Epoch 93: Train Loss=0.6194 | Train Acc=0.9206 | Val Loss=0.6486 | Dice=0.6925 | IoU=0.5618 | Accuracy=0.9156\n",
      "\n"
     ]
    },
    {
     "name": "stderr",
     "output_type": "stream",
     "text": [
      "Epoch 94/500: 100%|██████████| 107/107 [01:04<00:00,  1.67it/s, loss=1.08, accuracy=0.732]\n"
     ]
    },
    {
     "name": "stdout",
     "output_type": "stream",
     "text": [
      "\n",
      "Epoch 94: Train Loss=0.6363 | Train Acc=0.9157 | Val Loss=0.6049 | Dice=0.7179 | IoU=0.5881 | Accuracy=0.9198\n",
      "\n"
     ]
    },
    {
     "name": "stderr",
     "output_type": "stream",
     "text": [
      "Epoch 95/500: 100%|██████████| 107/107 [01:04<00:00,  1.66it/s, loss=0.464, accuracy=0.942]\n"
     ]
    },
    {
     "name": "stdout",
     "output_type": "stream",
     "text": [
      "\n",
      "Epoch 95: Train Loss=0.6218 | Train Acc=0.9186 | Val Loss=0.6295 | Dice=0.7076 | IoU=0.5793 | Accuracy=0.9154\n",
      "\n"
     ]
    },
    {
     "name": "stderr",
     "output_type": "stream",
     "text": [
      "Epoch 96/500: 100%|██████████| 107/107 [01:04<00:00,  1.67it/s, loss=0.523, accuracy=0.95]\n"
     ]
    },
    {
     "name": "stdout",
     "output_type": "stream",
     "text": [
      "\n",
      "Epoch 96: Train Loss=0.6002 | Train Acc=0.9247 | Val Loss=0.6862 | Dice=0.6645 | IoU=0.5243 | Accuracy=0.9128\n",
      "\n"
     ]
    },
    {
     "name": "stderr",
     "output_type": "stream",
     "text": [
      "Epoch 97/500: 100%|██████████| 107/107 [01:04<00:00,  1.67it/s, loss=0.666, accuracy=0.937]\n"
     ]
    },
    {
     "name": "stdout",
     "output_type": "stream",
     "text": [
      "\n",
      "Epoch 97: Train Loss=0.5973 | Train Acc=0.9244 | Val Loss=0.5914 | Dice=0.7335 | IoU=0.6062 | Accuracy=0.9217\n",
      "\n",
      "✅ Best model saved: checkpoints/best_model_epoch97_dice0.7335.pth\n"
     ]
    },
    {
     "name": "stderr",
     "output_type": "stream",
     "text": [
      "Epoch 98/500: 100%|██████████| 107/107 [01:04<00:00,  1.66it/s, loss=0.587, accuracy=0.939]\n"
     ]
    },
    {
     "name": "stdout",
     "output_type": "stream",
     "text": [
      "\n",
      "Epoch 98: Train Loss=0.6043 | Train Acc=0.9235 | Val Loss=0.6401 | Dice=0.7018 | IoU=0.5702 | Accuracy=0.9188\n",
      "\n"
     ]
    },
    {
     "name": "stderr",
     "output_type": "stream",
     "text": [
      "Epoch 99/500: 100%|██████████| 107/107 [01:04<00:00,  1.67it/s, loss=0.593, accuracy=0.918]\n"
     ]
    },
    {
     "name": "stdout",
     "output_type": "stream",
     "text": [
      "\n",
      "Epoch 99: Train Loss=0.5928 | Train Acc=0.9247 | Val Loss=0.6032 | Dice=0.7138 | IoU=0.5841 | Accuracy=0.9222\n",
      "\n"
     ]
    },
    {
     "name": "stderr",
     "output_type": "stream",
     "text": [
      "Epoch 100/500: 100%|██████████| 107/107 [01:03<00:00,  1.67it/s, loss=0.6, accuracy=0.921]\n"
     ]
    },
    {
     "name": "stdout",
     "output_type": "stream",
     "text": [
      "\n",
      "Epoch 100: Train Loss=0.5977 | Train Acc=0.9241 | Val Loss=0.6062 | Dice=0.7149 | IoU=0.5858 | Accuracy=0.9217\n",
      "\n"
     ]
    },
    {
     "name": "stderr",
     "output_type": "stream",
     "text": [
      "Epoch 101/500: 100%|██████████| 107/107 [01:03<00:00,  1.67it/s, loss=0.475, accuracy=0.93]\n"
     ]
    },
    {
     "name": "stdout",
     "output_type": "stream",
     "text": [
      "\n",
      "Epoch 101: Train Loss=0.5992 | Train Acc=0.9234 | Val Loss=0.5697 | Dice=0.7396 | IoU=0.6108 | Accuracy=0.9274\n",
      "\n",
      "✅ Best model saved: checkpoints/best_model_epoch101_dice0.7396.pth\n"
     ]
    },
    {
     "name": "stderr",
     "output_type": "stream",
     "text": [
      "Epoch 102/500: 100%|██████████| 107/107 [01:04<00:00,  1.67it/s, loss=0.457, accuracy=0.942]\n"
     ]
    },
    {
     "name": "stdout",
     "output_type": "stream",
     "text": [
      "\n",
      "Epoch 102: Train Loss=0.5885 | Train Acc=0.9255 | Val Loss=0.5915 | Dice=0.7268 | IoU=0.5977 | Accuracy=0.9242\n",
      "\n"
     ]
    },
    {
     "name": "stderr",
     "output_type": "stream",
     "text": [
      "Epoch 103/500: 100%|██████████| 107/107 [01:03<00:00,  1.67it/s, loss=0.417, accuracy=0.945]\n"
     ]
    },
    {
     "name": "stdout",
     "output_type": "stream",
     "text": [
      "\n",
      "Epoch 103: Train Loss=0.5842 | Train Acc=0.9269 | Val Loss=0.5795 | Dice=0.7390 | IoU=0.6118 | Accuracy=0.9259\n",
      "\n"
     ]
    },
    {
     "name": "stderr",
     "output_type": "stream",
     "text": [
      "Epoch 104/500: 100%|██████████| 107/107 [01:04<00:00,  1.67it/s, loss=0.419, accuracy=0.959]\n"
     ]
    },
    {
     "name": "stdout",
     "output_type": "stream",
     "text": [
      "\n",
      "Epoch 104: Train Loss=0.5781 | Train Acc=0.9276 | Val Loss=0.5801 | Dice=0.7316 | IoU=0.6027 | Accuracy=0.9251\n",
      "\n"
     ]
    },
    {
     "name": "stderr",
     "output_type": "stream",
     "text": [
      "Epoch 105/500: 100%|██████████| 107/107 [01:03<00:00,  1.67it/s, loss=0.487, accuracy=0.932]\n"
     ]
    },
    {
     "name": "stdout",
     "output_type": "stream",
     "text": [
      "\n",
      "Epoch 105: Train Loss=0.5783 | Train Acc=0.9275 | Val Loss=0.6155 | Dice=0.7007 | IoU=0.5678 | Accuracy=0.9222\n",
      "\n"
     ]
    },
    {
     "name": "stderr",
     "output_type": "stream",
     "text": [
      "Epoch 106/500: 100%|██████████| 107/107 [01:03<00:00,  1.68it/s, loss=0.627, accuracy=0.916]\n"
     ]
    },
    {
     "name": "stdout",
     "output_type": "stream",
     "text": [
      "\n",
      "Epoch 106: Train Loss=0.5693 | Train Acc=0.9286 | Val Loss=0.6446 | Dice=0.6945 | IoU=0.5592 | Accuracy=0.9181\n",
      "\n"
     ]
    },
    {
     "name": "stderr",
     "output_type": "stream",
     "text": [
      "Epoch 107/500: 100%|██████████| 107/107 [01:03<00:00,  1.67it/s, loss=0.883, accuracy=0.94]\n"
     ]
    },
    {
     "name": "stdout",
     "output_type": "stream",
     "text": [
      "\n",
      "Epoch 107: Train Loss=0.5796 | Train Acc=0.9278 | Val Loss=0.6136 | Dice=0.7096 | IoU=0.5776 | Accuracy=0.9211\n",
      "\n"
     ]
    },
    {
     "name": "stderr",
     "output_type": "stream",
     "text": [
      "Epoch 108/500: 100%|██████████| 107/107 [01:03<00:00,  1.67it/s, loss=0.553, accuracy=0.953]\n"
     ]
    },
    {
     "name": "stdout",
     "output_type": "stream",
     "text": [
      "\n",
      "Epoch 108: Train Loss=0.5777 | Train Acc=0.9277 | Val Loss=0.6410 | Dice=0.7081 | IoU=0.5785 | Accuracy=0.9156\n",
      "\n"
     ]
    },
    {
     "name": "stderr",
     "output_type": "stream",
     "text": [
      "Epoch 109/500: 100%|██████████| 107/107 [01:04<00:00,  1.67it/s, loss=0.586, accuracy=0.931]\n"
     ]
    },
    {
     "name": "stdout",
     "output_type": "stream",
     "text": [
      "\n",
      "Epoch 109: Train Loss=0.5721 | Train Acc=0.9283 | Val Loss=0.5802 | Dice=0.7389 | IoU=0.6118 | Accuracy=0.9251\n",
      "\n"
     ]
    },
    {
     "name": "stderr",
     "output_type": "stream",
     "text": [
      "Epoch 110/500: 100%|██████████| 107/107 [01:04<00:00,  1.66it/s, loss=0.8, accuracy=0.878]\n"
     ]
    },
    {
     "name": "stdout",
     "output_type": "stream",
     "text": [
      "\n",
      "Epoch 110: Train Loss=0.5571 | Train Acc=0.9306 | Val Loss=0.6091 | Dice=0.7263 | IoU=0.6011 | Accuracy=0.9184\n",
      "\n"
     ]
    },
    {
     "name": "stderr",
     "output_type": "stream",
     "text": [
      "Epoch 111/500: 100%|██████████| 107/107 [01:04<00:00,  1.67it/s, loss=0.577, accuracy=0.935]\n"
     ]
    },
    {
     "name": "stdout",
     "output_type": "stream",
     "text": [
      "\n",
      "Epoch 111: Train Loss=0.5784 | Train Acc=0.9274 | Val Loss=0.5700 | Dice=0.7368 | IoU=0.6141 | Accuracy=0.9279\n",
      "\n"
     ]
    },
    {
     "name": "stderr",
     "output_type": "stream",
     "text": [
      "Epoch 112/500: 100%|██████████| 107/107 [01:04<00:00,  1.67it/s, loss=0.431, accuracy=0.929]\n"
     ]
    },
    {
     "name": "stdout",
     "output_type": "stream",
     "text": [
      "\n",
      "Epoch 112: Train Loss=0.5697 | Train Acc=0.9290 | Val Loss=0.6660 | Dice=0.7003 | IoU=0.5715 | Accuracy=0.9092\n",
      "\n"
     ]
    },
    {
     "name": "stderr",
     "output_type": "stream",
     "text": [
      "Epoch 113/500: 100%|██████████| 107/107 [01:04<00:00,  1.66it/s, loss=0.816, accuracy=0.807]\n"
     ]
    },
    {
     "name": "stdout",
     "output_type": "stream",
     "text": [
      "\n",
      "Epoch 113: Train Loss=0.5708 | Train Acc=0.9282 | Val Loss=0.5729 | Dice=0.7435 | IoU=0.6178 | Accuracy=0.9245\n",
      "\n",
      "✅ Best model saved: checkpoints/best_model_epoch113_dice0.7435.pth\n"
     ]
    },
    {
     "name": "stderr",
     "output_type": "stream",
     "text": [
      "Epoch 114/500: 100%|██████████| 107/107 [01:04<00:00,  1.66it/s, loss=0.639, accuracy=0.9]\n"
     ]
    },
    {
     "name": "stdout",
     "output_type": "stream",
     "text": [
      "\n",
      "Epoch 114: Train Loss=0.5663 | Train Acc=0.9288 | Val Loss=0.6305 | Dice=0.7139 | IoU=0.5865 | Accuracy=0.9178\n",
      "\n"
     ]
    },
    {
     "name": "stderr",
     "output_type": "stream",
     "text": [
      "Epoch 115/500: 100%|██████████| 107/107 [01:04<00:00,  1.65it/s, loss=0.73, accuracy=0.946]\n"
     ]
    },
    {
     "name": "stdout",
     "output_type": "stream",
     "text": [
      "\n",
      "Epoch 115: Train Loss=0.5616 | Train Acc=0.9306 | Val Loss=0.6163 | Dice=0.7121 | IoU=0.5794 | Accuracy=0.9185\n",
      "\n"
     ]
    },
    {
     "name": "stderr",
     "output_type": "stream",
     "text": [
      "Epoch 116/500: 100%|██████████| 107/107 [01:04<00:00,  1.66it/s, loss=0.464, accuracy=0.893]\n"
     ]
    },
    {
     "name": "stdout",
     "output_type": "stream",
     "text": [
      "\n",
      "Epoch 116: Train Loss=0.5574 | Train Acc=0.9310 | Val Loss=0.6050 | Dice=0.7190 | IoU=0.5922 | Accuracy=0.9231\n",
      "\n"
     ]
    },
    {
     "name": "stderr",
     "output_type": "stream",
     "text": [
      "Epoch 117/500: 100%|██████████| 107/107 [01:04<00:00,  1.66it/s, loss=0.577, accuracy=0.929]\n"
     ]
    },
    {
     "name": "stdout",
     "output_type": "stream",
     "text": [
      "\n",
      "Epoch 117: Train Loss=0.5544 | Train Acc=0.9313 | Val Loss=0.6371 | Dice=0.7113 | IoU=0.5862 | Accuracy=0.9214\n",
      "\n"
     ]
    },
    {
     "name": "stderr",
     "output_type": "stream",
     "text": [
      "Epoch 118/500: 100%|██████████| 107/107 [01:04<00:00,  1.66it/s, loss=0.584, accuracy=0.957]\n"
     ]
    },
    {
     "name": "stdout",
     "output_type": "stream",
     "text": [
      "\n",
      "Epoch 118: Train Loss=0.5597 | Train Acc=0.9298 | Val Loss=0.6336 | Dice=0.7171 | IoU=0.5881 | Accuracy=0.9223\n",
      "\n"
     ]
    },
    {
     "name": "stderr",
     "output_type": "stream",
     "text": [
      "Epoch 119/500: 100%|██████████| 107/107 [01:04<00:00,  1.66it/s, loss=0.481, accuracy=0.949]\n"
     ]
    },
    {
     "name": "stdout",
     "output_type": "stream",
     "text": [
      "\n",
      "Epoch 119: Train Loss=0.5541 | Train Acc=0.9316 | Val Loss=0.6178 | Dice=0.7160 | IoU=0.5918 | Accuracy=0.9162\n",
      "\n"
     ]
    },
    {
     "name": "stderr",
     "output_type": "stream",
     "text": [
      "Epoch 120/500: 100%|██████████| 107/107 [01:04<00:00,  1.66it/s, loss=0.591, accuracy=0.939]\n"
     ]
    },
    {
     "name": "stdout",
     "output_type": "stream",
     "text": [
      "\n",
      "Epoch 120: Train Loss=0.5485 | Train Acc=0.9324 | Val Loss=0.6027 | Dice=0.7142 | IoU=0.5832 | Accuracy=0.9215\n",
      "\n"
     ]
    },
    {
     "name": "stderr",
     "output_type": "stream",
     "text": [
      "Epoch 121/500: 100%|██████████| 107/107 [01:04<00:00,  1.67it/s, loss=0.448, accuracy=0.957]\n"
     ]
    },
    {
     "name": "stdout",
     "output_type": "stream",
     "text": [
      "\n",
      "Epoch 121: Train Loss=0.5318 | Train Acc=0.9350 | Val Loss=0.6248 | Dice=0.7078 | IoU=0.5742 | Accuracy=0.9188\n",
      "\n"
     ]
    },
    {
     "name": "stderr",
     "output_type": "stream",
     "text": [
      "Epoch 122/500: 100%|██████████| 107/107 [01:04<00:00,  1.66it/s, loss=0.501, accuracy=0.954]\n"
     ]
    },
    {
     "name": "stdout",
     "output_type": "stream",
     "text": [
      "\n",
      "Epoch 122: Train Loss=0.5408 | Train Acc=0.9332 | Val Loss=0.5821 | Dice=0.7390 | IoU=0.6130 | Accuracy=0.9234\n",
      "\n"
     ]
    },
    {
     "name": "stderr",
     "output_type": "stream",
     "text": [
      "Epoch 123/500: 100%|██████████| 107/107 [01:04<00:00,  1.66it/s, loss=0.643, accuracy=0.91]\n"
     ]
    },
    {
     "name": "stdout",
     "output_type": "stream",
     "text": [
      "\n",
      "Epoch 123: Train Loss=0.5344 | Train Acc=0.9346 | Val Loss=0.6012 | Dice=0.7130 | IoU=0.5820 | Accuracy=0.9220\n",
      "\n"
     ]
    },
    {
     "name": "stderr",
     "output_type": "stream",
     "text": [
      "Epoch 124/500: 100%|██████████| 107/107 [01:04<00:00,  1.67it/s, loss=0.456, accuracy=0.948]\n"
     ]
    },
    {
     "name": "stdout",
     "output_type": "stream",
     "text": [
      "\n",
      "Epoch 124: Train Loss=0.5345 | Train Acc=0.9358 | Val Loss=0.6091 | Dice=0.7095 | IoU=0.5805 | Accuracy=0.9226\n",
      "\n"
     ]
    },
    {
     "name": "stderr",
     "output_type": "stream",
     "text": [
      "Epoch 125/500: 100%|██████████| 107/107 [01:04<00:00,  1.67it/s, loss=0.537, accuracy=0.928]\n"
     ]
    },
    {
     "name": "stdout",
     "output_type": "stream",
     "text": [
      "\n",
      "Epoch 125: Train Loss=0.5379 | Train Acc=0.9338 | Val Loss=0.5704 | Dice=0.7436 | IoU=0.6212 | Accuracy=0.9287\n",
      "\n",
      "✅ Best model saved: checkpoints/best_model_epoch125_dice0.7436.pth\n"
     ]
    },
    {
     "name": "stderr",
     "output_type": "stream",
     "text": [
      "Epoch 126/500: 100%|██████████| 107/107 [01:04<00:00,  1.66it/s, loss=0.489, accuracy=0.946]\n"
     ]
    },
    {
     "name": "stdout",
     "output_type": "stream",
     "text": [
      "\n",
      "Epoch 126: Train Loss=0.5264 | Train Acc=0.9363 | Val Loss=0.5779 | Dice=0.7262 | IoU=0.5943 | Accuracy=0.9273\n",
      "\n"
     ]
    },
    {
     "name": "stderr",
     "output_type": "stream",
     "text": [
      "Epoch 127/500: 100%|██████████| 107/107 [01:04<00:00,  1.66it/s, loss=0.394, accuracy=0.943]\n"
     ]
    },
    {
     "name": "stdout",
     "output_type": "stream",
     "text": [
      "\n",
      "Epoch 127: Train Loss=0.5346 | Train Acc=0.9343 | Val Loss=0.5671 | Dice=0.7312 | IoU=0.6016 | Accuracy=0.9275\n",
      "\n"
     ]
    },
    {
     "name": "stderr",
     "output_type": "stream",
     "text": [
      "Epoch 128/500: 100%|██████████| 107/107 [01:04<00:00,  1.66it/s, loss=0.517, accuracy=0.891]\n"
     ]
    },
    {
     "name": "stdout",
     "output_type": "stream",
     "text": [
      "\n",
      "Epoch 128: Train Loss=0.5284 | Train Acc=0.9357 | Val Loss=0.6026 | Dice=0.7297 | IoU=0.6020 | Accuracy=0.9204\n",
      "\n"
     ]
    },
    {
     "name": "stderr",
     "output_type": "stream",
     "text": [
      "Epoch 129/500: 100%|██████████| 107/107 [01:04<00:00,  1.65it/s, loss=0.492, accuracy=0.941]\n"
     ]
    },
    {
     "name": "stdout",
     "output_type": "stream",
     "text": [
      "\n",
      "Epoch 129: Train Loss=0.5301 | Train Acc=0.9356 | Val Loss=0.6051 | Dice=0.7235 | IoU=0.6000 | Accuracy=0.9236\n",
      "\n"
     ]
    },
    {
     "name": "stderr",
     "output_type": "stream",
     "text": [
      "Epoch 130/500: 100%|██████████| 107/107 [01:04<00:00,  1.65it/s, loss=0.629, accuracy=0.915]\n"
     ]
    },
    {
     "name": "stdout",
     "output_type": "stream",
     "text": [
      "\n",
      "Epoch 130: Train Loss=0.5332 | Train Acc=0.9348 | Val Loss=0.6017 | Dice=0.7138 | IoU=0.5828 | Accuracy=0.9235\n",
      "\n"
     ]
    },
    {
     "name": "stderr",
     "output_type": "stream",
     "text": [
      "Epoch 131/500: 100%|██████████| 107/107 [01:04<00:00,  1.66it/s, loss=0.488, accuracy=0.937]\n"
     ]
    },
    {
     "name": "stdout",
     "output_type": "stream",
     "text": [
      "\n",
      "Epoch 131: Train Loss=0.5259 | Train Acc=0.9360 | Val Loss=0.5867 | Dice=0.7282 | IoU=0.5997 | Accuracy=0.9278\n",
      "\n"
     ]
    },
    {
     "name": "stderr",
     "output_type": "stream",
     "text": [
      "Epoch 132/500: 100%|██████████| 107/107 [01:04<00:00,  1.66it/s, loss=0.373, accuracy=0.959]\n"
     ]
    },
    {
     "name": "stdout",
     "output_type": "stream",
     "text": [
      "\n",
      "Epoch 132: Train Loss=0.5289 | Train Acc=0.9362 | Val Loss=0.5930 | Dice=0.7220 | IoU=0.5954 | Accuracy=0.9248\n",
      "\n"
     ]
    },
    {
     "name": "stderr",
     "output_type": "stream",
     "text": [
      "Epoch 133/500: 100%|██████████| 107/107 [01:04<00:00,  1.66it/s, loss=0.567, accuracy=0.925]\n"
     ]
    },
    {
     "name": "stdout",
     "output_type": "stream",
     "text": [
      "\n",
      "Epoch 133: Train Loss=0.5233 | Train Acc=0.9365 | Val Loss=0.6016 | Dice=0.7124 | IoU=0.5789 | Accuracy=0.9213\n",
      "\n"
     ]
    },
    {
     "name": "stderr",
     "output_type": "stream",
     "text": [
      "Epoch 134/500: 100%|██████████| 107/107 [01:04<00:00,  1.67it/s, loss=0.522, accuracy=0.937]\n"
     ]
    },
    {
     "name": "stdout",
     "output_type": "stream",
     "text": [
      "\n",
      "Epoch 134: Train Loss=0.5231 | Train Acc=0.9368 | Val Loss=0.5941 | Dice=0.7269 | IoU=0.5989 | Accuracy=0.9229\n",
      "\n"
     ]
    },
    {
     "name": "stderr",
     "output_type": "stream",
     "text": [
      "Epoch 135/500: 100%|██████████| 107/107 [01:04<00:00,  1.67it/s, loss=0.724, accuracy=0.927]\n"
     ]
    },
    {
     "name": "stdout",
     "output_type": "stream",
     "text": [
      "\n",
      "Epoch 135: Train Loss=0.5231 | Train Acc=0.9368 | Val Loss=0.5585 | Dice=0.7478 | IoU=0.6249 | Accuracy=0.9272\n",
      "\n",
      "✅ Best model saved: checkpoints/best_model_epoch135_dice0.7478.pth\n"
     ]
    },
    {
     "name": "stderr",
     "output_type": "stream",
     "text": [
      "Epoch 136/500: 100%|██████████| 107/107 [01:04<00:00,  1.66it/s, loss=0.463, accuracy=0.955]\n"
     ]
    },
    {
     "name": "stdout",
     "output_type": "stream",
     "text": [
      "\n",
      "Epoch 136: Train Loss=0.5216 | Train Acc=0.9370 | Val Loss=0.5752 | Dice=0.7436 | IoU=0.6176 | Accuracy=0.9270\n",
      "\n"
     ]
    },
    {
     "name": "stderr",
     "output_type": "stream",
     "text": [
      "Epoch 137/500: 100%|██████████| 107/107 [01:04<00:00,  1.66it/s, loss=0.611, accuracy=0.932]\n"
     ]
    },
    {
     "name": "stdout",
     "output_type": "stream",
     "text": [
      "\n",
      "Epoch 137: Train Loss=0.5187 | Train Acc=0.9377 | Val Loss=0.5770 | Dice=0.7248 | IoU=0.5988 | Accuracy=0.9233\n",
      "\n"
     ]
    },
    {
     "name": "stderr",
     "output_type": "stream",
     "text": [
      "Epoch 138/500: 100%|██████████| 107/107 [01:04<00:00,  1.67it/s, loss=0.305, accuracy=0.959]\n"
     ]
    },
    {
     "name": "stdout",
     "output_type": "stream",
     "text": [
      "\n",
      "Epoch 138: Train Loss=0.5132 | Train Acc=0.9377 | Val Loss=0.5633 | Dice=0.7397 | IoU=0.6144 | Accuracy=0.9294\n",
      "\n"
     ]
    },
    {
     "name": "stderr",
     "output_type": "stream",
     "text": [
      "Epoch 139/500: 100%|██████████| 107/107 [01:04<00:00,  1.66it/s, loss=0.471, accuracy=0.956]\n"
     ]
    },
    {
     "name": "stdout",
     "output_type": "stream",
     "text": [
      "\n",
      "Epoch 139: Train Loss=0.5156 | Train Acc=0.9378 | Val Loss=0.5798 | Dice=0.7310 | IoU=0.6034 | Accuracy=0.9247\n",
      "\n"
     ]
    },
    {
     "name": "stderr",
     "output_type": "stream",
     "text": [
      "Epoch 140/500: 100%|██████████| 107/107 [01:04<00:00,  1.67it/s, loss=0.618, accuracy=0.926]\n"
     ]
    },
    {
     "name": "stdout",
     "output_type": "stream",
     "text": [
      "\n",
      "Epoch 140: Train Loss=0.5160 | Train Acc=0.9383 | Val Loss=0.5799 | Dice=0.7234 | IoU=0.5947 | Accuracy=0.9269\n",
      "\n"
     ]
    },
    {
     "name": "stderr",
     "output_type": "stream",
     "text": [
      "Epoch 141/500: 100%|██████████| 107/107 [01:04<00:00,  1.67it/s, loss=0.552, accuracy=0.957]\n"
     ]
    },
    {
     "name": "stdout",
     "output_type": "stream",
     "text": [
      "\n",
      "Epoch 141: Train Loss=0.5163 | Train Acc=0.9378 | Val Loss=0.5933 | Dice=0.7079 | IoU=0.5769 | Accuracy=0.9206\n",
      "\n"
     ]
    },
    {
     "name": "stderr",
     "output_type": "stream",
     "text": [
      "Epoch 142/500: 100%|██████████| 107/107 [01:04<00:00,  1.67it/s, loss=0.494, accuracy=0.937]\n"
     ]
    },
    {
     "name": "stdout",
     "output_type": "stream",
     "text": [
      "\n",
      "Epoch 142: Train Loss=0.5144 | Train Acc=0.9379 | Val Loss=0.6918 | Dice=0.6771 | IoU=0.5419 | Accuracy=0.9097\n",
      "\n"
     ]
    },
    {
     "name": "stderr",
     "output_type": "stream",
     "text": [
      "Epoch 143/500: 100%|██████████| 107/107 [01:04<00:00,  1.66it/s, loss=0.475, accuracy=0.936]\n"
     ]
    },
    {
     "name": "stdout",
     "output_type": "stream",
     "text": [
      "\n",
      "Epoch 143: Train Loss=0.5149 | Train Acc=0.9379 | Val Loss=0.6009 | Dice=0.7275 | IoU=0.6032 | Accuracy=0.9227\n",
      "\n"
     ]
    },
    {
     "name": "stderr",
     "output_type": "stream",
     "text": [
      "Epoch 144/500: 100%|██████████| 107/107 [01:04<00:00,  1.67it/s, loss=0.699, accuracy=0.942]\n"
     ]
    },
    {
     "name": "stdout",
     "output_type": "stream",
     "text": [
      "\n",
      "Epoch 144: Train Loss=0.5103 | Train Acc=0.9388 | Val Loss=0.6130 | Dice=0.7211 | IoU=0.5935 | Accuracy=0.9243\n",
      "\n"
     ]
    },
    {
     "name": "stderr",
     "output_type": "stream",
     "text": [
      "Epoch 145/500: 100%|██████████| 107/107 [01:04<00:00,  1.66it/s, loss=0.457, accuracy=0.955]\n"
     ]
    },
    {
     "name": "stdout",
     "output_type": "stream",
     "text": [
      "\n",
      "Epoch 145: Train Loss=0.5100 | Train Acc=0.9395 | Val Loss=0.5950 | Dice=0.7263 | IoU=0.6017 | Accuracy=0.9241\n",
      "\n"
     ]
    },
    {
     "name": "stderr",
     "output_type": "stream",
     "text": [
      "Epoch 146/500: 100%|██████████| 107/107 [01:04<00:00,  1.66it/s, loss=0.416, accuracy=0.947]\n"
     ]
    },
    {
     "name": "stdout",
     "output_type": "stream",
     "text": [
      "\n",
      "Epoch 146: Train Loss=0.5008 | Train Acc=0.9402 | Val Loss=0.5940 | Dice=0.7159 | IoU=0.5871 | Accuracy=0.9245\n",
      "\n"
     ]
    },
    {
     "name": "stderr",
     "output_type": "stream",
     "text": [
      "Epoch 147/500: 100%|██████████| 107/107 [01:04<00:00,  1.66it/s, loss=0.577, accuracy=0.956]\n"
     ]
    },
    {
     "name": "stdout",
     "output_type": "stream",
     "text": [
      "\n",
      "Epoch 147: Train Loss=0.5003 | Train Acc=0.9408 | Val Loss=0.6346 | Dice=0.6984 | IoU=0.5650 | Accuracy=0.9204\n",
      "\n"
     ]
    },
    {
     "name": "stderr",
     "output_type": "stream",
     "text": [
      "Epoch 148/500: 100%|██████████| 107/107 [01:04<00:00,  1.66it/s, loss=0.446, accuracy=0.92]\n"
     ]
    },
    {
     "name": "stdout",
     "output_type": "stream",
     "text": [
      "\n",
      "Epoch 148: Train Loss=0.5017 | Train Acc=0.9399 | Val Loss=0.5977 | Dice=0.7280 | IoU=0.6013 | Accuracy=0.9232\n",
      "\n"
     ]
    },
    {
     "name": "stderr",
     "output_type": "stream",
     "text": [
      "Epoch 149/500: 100%|██████████| 107/107 [01:04<00:00,  1.66it/s, loss=0.423, accuracy=0.964]\n"
     ]
    },
    {
     "name": "stdout",
     "output_type": "stream",
     "text": [
      "\n",
      "Epoch 149: Train Loss=0.4958 | Train Acc=0.9414 | Val Loss=0.5707 | Dice=0.7395 | IoU=0.6152 | Accuracy=0.9290\n",
      "\n"
     ]
    },
    {
     "name": "stderr",
     "output_type": "stream",
     "text": [
      "Epoch 150/500: 100%|██████████| 107/107 [01:04<00:00,  1.66it/s, loss=0.445, accuracy=0.914]\n"
     ]
    },
    {
     "name": "stdout",
     "output_type": "stream",
     "text": [
      "\n",
      "Epoch 150: Train Loss=0.4972 | Train Acc=0.9403 | Val Loss=0.5693 | Dice=0.7398 | IoU=0.6150 | Accuracy=0.9280\n",
      "\n"
     ]
    },
    {
     "name": "stderr",
     "output_type": "stream",
     "text": [
      "Epoch 151/500: 100%|██████████| 107/107 [01:04<00:00,  1.66it/s, loss=0.413, accuracy=0.962]\n"
     ]
    },
    {
     "name": "stdout",
     "output_type": "stream",
     "text": [
      "\n",
      "Epoch 151: Train Loss=0.4953 | Train Acc=0.9415 | Val Loss=0.6081 | Dice=0.7239 | IoU=0.5942 | Accuracy=0.9191\n",
      "\n"
     ]
    },
    {
     "name": "stderr",
     "output_type": "stream",
     "text": [
      "Epoch 152/500: 100%|██████████| 107/107 [01:04<00:00,  1.67it/s, loss=0.471, accuracy=0.969]\n"
     ]
    },
    {
     "name": "stdout",
     "output_type": "stream",
     "text": [
      "\n",
      "Epoch 152: Train Loss=0.4935 | Train Acc=0.9418 | Val Loss=0.5689 | Dice=0.7395 | IoU=0.6121 | Accuracy=0.9273\n",
      "\n"
     ]
    },
    {
     "name": "stderr",
     "output_type": "stream",
     "text": [
      "Epoch 153/500: 100%|██████████| 107/107 [01:05<00:00,  1.64it/s, loss=0.509, accuracy=0.973]\n"
     ]
    },
    {
     "name": "stdout",
     "output_type": "stream",
     "text": [
      "\n",
      "Epoch 153: Train Loss=0.5001 | Train Acc=0.9400 | Val Loss=0.5834 | Dice=0.7263 | IoU=0.6010 | Accuracy=0.9249\n",
      "\n"
     ]
    },
    {
     "name": "stderr",
     "output_type": "stream",
     "text": [
      "Epoch 154/500: 100%|██████████| 107/107 [01:04<00:00,  1.66it/s, loss=0.525, accuracy=0.905]\n"
     ]
    },
    {
     "name": "stdout",
     "output_type": "stream",
     "text": [
      "\n",
      "Epoch 154: Train Loss=0.4950 | Train Acc=0.9406 | Val Loss=0.5695 | Dice=0.7357 | IoU=0.6064 | Accuracy=0.9290\n",
      "\n"
     ]
    },
    {
     "name": "stderr",
     "output_type": "stream",
     "text": [
      "Epoch 155/500: 100%|██████████| 107/107 [01:04<00:00,  1.66it/s, loss=0.437, accuracy=0.946]\n"
     ]
    },
    {
     "name": "stdout",
     "output_type": "stream",
     "text": [
      "\n",
      "Epoch 155: Train Loss=0.5014 | Train Acc=0.9398 | Val Loss=0.6205 | Dice=0.7190 | IoU=0.5936 | Accuracy=0.9205\n",
      "\n"
     ]
    },
    {
     "name": "stderr",
     "output_type": "stream",
     "text": [
      "Epoch 156/500: 100%|██████████| 107/107 [01:04<00:00,  1.67it/s, loss=0.55, accuracy=0.964]\n"
     ]
    },
    {
     "name": "stdout",
     "output_type": "stream",
     "text": [
      "\n",
      "Epoch 156: Train Loss=0.4973 | Train Acc=0.9406 | Val Loss=0.5956 | Dice=0.7315 | IoU=0.6016 | Accuracy=0.9236\n",
      "\n"
     ]
    },
    {
     "name": "stderr",
     "output_type": "stream",
     "text": [
      "Epoch 157/500: 100%|██████████| 107/107 [01:04<00:00,  1.67it/s, loss=0.585, accuracy=0.923]\n"
     ]
    },
    {
     "name": "stdout",
     "output_type": "stream",
     "text": [
      "\n",
      "Epoch 157: Train Loss=0.4964 | Train Acc=0.9412 | Val Loss=0.6088 | Dice=0.7212 | IoU=0.5914 | Accuracy=0.9216\n",
      "\n"
     ]
    },
    {
     "name": "stderr",
     "output_type": "stream",
     "text": [
      "Epoch 158/500: 100%|██████████| 107/107 [01:04<00:00,  1.67it/s, loss=0.455, accuracy=0.954]\n"
     ]
    },
    {
     "name": "stdout",
     "output_type": "stream",
     "text": [
      "\n",
      "Epoch 158: Train Loss=0.4962 | Train Acc=0.9402 | Val Loss=0.5776 | Dice=0.7440 | IoU=0.6232 | Accuracy=0.9277\n",
      "\n"
     ]
    },
    {
     "name": "stderr",
     "output_type": "stream",
     "text": [
      "Epoch 159/500: 100%|██████████| 107/107 [01:04<00:00,  1.67it/s, loss=0.47, accuracy=0.951]\n"
     ]
    },
    {
     "name": "stdout",
     "output_type": "stream",
     "text": [
      "\n",
      "Epoch 159: Train Loss=0.4855 | Train Acc=0.9425 | Val Loss=0.6036 | Dice=0.7249 | IoU=0.5994 | Accuracy=0.9255\n",
      "\n"
     ]
    },
    {
     "name": "stderr",
     "output_type": "stream",
     "text": [
      "Epoch 160/500: 100%|██████████| 107/107 [01:04<00:00,  1.67it/s, loss=0.447, accuracy=0.927]\n"
     ]
    },
    {
     "name": "stdout",
     "output_type": "stream",
     "text": [
      "\n",
      "Epoch 160: Train Loss=0.4921 | Train Acc=0.9418 | Val Loss=0.5914 | Dice=0.7290 | IoU=0.6037 | Accuracy=0.9257\n",
      "\n"
     ]
    },
    {
     "name": "stderr",
     "output_type": "stream",
     "text": [
      "Epoch 161/500: 100%|██████████| 107/107 [01:04<00:00,  1.67it/s, loss=0.44, accuracy=0.963]\n"
     ]
    },
    {
     "name": "stdout",
     "output_type": "stream",
     "text": [
      "\n",
      "Epoch 161: Train Loss=0.4947 | Train Acc=0.9417 | Val Loss=0.6157 | Dice=0.7214 | IoU=0.5972 | Accuracy=0.9235\n",
      "\n"
     ]
    },
    {
     "name": "stderr",
     "output_type": "stream",
     "text": [
      "Epoch 162/500: 100%|██████████| 107/107 [01:04<00:00,  1.67it/s, loss=0.425, accuracy=0.956]\n"
     ]
    },
    {
     "name": "stdout",
     "output_type": "stream",
     "text": [
      "\n",
      "Epoch 162: Train Loss=0.4856 | Train Acc=0.9431 | Val Loss=0.6201 | Dice=0.7044 | IoU=0.5728 | Accuracy=0.9203\n",
      "\n"
     ]
    },
    {
     "name": "stderr",
     "output_type": "stream",
     "text": [
      "Epoch 163/500: 100%|██████████| 107/107 [01:03<00:00,  1.68it/s, loss=1, accuracy=0.868]\n"
     ]
    },
    {
     "name": "stdout",
     "output_type": "stream",
     "text": [
      "\n",
      "Epoch 163: Train Loss=0.4869 | Train Acc=0.9425 | Val Loss=0.5656 | Dice=0.7434 | IoU=0.6200 | Accuracy=0.9284\n",
      "\n"
     ]
    },
    {
     "name": "stderr",
     "output_type": "stream",
     "text": [
      "Epoch 164/500: 100%|██████████| 107/107 [01:04<00:00,  1.67it/s, loss=0.432, accuracy=0.934]\n"
     ]
    },
    {
     "name": "stdout",
     "output_type": "stream",
     "text": [
      "\n",
      "Epoch 164: Train Loss=0.4913 | Train Acc=0.9418 | Val Loss=0.5922 | Dice=0.7332 | IoU=0.6118 | Accuracy=0.9236\n",
      "\n"
     ]
    },
    {
     "name": "stderr",
     "output_type": "stream",
     "text": [
      "Epoch 165/500: 100%|██████████| 107/107 [01:04<00:00,  1.67it/s, loss=0.424, accuracy=0.948]\n"
     ]
    },
    {
     "name": "stdout",
     "output_type": "stream",
     "text": [
      "\n",
      "Epoch 165: Train Loss=0.4794 | Train Acc=0.9439 | Val Loss=0.6016 | Dice=0.7235 | IoU=0.5985 | Accuracy=0.9224\n",
      "\n"
     ]
    },
    {
     "name": "stderr",
     "output_type": "stream",
     "text": [
      "Epoch 166/500: 100%|██████████| 107/107 [01:03<00:00,  1.67it/s, loss=0.453, accuracy=0.948]\n"
     ]
    },
    {
     "name": "stdout",
     "output_type": "stream",
     "text": [
      "\n",
      "Epoch 166: Train Loss=0.4908 | Train Acc=0.9411 | Val Loss=0.6045 | Dice=0.7318 | IoU=0.6065 | Accuracy=0.9196\n",
      "\n"
     ]
    },
    {
     "name": "stderr",
     "output_type": "stream",
     "text": [
      "Epoch 167/500: 100%|██████████| 107/107 [01:03<00:00,  1.67it/s, loss=0.758, accuracy=0.842]\n"
     ]
    },
    {
     "name": "stdout",
     "output_type": "stream",
     "text": [
      "\n",
      "Epoch 167: Train Loss=0.4807 | Train Acc=0.9425 | Val Loss=0.5795 | Dice=0.7415 | IoU=0.6181 | Accuracy=0.9265\n",
      "\n"
     ]
    },
    {
     "name": "stderr",
     "output_type": "stream",
     "text": [
      "Epoch 168/500: 100%|██████████| 107/107 [01:04<00:00,  1.67it/s, loss=0.409, accuracy=0.963]\n"
     ]
    },
    {
     "name": "stdout",
     "output_type": "stream",
     "text": [
      "\n",
      "Epoch 168: Train Loss=0.5061 | Train Acc=0.9384 | Val Loss=0.6172 | Dice=0.7112 | IoU=0.5819 | Accuracy=0.9202\n",
      "\n"
     ]
    },
    {
     "name": "stderr",
     "output_type": "stream",
     "text": [
      "Epoch 169/500: 100%|██████████| 107/107 [01:04<00:00,  1.67it/s, loss=0.518, accuracy=0.944]\n"
     ]
    },
    {
     "name": "stdout",
     "output_type": "stream",
     "text": [
      "\n",
      "Epoch 169: Train Loss=0.4752 | Train Acc=0.9443 | Val Loss=0.5665 | Dice=0.7358 | IoU=0.6089 | Accuracy=0.9272\n",
      "\n"
     ]
    },
    {
     "name": "stderr",
     "output_type": "stream",
     "text": [
      "Epoch 170/500: 100%|██████████| 107/107 [01:04<00:00,  1.67it/s, loss=0.637, accuracy=0.883]\n"
     ]
    },
    {
     "name": "stdout",
     "output_type": "stream",
     "text": [
      "\n",
      "Epoch 170: Train Loss=0.4762 | Train Acc=0.9436 | Val Loss=0.6192 | Dice=0.7163 | IoU=0.5875 | Accuracy=0.9243\n",
      "\n"
     ]
    },
    {
     "name": "stderr",
     "output_type": "stream",
     "text": [
      "Epoch 171/500: 100%|██████████| 107/107 [01:04<00:00,  1.67it/s, loss=0.385, accuracy=0.963]\n"
     ]
    },
    {
     "name": "stdout",
     "output_type": "stream",
     "text": [
      "\n",
      "Epoch 171: Train Loss=0.4788 | Train Acc=0.9433 | Val Loss=0.5933 | Dice=0.7369 | IoU=0.6098 | Accuracy=0.9242\n",
      "\n"
     ]
    },
    {
     "name": "stderr",
     "output_type": "stream",
     "text": [
      "Epoch 172/500: 100%|██████████| 107/107 [01:04<00:00,  1.66it/s, loss=0.363, accuracy=0.954]\n"
     ]
    },
    {
     "name": "stdout",
     "output_type": "stream",
     "text": [
      "\n",
      "Epoch 172: Train Loss=0.4736 | Train Acc=0.9446 | Val Loss=0.5982 | Dice=0.7234 | IoU=0.5950 | Accuracy=0.9247\n",
      "\n"
     ]
    },
    {
     "name": "stderr",
     "output_type": "stream",
     "text": [
      "Epoch 173/500: 100%|██████████| 107/107 [01:04<00:00,  1.66it/s, loss=0.447, accuracy=0.957]\n"
     ]
    },
    {
     "name": "stdout",
     "output_type": "stream",
     "text": [
      "\n",
      "Epoch 173: Train Loss=0.4798 | Train Acc=0.9438 | Val Loss=0.6077 | Dice=0.7223 | IoU=0.5931 | Accuracy=0.9213\n",
      "\n"
     ]
    },
    {
     "name": "stderr",
     "output_type": "stream",
     "text": [
      "Epoch 174/500: 100%|██████████| 107/107 [01:04<00:00,  1.67it/s, loss=0.456, accuracy=0.967]\n"
     ]
    },
    {
     "name": "stdout",
     "output_type": "stream",
     "text": [
      "\n",
      "Epoch 174: Train Loss=0.4693 | Train Acc=0.9454 | Val Loss=0.6914 | Dice=0.6795 | IoU=0.5411 | Accuracy=0.9125\n",
      "\n"
     ]
    },
    {
     "name": "stderr",
     "output_type": "stream",
     "text": [
      "Epoch 175/500: 100%|██████████| 107/107 [01:04<00:00,  1.67it/s, loss=0.671, accuracy=0.946]\n"
     ]
    },
    {
     "name": "stdout",
     "output_type": "stream",
     "text": [
      "\n",
      "Epoch 175: Train Loss=0.4846 | Train Acc=0.9429 | Val Loss=0.5899 | Dice=0.7325 | IoU=0.6055 | Accuracy=0.9261\n",
      "\n"
     ]
    },
    {
     "name": "stderr",
     "output_type": "stream",
     "text": [
      "Epoch 176/500: 100%|██████████| 107/107 [01:04<00:00,  1.67it/s, loss=0.912, accuracy=0.948]\n"
     ]
    },
    {
     "name": "stdout",
     "output_type": "stream",
     "text": [
      "\n",
      "Epoch 176: Train Loss=0.4714 | Train Acc=0.9454 | Val Loss=0.5721 | Dice=0.7440 | IoU=0.6186 | Accuracy=0.9276\n",
      "\n"
     ]
    },
    {
     "name": "stderr",
     "output_type": "stream",
     "text": [
      "Epoch 177/500: 100%|██████████| 107/107 [01:04<00:00,  1.67it/s, loss=0.37, accuracy=0.962]\n"
     ]
    },
    {
     "name": "stdout",
     "output_type": "stream",
     "text": [
      "\n",
      "Epoch 177: Train Loss=0.4680 | Train Acc=0.9458 | Val Loss=0.5867 | Dice=0.7328 | IoU=0.6047 | Accuracy=0.9275\n",
      "\n"
     ]
    },
    {
     "name": "stderr",
     "output_type": "stream",
     "text": [
      "Epoch 178/500: 100%|██████████| 107/107 [01:04<00:00,  1.67it/s, loss=0.397, accuracy=0.961]\n"
     ]
    },
    {
     "name": "stdout",
     "output_type": "stream",
     "text": [
      "\n",
      "Epoch 178: Train Loss=0.4688 | Train Acc=0.9455 | Val Loss=0.6194 | Dice=0.7229 | IoU=0.5971 | Accuracy=0.9208\n",
      "\n"
     ]
    },
    {
     "name": "stderr",
     "output_type": "stream",
     "text": [
      "Epoch 179/500: 100%|██████████| 107/107 [01:04<00:00,  1.67it/s, loss=0.449, accuracy=0.966]\n"
     ]
    },
    {
     "name": "stdout",
     "output_type": "stream",
     "text": [
      "\n",
      "Epoch 179: Train Loss=0.4692 | Train Acc=0.9450 | Val Loss=0.6212 | Dice=0.7193 | IoU=0.5888 | Accuracy=0.9204\n",
      "\n"
     ]
    },
    {
     "name": "stderr",
     "output_type": "stream",
     "text": [
      "Epoch 180/500: 100%|██████████| 107/107 [01:04<00:00,  1.67it/s, loss=0.405, accuracy=0.962]\n"
     ]
    },
    {
     "name": "stdout",
     "output_type": "stream",
     "text": [
      "\n",
      "Epoch 180: Train Loss=0.4648 | Train Acc=0.9457 | Val Loss=0.5820 | Dice=0.7335 | IoU=0.6096 | Accuracy=0.9247\n",
      "\n"
     ]
    },
    {
     "name": "stderr",
     "output_type": "stream",
     "text": [
      "Epoch 181/500: 100%|██████████| 107/107 [01:04<00:00,  1.67it/s, loss=0.457, accuracy=0.926]\n"
     ]
    },
    {
     "name": "stdout",
     "output_type": "stream",
     "text": [
      "\n",
      "Epoch 181: Train Loss=0.4661 | Train Acc=0.9457 | Val Loss=0.5746 | Dice=0.7450 | IoU=0.6209 | Accuracy=0.9294\n",
      "\n"
     ]
    },
    {
     "name": "stderr",
     "output_type": "stream",
     "text": [
      "Epoch 182/500: 100%|██████████| 107/107 [01:03<00:00,  1.67it/s, loss=0.497, accuracy=0.959]\n"
     ]
    },
    {
     "name": "stdout",
     "output_type": "stream",
     "text": [
      "\n",
      "Epoch 182: Train Loss=0.4670 | Train Acc=0.9454 | Val Loss=0.5866 | Dice=0.7387 | IoU=0.6122 | Accuracy=0.9273\n",
      "\n"
     ]
    },
    {
     "name": "stderr",
     "output_type": "stream",
     "text": [
      "Epoch 183/500: 100%|██████████| 107/107 [01:04<00:00,  1.67it/s, loss=0.486, accuracy=0.968]\n"
     ]
    },
    {
     "name": "stdout",
     "output_type": "stream",
     "text": [
      "\n",
      "Epoch 183: Train Loss=0.4687 | Train Acc=0.9453 | Val Loss=0.5948 | Dice=0.7265 | IoU=0.5967 | Accuracy=0.9265\n",
      "\n"
     ]
    },
    {
     "name": "stderr",
     "output_type": "stream",
     "text": [
      "Epoch 184/500: 100%|██████████| 107/107 [01:03<00:00,  1.67it/s, loss=0.48, accuracy=0.96]\n"
     ]
    },
    {
     "name": "stdout",
     "output_type": "stream",
     "text": [
      "\n",
      "Epoch 184: Train Loss=0.4662 | Train Acc=0.9456 | Val Loss=0.5770 | Dice=0.7313 | IoU=0.6057 | Accuracy=0.9276\n",
      "\n"
     ]
    },
    {
     "name": "stderr",
     "output_type": "stream",
     "text": [
      "Epoch 185/500: 100%|██████████| 107/107 [01:03<00:00,  1.68it/s, loss=0.506, accuracy=0.9]\n"
     ]
    },
    {
     "name": "stdout",
     "output_type": "stream",
     "text": [
      "\n",
      "Epoch 185: Train Loss=0.4652 | Train Acc=0.9463 | Val Loss=0.5731 | Dice=0.7275 | IoU=0.5973 | Accuracy=0.9265\n",
      "\n"
     ]
    },
    {
     "name": "stderr",
     "output_type": "stream",
     "text": [
      "Epoch 186/500: 100%|██████████| 107/107 [01:04<00:00,  1.66it/s, loss=0.53, accuracy=0.949]\n"
     ]
    },
    {
     "name": "stdout",
     "output_type": "stream",
     "text": [
      "\n",
      "Epoch 186: Train Loss=0.4624 | Train Acc=0.9463 | Val Loss=0.5902 | Dice=0.7276 | IoU=0.5970 | Accuracy=0.9255\n",
      "\n"
     ]
    },
    {
     "name": "stderr",
     "output_type": "stream",
     "text": [
      "Epoch 187/500: 100%|██████████| 107/107 [01:04<00:00,  1.67it/s, loss=0.792, accuracy=0.956]\n"
     ]
    },
    {
     "name": "stdout",
     "output_type": "stream",
     "text": [
      "\n",
      "Epoch 187: Train Loss=0.4638 | Train Acc=0.9464 | Val Loss=0.5683 | Dice=0.7385 | IoU=0.6108 | Accuracy=0.9269\n",
      "\n"
     ]
    },
    {
     "name": "stderr",
     "output_type": "stream",
     "text": [
      "Epoch 188/500: 100%|██████████| 107/107 [01:04<00:00,  1.67it/s, loss=0.396, accuracy=0.966]\n"
     ]
    },
    {
     "name": "stdout",
     "output_type": "stream",
     "text": [
      "\n",
      "Epoch 188: Train Loss=0.4592 | Train Acc=0.9464 | Val Loss=0.5765 | Dice=0.7291 | IoU=0.6040 | Accuracy=0.9290\n",
      "\n"
     ]
    },
    {
     "name": "stderr",
     "output_type": "stream",
     "text": [
      "Epoch 189/500: 100%|██████████| 107/107 [01:03<00:00,  1.67it/s, loss=0.408, accuracy=0.909]\n"
     ]
    },
    {
     "name": "stdout",
     "output_type": "stream",
     "text": [
      "\n",
      "Epoch 189: Train Loss=0.4570 | Train Acc=0.9466 | Val Loss=0.5879 | Dice=0.7285 | IoU=0.6030 | Accuracy=0.9233\n",
      "\n"
     ]
    },
    {
     "name": "stderr",
     "output_type": "stream",
     "text": [
      "Epoch 190/500: 100%|██████████| 107/107 [01:04<00:00,  1.67it/s, loss=0.453, accuracy=0.94]\n"
     ]
    },
    {
     "name": "stdout",
     "output_type": "stream",
     "text": [
      "\n",
      "Epoch 190: Train Loss=0.4568 | Train Acc=0.9472 | Val Loss=0.6034 | Dice=0.7164 | IoU=0.5892 | Accuracy=0.9224\n",
      "\n"
     ]
    },
    {
     "name": "stderr",
     "output_type": "stream",
     "text": [
      "Epoch 191/500: 100%|██████████| 107/107 [01:04<00:00,  1.67it/s, loss=0.357, accuracy=0.959]\n"
     ]
    },
    {
     "name": "stdout",
     "output_type": "stream",
     "text": [
      "\n",
      "Epoch 191: Train Loss=0.4586 | Train Acc=0.9472 | Val Loss=0.5668 | Dice=0.7430 | IoU=0.6183 | Accuracy=0.9298\n",
      "\n"
     ]
    },
    {
     "name": "stderr",
     "output_type": "stream",
     "text": [
      "Epoch 192/500: 100%|██████████| 107/107 [01:04<00:00,  1.66it/s, loss=0.469, accuracy=0.958]\n"
     ]
    },
    {
     "name": "stdout",
     "output_type": "stream",
     "text": [
      "\n",
      "Epoch 192: Train Loss=0.4497 | Train Acc=0.9480 | Val Loss=0.6106 | Dice=0.7059 | IoU=0.5765 | Accuracy=0.9222\n",
      "\n"
     ]
    },
    {
     "name": "stderr",
     "output_type": "stream",
     "text": [
      "Epoch 193/500: 100%|██████████| 107/107 [01:04<00:00,  1.66it/s, loss=0.419, accuracy=0.92]\n"
     ]
    },
    {
     "name": "stdout",
     "output_type": "stream",
     "text": [
      "\n",
      "Epoch 193: Train Loss=0.4637 | Train Acc=0.9454 | Val Loss=0.5936 | Dice=0.7318 | IoU=0.6079 | Accuracy=0.9258\n",
      "\n"
     ]
    },
    {
     "name": "stderr",
     "output_type": "stream",
     "text": [
      "Epoch 194/500: 100%|██████████| 107/107 [01:04<00:00,  1.66it/s, loss=0.497, accuracy=0.958]\n"
     ]
    },
    {
     "name": "stdout",
     "output_type": "stream",
     "text": [
      "\n",
      "Epoch 194: Train Loss=0.4575 | Train Acc=0.9474 | Val Loss=0.6241 | Dice=0.7192 | IoU=0.5896 | Accuracy=0.9212\n",
      "\n"
     ]
    },
    {
     "name": "stderr",
     "output_type": "stream",
     "text": [
      "Epoch 195/500: 100%|██████████| 107/107 [01:04<00:00,  1.66it/s, loss=0.348, accuracy=0.95]\n"
     ]
    },
    {
     "name": "stdout",
     "output_type": "stream",
     "text": [
      "\n",
      "Epoch 195: Train Loss=0.4571 | Train Acc=0.9466 | Val Loss=0.5828 | Dice=0.7426 | IoU=0.6184 | Accuracy=0.9281\n",
      "\n"
     ]
    },
    {
     "name": "stderr",
     "output_type": "stream",
     "text": [
      "Epoch 196/500: 100%|██████████| 107/107 [01:04<00:00,  1.66it/s, loss=0.454, accuracy=0.976]\n"
     ]
    },
    {
     "name": "stdout",
     "output_type": "stream",
     "text": [
      "\n",
      "Epoch 196: Train Loss=0.4533 | Train Acc=0.9481 | Val Loss=0.5826 | Dice=0.7286 | IoU=0.6046 | Accuracy=0.9279\n",
      "\n"
     ]
    },
    {
     "name": "stderr",
     "output_type": "stream",
     "text": [
      "Epoch 197/500: 100%|██████████| 107/107 [01:04<00:00,  1.66it/s, loss=0.412, accuracy=0.946]\n"
     ]
    },
    {
     "name": "stdout",
     "output_type": "stream",
     "text": [
      "\n",
      "Epoch 197: Train Loss=0.4501 | Train Acc=0.9482 | Val Loss=0.6119 | Dice=0.7228 | IoU=0.5931 | Accuracy=0.9232\n",
      "\n"
     ]
    },
    {
     "name": "stderr",
     "output_type": "stream",
     "text": [
      "Epoch 198/500: 100%|██████████| 107/107 [01:04<00:00,  1.67it/s, loss=0.47, accuracy=0.965]\n"
     ]
    },
    {
     "name": "stdout",
     "output_type": "stream",
     "text": [
      "\n",
      "Epoch 198: Train Loss=0.4501 | Train Acc=0.9485 | Val Loss=0.5928 | Dice=0.7187 | IoU=0.5901 | Accuracy=0.9255\n",
      "\n"
     ]
    },
    {
     "name": "stderr",
     "output_type": "stream",
     "text": [
      "Epoch 199/500: 100%|██████████| 107/107 [01:04<00:00,  1.66it/s, loss=0.677, accuracy=0.891]\n"
     ]
    },
    {
     "name": "stdout",
     "output_type": "stream",
     "text": [
      "\n",
      "Epoch 199: Train Loss=0.4559 | Train Acc=0.9470 | Val Loss=0.6218 | Dice=0.7154 | IoU=0.5836 | Accuracy=0.9215\n",
      "\n"
     ]
    },
    {
     "name": "stderr",
     "output_type": "stream",
     "text": [
      "Epoch 200/500: 100%|██████████| 107/107 [01:04<00:00,  1.67it/s, loss=0.785, accuracy=0.918]\n"
     ]
    },
    {
     "name": "stdout",
     "output_type": "stream",
     "text": [
      "\n",
      "Epoch 200: Train Loss=0.4575 | Train Acc=0.9468 | Val Loss=0.6058 | Dice=0.7160 | IoU=0.5929 | Accuracy=0.9260\n",
      "\n"
     ]
    },
    {
     "name": "stderr",
     "output_type": "stream",
     "text": [
      "Epoch 201/500: 100%|██████████| 107/107 [01:04<00:00,  1.67it/s, loss=0.457, accuracy=0.94]\n"
     ]
    },
    {
     "name": "stdout",
     "output_type": "stream",
     "text": [
      "\n",
      "Epoch 201: Train Loss=0.4531 | Train Acc=0.9478 | Val Loss=0.6101 | Dice=0.7223 | IoU=0.5951 | Accuracy=0.9259\n",
      "\n"
     ]
    },
    {
     "name": "stderr",
     "output_type": "stream",
     "text": [
      "Epoch 202/500: 100%|██████████| 107/107 [01:04<00:00,  1.66it/s, loss=0.462, accuracy=0.954]\n"
     ]
    },
    {
     "name": "stdout",
     "output_type": "stream",
     "text": [
      "\n",
      "Epoch 202: Train Loss=0.4501 | Train Acc=0.9482 | Val Loss=0.6127 | Dice=0.7315 | IoU=0.6104 | Accuracy=0.9237\n",
      "\n"
     ]
    },
    {
     "name": "stderr",
     "output_type": "stream",
     "text": [
      "Epoch 203/500: 100%|██████████| 107/107 [01:04<00:00,  1.67it/s, loss=0.435, accuracy=0.938]\n"
     ]
    },
    {
     "name": "stdout",
     "output_type": "stream",
     "text": [
      "\n",
      "Epoch 203: Train Loss=0.4517 | Train Acc=0.9476 | Val Loss=0.6553 | Dice=0.6959 | IoU=0.5618 | Accuracy=0.9153\n",
      "\n"
     ]
    },
    {
     "name": "stderr",
     "output_type": "stream",
     "text": [
      "Epoch 204/500: 100%|██████████| 107/107 [01:04<00:00,  1.66it/s, loss=0.448, accuracy=0.962]\n"
     ]
    },
    {
     "name": "stdout",
     "output_type": "stream",
     "text": [
      "\n",
      "Epoch 204: Train Loss=0.4559 | Train Acc=0.9471 | Val Loss=0.6055 | Dice=0.7078 | IoU=0.5769 | Accuracy=0.9234\n",
      "\n"
     ]
    },
    {
     "name": "stderr",
     "output_type": "stream",
     "text": [
      "Epoch 205/500: 100%|██████████| 107/107 [01:04<00:00,  1.66it/s, loss=0.447, accuracy=0.963]\n"
     ]
    },
    {
     "name": "stdout",
     "output_type": "stream",
     "text": [
      "\n",
      "Epoch 205: Train Loss=0.4484 | Train Acc=0.9483 | Val Loss=0.6194 | Dice=0.7213 | IoU=0.5923 | Accuracy=0.9224\n",
      "\n"
     ]
    },
    {
     "name": "stderr",
     "output_type": "stream",
     "text": [
      "Epoch 206/500: 100%|██████████| 107/107 [01:04<00:00,  1.66it/s, loss=0.505, accuracy=0.924]\n"
     ]
    },
    {
     "name": "stdout",
     "output_type": "stream",
     "text": [
      "\n",
      "Epoch 206: Train Loss=0.4439 | Train Acc=0.9489 | Val Loss=0.5714 | Dice=0.7303 | IoU=0.6044 | Accuracy=0.9303\n",
      "\n"
     ]
    },
    {
     "name": "stderr",
     "output_type": "stream",
     "text": [
      "Epoch 207/500: 100%|██████████| 107/107 [01:04<00:00,  1.67it/s, loss=0.447, accuracy=0.934]\n"
     ]
    },
    {
     "name": "stdout",
     "output_type": "stream",
     "text": [
      "\n",
      "Epoch 207: Train Loss=0.4438 | Train Acc=0.9490 | Val Loss=0.5894 | Dice=0.7295 | IoU=0.6049 | Accuracy=0.9267\n",
      "\n"
     ]
    },
    {
     "name": "stderr",
     "output_type": "stream",
     "text": [
      "Epoch 208/500: 100%|██████████| 107/107 [01:04<00:00,  1.66it/s, loss=0.382, accuracy=0.969]\n"
     ]
    },
    {
     "name": "stdout",
     "output_type": "stream",
     "text": [
      "\n",
      "Epoch 208: Train Loss=0.4432 | Train Acc=0.9491 | Val Loss=0.5557 | Dice=0.7404 | IoU=0.6133 | Accuracy=0.9307\n",
      "\n"
     ]
    },
    {
     "name": "stderr",
     "output_type": "stream",
     "text": [
      "Epoch 209/500: 100%|██████████| 107/107 [01:04<00:00,  1.67it/s, loss=0.36, accuracy=0.947]\n"
     ]
    },
    {
     "name": "stdout",
     "output_type": "stream",
     "text": [
      "\n",
      "Epoch 209: Train Loss=0.4471 | Train Acc=0.9481 | Val Loss=0.5898 | Dice=0.7189 | IoU=0.5899 | Accuracy=0.9257\n",
      "\n"
     ]
    },
    {
     "name": "stderr",
     "output_type": "stream",
     "text": [
      "Epoch 210/500: 100%|██████████| 107/107 [01:04<00:00,  1.66it/s, loss=0.475, accuracy=0.91]\n"
     ]
    },
    {
     "name": "stdout",
     "output_type": "stream",
     "text": [
      "\n",
      "Epoch 210: Train Loss=0.4412 | Train Acc=0.9489 | Val Loss=0.5997 | Dice=0.7367 | IoU=0.6161 | Accuracy=0.9238\n",
      "\n"
     ]
    },
    {
     "name": "stderr",
     "output_type": "stream",
     "text": [
      "Epoch 211/500: 100%|██████████| 107/107 [01:04<00:00,  1.66it/s, loss=0.495, accuracy=0.929]\n"
     ]
    },
    {
     "name": "stdout",
     "output_type": "stream",
     "text": [
      "\n",
      "Epoch 211: Train Loss=0.4484 | Train Acc=0.9479 | Val Loss=0.6057 | Dice=0.7164 | IoU=0.5870 | Accuracy=0.9226\n",
      "\n"
     ]
    },
    {
     "name": "stderr",
     "output_type": "stream",
     "text": [
      "Epoch 212/500: 100%|██████████| 107/107 [01:03<00:00,  1.67it/s, loss=0.499, accuracy=0.968]\n"
     ]
    },
    {
     "name": "stdout",
     "output_type": "stream",
     "text": [
      "\n",
      "Epoch 212: Train Loss=0.4515 | Train Acc=0.9484 | Val Loss=0.6088 | Dice=0.7228 | IoU=0.5965 | Accuracy=0.9229\n",
      "\n"
     ]
    },
    {
     "name": "stderr",
     "output_type": "stream",
     "text": [
      "Epoch 213/500: 100%|██████████| 107/107 [01:04<00:00,  1.66it/s, loss=0.43, accuracy=0.962]\n"
     ]
    },
    {
     "name": "stdout",
     "output_type": "stream",
     "text": [
      "\n",
      "Epoch 213: Train Loss=0.4436 | Train Acc=0.9491 | Val Loss=0.6280 | Dice=0.7248 | IoU=0.5947 | Accuracy=0.9198\n",
      "\n"
     ]
    },
    {
     "name": "stderr",
     "output_type": "stream",
     "text": [
      "Epoch 214/500: 100%|██████████| 107/107 [01:04<00:00,  1.67it/s, loss=0.317, accuracy=0.956]\n"
     ]
    },
    {
     "name": "stdout",
     "output_type": "stream",
     "text": [
      "\n",
      "Epoch 214: Train Loss=0.4410 | Train Acc=0.9492 | Val Loss=0.5483 | Dice=0.7533 | IoU=0.6282 | Accuracy=0.9309\n",
      "\n",
      "✅ Best model saved: checkpoints/best_model_epoch214_dice0.7533.pth\n"
     ]
    },
    {
     "name": "stderr",
     "output_type": "stream",
     "text": [
      "Epoch 215/500: 100%|██████████| 107/107 [01:04<00:00,  1.66it/s, loss=0.486, accuracy=0.948]\n"
     ]
    },
    {
     "name": "stdout",
     "output_type": "stream",
     "text": [
      "\n",
      "Epoch 215: Train Loss=0.4368 | Train Acc=0.9500 | Val Loss=0.5777 | Dice=0.7363 | IoU=0.6129 | Accuracy=0.9283\n",
      "\n"
     ]
    },
    {
     "name": "stderr",
     "output_type": "stream",
     "text": [
      "Epoch 216/500: 100%|██████████| 107/107 [01:03<00:00,  1.68it/s, loss=0.569, accuracy=0.949]\n"
     ]
    },
    {
     "name": "stdout",
     "output_type": "stream",
     "text": [
      "\n",
      "Epoch 216: Train Loss=0.4404 | Train Acc=0.9495 | Val Loss=0.5931 | Dice=0.7342 | IoU=0.6076 | Accuracy=0.9230\n",
      "\n"
     ]
    },
    {
     "name": "stderr",
     "output_type": "stream",
     "text": [
      "Epoch 217/500: 100%|██████████| 107/107 [01:03<00:00,  1.68it/s, loss=0.455, accuracy=0.935]\n"
     ]
    },
    {
     "name": "stdout",
     "output_type": "stream",
     "text": [
      "\n",
      "Epoch 217: Train Loss=0.4383 | Train Acc=0.9498 | Val Loss=0.5835 | Dice=0.7359 | IoU=0.6108 | Accuracy=0.9268\n",
      "\n"
     ]
    },
    {
     "name": "stderr",
     "output_type": "stream",
     "text": [
      "Epoch 218/500: 100%|██████████| 107/107 [01:04<00:00,  1.67it/s, loss=0.352, accuracy=0.957]\n"
     ]
    },
    {
     "name": "stdout",
     "output_type": "stream",
     "text": [
      "\n",
      "Epoch 218: Train Loss=0.4326 | Train Acc=0.9502 | Val Loss=0.6060 | Dice=0.7339 | IoU=0.6092 | Accuracy=0.9256\n",
      "\n"
     ]
    },
    {
     "name": "stderr",
     "output_type": "stream",
     "text": [
      "Epoch 219/500: 100%|██████████| 107/107 [01:04<00:00,  1.66it/s, loss=0.469, accuracy=0.957]\n"
     ]
    },
    {
     "name": "stdout",
     "output_type": "stream",
     "text": [
      "\n",
      "Epoch 219: Train Loss=0.4276 | Train Acc=0.9515 | Val Loss=0.5669 | Dice=0.7443 | IoU=0.6199 | Accuracy=0.9289\n",
      "\n"
     ]
    },
    {
     "name": "stderr",
     "output_type": "stream",
     "text": [
      "Epoch 220/500: 100%|██████████| 107/107 [01:04<00:00,  1.67it/s, loss=0.39, accuracy=0.934]\n"
     ]
    },
    {
     "name": "stdout",
     "output_type": "stream",
     "text": [
      "\n",
      "Epoch 220: Train Loss=0.4341 | Train Acc=0.9501 | Val Loss=0.6203 | Dice=0.7229 | IoU=0.5915 | Accuracy=0.9210\n",
      "\n"
     ]
    },
    {
     "name": "stderr",
     "output_type": "stream",
     "text": [
      "Epoch 221/500: 100%|██████████| 107/107 [01:04<00:00,  1.67it/s, loss=0.493, accuracy=0.906]\n"
     ]
    },
    {
     "name": "stdout",
     "output_type": "stream",
     "text": [
      "\n",
      "Epoch 221: Train Loss=0.4382 | Train Acc=0.9499 | Val Loss=0.6001 | Dice=0.7293 | IoU=0.5996 | Accuracy=0.9255\n",
      "\n"
     ]
    },
    {
     "name": "stderr",
     "output_type": "stream",
     "text": [
      "Epoch 222/500: 100%|██████████| 107/107 [01:03<00:00,  1.67it/s, loss=0.444, accuracy=0.97]\n"
     ]
    },
    {
     "name": "stdout",
     "output_type": "stream",
     "text": [
      "\n",
      "Epoch 222: Train Loss=0.4360 | Train Acc=0.9503 | Val Loss=0.5806 | Dice=0.7400 | IoU=0.6149 | Accuracy=0.9291\n",
      "\n"
     ]
    },
    {
     "name": "stderr",
     "output_type": "stream",
     "text": [
      "Epoch 223/500: 100%|██████████| 107/107 [01:04<00:00,  1.66it/s, loss=0.416, accuracy=0.942]\n"
     ]
    },
    {
     "name": "stdout",
     "output_type": "stream",
     "text": [
      "\n",
      "Epoch 223: Train Loss=0.4356 | Train Acc=0.9499 | Val Loss=0.5718 | Dice=0.7475 | IoU=0.6239 | Accuracy=0.9285\n",
      "\n"
     ]
    },
    {
     "name": "stderr",
     "output_type": "stream",
     "text": [
      "Epoch 224/500: 100%|██████████| 107/107 [01:04<00:00,  1.67it/s, loss=0.355, accuracy=0.935]\n"
     ]
    },
    {
     "name": "stdout",
     "output_type": "stream",
     "text": [
      "\n",
      "Epoch 224: Train Loss=0.4293 | Train Acc=0.9513 | Val Loss=0.5984 | Dice=0.7337 | IoU=0.6089 | Accuracy=0.9270\n",
      "\n"
     ]
    },
    {
     "name": "stderr",
     "output_type": "stream",
     "text": [
      "Epoch 225/500: 100%|██████████| 107/107 [01:04<00:00,  1.67it/s, loss=0.61, accuracy=0.887]\n"
     ]
    },
    {
     "name": "stdout",
     "output_type": "stream",
     "text": [
      "\n",
      "Epoch 225: Train Loss=0.4360 | Train Acc=0.9499 | Val Loss=0.5730 | Dice=0.7370 | IoU=0.6118 | Accuracy=0.9275\n",
      "\n"
     ]
    },
    {
     "name": "stderr",
     "output_type": "stream",
     "text": [
      "Epoch 226/500: 100%|██████████| 107/107 [01:04<00:00,  1.67it/s, loss=0.562, accuracy=0.955]\n"
     ]
    },
    {
     "name": "stdout",
     "output_type": "stream",
     "text": [
      "\n",
      "Epoch 226: Train Loss=0.4398 | Train Acc=0.9497 | Val Loss=0.6209 | Dice=0.7113 | IoU=0.5780 | Accuracy=0.9195\n",
      "\n"
     ]
    },
    {
     "name": "stderr",
     "output_type": "stream",
     "text": [
      "Epoch 227/500: 100%|██████████| 107/107 [01:04<00:00,  1.67it/s, loss=0.363, accuracy=0.931]\n"
     ]
    },
    {
     "name": "stdout",
     "output_type": "stream",
     "text": [
      "\n",
      "Epoch 227: Train Loss=0.4405 | Train Acc=0.9492 | Val Loss=0.6424 | Dice=0.7130 | IoU=0.5852 | Accuracy=0.9216\n",
      "\n"
     ]
    },
    {
     "name": "stderr",
     "output_type": "stream",
     "text": [
      "Epoch 228/500: 100%|██████████| 107/107 [01:03<00:00,  1.68it/s, loss=0.388, accuracy=0.942]\n"
     ]
    },
    {
     "name": "stdout",
     "output_type": "stream",
     "text": [
      "\n",
      "Epoch 228: Train Loss=0.4265 | Train Acc=0.9514 | Val Loss=0.5808 | Dice=0.7388 | IoU=0.6168 | Accuracy=0.9293\n",
      "\n"
     ]
    },
    {
     "name": "stderr",
     "output_type": "stream",
     "text": [
      "Epoch 229/500: 100%|██████████| 107/107 [01:04<00:00,  1.67it/s, loss=0.693, accuracy=0.922]\n"
     ]
    },
    {
     "name": "stdout",
     "output_type": "stream",
     "text": [
      "\n",
      "Epoch 229: Train Loss=0.4328 | Train Acc=0.9503 | Val Loss=0.5875 | Dice=0.7337 | IoU=0.6090 | Accuracy=0.9276\n",
      "\n"
     ]
    },
    {
     "name": "stderr",
     "output_type": "stream",
     "text": [
      "Epoch 230/500: 100%|██████████| 107/107 [01:04<00:00,  1.67it/s, loss=0.363, accuracy=0.949]\n"
     ]
    },
    {
     "name": "stdout",
     "output_type": "stream",
     "text": [
      "\n",
      "Epoch 230: Train Loss=0.4358 | Train Acc=0.9503 | Val Loss=0.6185 | Dice=0.7192 | IoU=0.5873 | Accuracy=0.9219\n",
      "\n"
     ]
    },
    {
     "name": "stderr",
     "output_type": "stream",
     "text": [
      "Epoch 231/500: 100%|██████████| 107/107 [01:03<00:00,  1.68it/s, loss=0.374, accuracy=0.913]\n"
     ]
    },
    {
     "name": "stdout",
     "output_type": "stream",
     "text": [
      "\n",
      "Epoch 231: Train Loss=0.4216 | Train Acc=0.9520 | Val Loss=0.5973 | Dice=0.7232 | IoU=0.5966 | Accuracy=0.9267\n",
      "\n"
     ]
    },
    {
     "name": "stderr",
     "output_type": "stream",
     "text": [
      "Epoch 232/500: 100%|██████████| 107/107 [01:04<00:00,  1.67it/s, loss=0.569, accuracy=0.923]\n"
     ]
    },
    {
     "name": "stdout",
     "output_type": "stream",
     "text": [
      "\n",
      "Epoch 232: Train Loss=0.4290 | Train Acc=0.9513 | Val Loss=0.6073 | Dice=0.7183 | IoU=0.5889 | Accuracy=0.9217\n",
      "\n"
     ]
    },
    {
     "name": "stderr",
     "output_type": "stream",
     "text": [
      "Epoch 233/500: 100%|██████████| 107/107 [01:04<00:00,  1.66it/s, loss=0.34, accuracy=0.949]\n"
     ]
    },
    {
     "name": "stdout",
     "output_type": "stream",
     "text": [
      "\n",
      "Epoch 233: Train Loss=0.4274 | Train Acc=0.9512 | Val Loss=0.5924 | Dice=0.7346 | IoU=0.6109 | Accuracy=0.9287\n",
      "\n"
     ]
    },
    {
     "name": "stderr",
     "output_type": "stream",
     "text": [
      "Epoch 234/500: 100%|██████████| 107/107 [01:04<00:00,  1.66it/s, loss=0.349, accuracy=0.957]\n"
     ]
    },
    {
     "name": "stdout",
     "output_type": "stream",
     "text": [
      "\n",
      "Epoch 234: Train Loss=0.4249 | Train Acc=0.9520 | Val Loss=0.6008 | Dice=0.7249 | IoU=0.5983 | Accuracy=0.9249\n",
      "\n"
     ]
    },
    {
     "name": "stderr",
     "output_type": "stream",
     "text": [
      "Epoch 235/500: 100%|██████████| 107/107 [01:04<00:00,  1.67it/s, loss=0.476, accuracy=0.969]\n"
     ]
    },
    {
     "name": "stdout",
     "output_type": "stream",
     "text": [
      "\n",
      "Epoch 235: Train Loss=0.4268 | Train Acc=0.9519 | Val Loss=0.5799 | Dice=0.7392 | IoU=0.6143 | Accuracy=0.9298\n",
      "\n"
     ]
    },
    {
     "name": "stderr",
     "output_type": "stream",
     "text": [
      "Epoch 236/500: 100%|██████████| 107/107 [01:04<00:00,  1.67it/s, loss=0.405, accuracy=0.926]\n"
     ]
    },
    {
     "name": "stdout",
     "output_type": "stream",
     "text": [
      "\n",
      "Epoch 236: Train Loss=0.4249 | Train Acc=0.9516 | Val Loss=0.5838 | Dice=0.7330 | IoU=0.6110 | Accuracy=0.9261\n",
      "\n"
     ]
    },
    {
     "name": "stderr",
     "output_type": "stream",
     "text": [
      "Epoch 237/500: 100%|██████████| 107/107 [01:04<00:00,  1.65it/s, loss=0.338, accuracy=0.949]\n"
     ]
    },
    {
     "name": "stdout",
     "output_type": "stream",
     "text": [
      "\n",
      "Epoch 237: Train Loss=0.4214 | Train Acc=0.9527 | Val Loss=0.6073 | Dice=0.7188 | IoU=0.5923 | Accuracy=0.9248\n",
      "\n"
     ]
    },
    {
     "name": "stderr",
     "output_type": "stream",
     "text": [
      "Epoch 238/500: 100%|██████████| 107/107 [01:04<00:00,  1.66it/s, loss=0.382, accuracy=0.964]\n"
     ]
    },
    {
     "name": "stdout",
     "output_type": "stream",
     "text": [
      "\n",
      "Epoch 238: Train Loss=0.4239 | Train Acc=0.9522 | Val Loss=0.6030 | Dice=0.7146 | IoU=0.5869 | Accuracy=0.9253\n",
      "\n"
     ]
    },
    {
     "name": "stderr",
     "output_type": "stream",
     "text": [
      "Epoch 239/500: 100%|██████████| 107/107 [01:04<00:00,  1.67it/s, loss=0.481, accuracy=0.936]\n"
     ]
    },
    {
     "name": "stdout",
     "output_type": "stream",
     "text": [
      "\n",
      "Epoch 239: Train Loss=0.4300 | Train Acc=0.9511 | Val Loss=0.6116 | Dice=0.7192 | IoU=0.5906 | Accuracy=0.9244\n",
      "\n"
     ]
    },
    {
     "name": "stderr",
     "output_type": "stream",
     "text": [
      "Epoch 240/500: 100%|██████████| 107/107 [01:04<00:00,  1.67it/s, loss=0.455, accuracy=0.951]\n"
     ]
    },
    {
     "name": "stdout",
     "output_type": "stream",
     "text": [
      "\n",
      "Epoch 240: Train Loss=0.4220 | Train Acc=0.9523 | Val Loss=0.5826 | Dice=0.7408 | IoU=0.6158 | Accuracy=0.9289\n",
      "\n"
     ]
    },
    {
     "name": "stderr",
     "output_type": "stream",
     "text": [
      "Epoch 241/500: 100%|██████████| 107/107 [01:04<00:00,  1.67it/s, loss=0.308, accuracy=0.963]\n"
     ]
    },
    {
     "name": "stdout",
     "output_type": "stream",
     "text": [
      "\n",
      "Epoch 241: Train Loss=0.4151 | Train Acc=0.9533 | Val Loss=0.6056 | Dice=0.7274 | IoU=0.5986 | Accuracy=0.9255\n",
      "\n"
     ]
    },
    {
     "name": "stderr",
     "output_type": "stream",
     "text": [
      "Epoch 242/500: 100%|██████████| 107/107 [01:04<00:00,  1.66it/s, loss=0.504, accuracy=0.976]\n"
     ]
    },
    {
     "name": "stdout",
     "output_type": "stream",
     "text": [
      "\n",
      "Epoch 242: Train Loss=0.4206 | Train Acc=0.9526 | Val Loss=0.5996 | Dice=0.7267 | IoU=0.5977 | Accuracy=0.9250\n",
      "\n"
     ]
    },
    {
     "name": "stderr",
     "output_type": "stream",
     "text": [
      "Epoch 243/500: 100%|██████████| 107/107 [01:04<00:00,  1.66it/s, loss=0.436, accuracy=0.963]\n"
     ]
    },
    {
     "name": "stdout",
     "output_type": "stream",
     "text": [
      "\n",
      "Epoch 243: Train Loss=0.4272 | Train Acc=0.9515 | Val Loss=0.5823 | Dice=0.7407 | IoU=0.6172 | Accuracy=0.9287\n",
      "\n"
     ]
    },
    {
     "name": "stderr",
     "output_type": "stream",
     "text": [
      "Epoch 244/500: 100%|██████████| 107/107 [01:04<00:00,  1.66it/s, loss=0.62, accuracy=0.958]\n"
     ]
    },
    {
     "name": "stdout",
     "output_type": "stream",
     "text": [
      "\n",
      "Epoch 244: Train Loss=0.4218 | Train Acc=0.9524 | Val Loss=0.5810 | Dice=0.7372 | IoU=0.6147 | Accuracy=0.9275\n",
      "\n"
     ]
    },
    {
     "name": "stderr",
     "output_type": "stream",
     "text": [
      "Epoch 245/500: 100%|██████████| 107/107 [01:04<00:00,  1.66it/s, loss=0.412, accuracy=0.939]\n"
     ]
    },
    {
     "name": "stdout",
     "output_type": "stream",
     "text": [
      "\n",
      "Epoch 245: Train Loss=0.4182 | Train Acc=0.9530 | Val Loss=0.5631 | Dice=0.7457 | IoU=0.6215 | Accuracy=0.9322\n",
      "\n"
     ]
    },
    {
     "name": "stderr",
     "output_type": "stream",
     "text": [
      "Epoch 246/500: 100%|██████████| 107/107 [01:04<00:00,  1.66it/s, loss=0.65, accuracy=0.966]\n"
     ]
    },
    {
     "name": "stdout",
     "output_type": "stream",
     "text": [
      "\n",
      "Epoch 246: Train Loss=0.4182 | Train Acc=0.9532 | Val Loss=0.5859 | Dice=0.7334 | IoU=0.6082 | Accuracy=0.9278\n",
      "\n"
     ]
    },
    {
     "name": "stderr",
     "output_type": "stream",
     "text": [
      "Epoch 247/500: 100%|██████████| 107/107 [01:04<00:00,  1.66it/s, loss=0.482, accuracy=0.954]\n"
     ]
    },
    {
     "name": "stdout",
     "output_type": "stream",
     "text": [
      "\n",
      "Epoch 247: Train Loss=0.4207 | Train Acc=0.9529 | Val Loss=0.6272 | Dice=0.7057 | IoU=0.5710 | Accuracy=0.9188\n",
      "\n"
     ]
    },
    {
     "name": "stderr",
     "output_type": "stream",
     "text": [
      "Epoch 248/500: 100%|██████████| 107/107 [01:04<00:00,  1.66it/s, loss=0.456, accuracy=0.945]\n"
     ]
    },
    {
     "name": "stdout",
     "output_type": "stream",
     "text": [
      "\n",
      "Epoch 248: Train Loss=0.4170 | Train Acc=0.9531 | Val Loss=0.5695 | Dice=0.7393 | IoU=0.6150 | Accuracy=0.9300\n",
      "\n"
     ]
    },
    {
     "name": "stderr",
     "output_type": "stream",
     "text": [
      "Epoch 249/500: 100%|██████████| 107/107 [01:04<00:00,  1.67it/s, loss=0.455, accuracy=0.958]\n"
     ]
    },
    {
     "name": "stdout",
     "output_type": "stream",
     "text": [
      "\n",
      "Epoch 249: Train Loss=0.4146 | Train Acc=0.9534 | Val Loss=0.5804 | Dice=0.7377 | IoU=0.6098 | Accuracy=0.9285\n",
      "\n"
     ]
    },
    {
     "name": "stderr",
     "output_type": "stream",
     "text": [
      "Epoch 250/500: 100%|██████████| 107/107 [01:04<00:00,  1.66it/s, loss=0.543, accuracy=0.916]\n"
     ]
    },
    {
     "name": "stdout",
     "output_type": "stream",
     "text": [
      "\n",
      "Epoch 250: Train Loss=0.4176 | Train Acc=0.9527 | Val Loss=0.5875 | Dice=0.7271 | IoU=0.6001 | Accuracy=0.9282\n",
      "\n"
     ]
    },
    {
     "name": "stderr",
     "output_type": "stream",
     "text": [
      "Epoch 251/500: 100%|██████████| 107/107 [01:04<00:00,  1.66it/s, loss=0.377, accuracy=0.97]\n"
     ]
    },
    {
     "name": "stdout",
     "output_type": "stream",
     "text": [
      "\n",
      "Epoch 251: Train Loss=0.4189 | Train Acc=0.9528 | Val Loss=0.5843 | Dice=0.7391 | IoU=0.6142 | Accuracy=0.9283\n",
      "\n"
     ]
    },
    {
     "name": "stderr",
     "output_type": "stream",
     "text": [
      "Epoch 252/500: 100%|██████████| 107/107 [01:04<00:00,  1.66it/s, loss=0.51, accuracy=0.977]\n"
     ]
    },
    {
     "name": "stdout",
     "output_type": "stream",
     "text": [
      "\n",
      "Epoch 252: Train Loss=0.4239 | Train Acc=0.9521 | Val Loss=0.6090 | Dice=0.7228 | IoU=0.5948 | Accuracy=0.9244\n",
      "\n"
     ]
    },
    {
     "name": "stderr",
     "output_type": "stream",
     "text": [
      "Epoch 253/500: 100%|██████████| 107/107 [01:04<00:00,  1.67it/s, loss=0.325, accuracy=0.97]\n"
     ]
    },
    {
     "name": "stdout",
     "output_type": "stream",
     "text": [
      "\n",
      "Epoch 253: Train Loss=0.4164 | Train Acc=0.9535 | Val Loss=0.5614 | Dice=0.7483 | IoU=0.6244 | Accuracy=0.9321\n",
      "\n"
     ]
    },
    {
     "name": "stderr",
     "output_type": "stream",
     "text": [
      "Epoch 254/500: 100%|██████████| 107/107 [01:03<00:00,  1.67it/s, loss=0.452, accuracy=0.946]\n"
     ]
    },
    {
     "name": "stdout",
     "output_type": "stream",
     "text": [
      "\n",
      "Epoch 254: Train Loss=0.4175 | Train Acc=0.9532 | Val Loss=0.5713 | Dice=0.7402 | IoU=0.6173 | Accuracy=0.9292\n",
      "\n"
     ]
    },
    {
     "name": "stderr",
     "output_type": "stream",
     "text": [
      "Epoch 255/500: 100%|██████████| 107/107 [01:04<00:00,  1.67it/s, loss=0.527, accuracy=0.924]\n"
     ]
    },
    {
     "name": "stdout",
     "output_type": "stream",
     "text": [
      "\n",
      "Epoch 255: Train Loss=0.4155 | Train Acc=0.9531 | Val Loss=0.5407 | Dice=0.7564 | IoU=0.6337 | Accuracy=0.9322\n",
      "\n",
      "✅ Best model saved: checkpoints/best_model_epoch255_dice0.7564.pth\n"
     ]
    },
    {
     "name": "stderr",
     "output_type": "stream",
     "text": [
      "Epoch 256/500: 100%|██████████| 107/107 [01:04<00:00,  1.67it/s, loss=0.373, accuracy=0.958]\n"
     ]
    },
    {
     "name": "stdout",
     "output_type": "stream",
     "text": [
      "\n",
      "Epoch 256: Train Loss=0.4178 | Train Acc=0.9531 | Val Loss=0.5662 | Dice=0.7402 | IoU=0.6133 | Accuracy=0.9302\n",
      "\n"
     ]
    },
    {
     "name": "stderr",
     "output_type": "stream",
     "text": [
      "Epoch 257/500: 100%|██████████| 107/107 [01:04<00:00,  1.67it/s, loss=0.51, accuracy=0.976]\n"
     ]
    },
    {
     "name": "stdout",
     "output_type": "stream",
     "text": [
      "\n",
      "Epoch 257: Train Loss=0.4131 | Train Acc=0.9538 | Val Loss=0.5929 | Dice=0.7235 | IoU=0.5914 | Accuracy=0.9259\n",
      "\n"
     ]
    },
    {
     "name": "stderr",
     "output_type": "stream",
     "text": [
      "Epoch 258/500: 100%|██████████| 107/107 [01:04<00:00,  1.67it/s, loss=0.49, accuracy=0.94]\n"
     ]
    },
    {
     "name": "stdout",
     "output_type": "stream",
     "text": [
      "\n",
      "Epoch 258: Train Loss=0.4286 | Train Acc=0.9513 | Val Loss=0.6037 | Dice=0.7228 | IoU=0.5933 | Accuracy=0.9229\n",
      "\n"
     ]
    },
    {
     "name": "stderr",
     "output_type": "stream",
     "text": [
      "Epoch 259/500: 100%|██████████| 107/107 [01:04<00:00,  1.66it/s, loss=0.616, accuracy=0.953]\n"
     ]
    },
    {
     "name": "stdout",
     "output_type": "stream",
     "text": [
      "\n",
      "Epoch 259: Train Loss=0.4327 | Train Acc=0.9505 | Val Loss=0.5613 | Dice=0.7499 | IoU=0.6292 | Accuracy=0.9307\n",
      "\n"
     ]
    },
    {
     "name": "stderr",
     "output_type": "stream",
     "text": [
      "Epoch 260/500: 100%|██████████| 107/107 [01:04<00:00,  1.66it/s, loss=0.391, accuracy=0.947]\n"
     ]
    },
    {
     "name": "stdout",
     "output_type": "stream",
     "text": [
      "\n",
      "Epoch 260: Train Loss=0.4127 | Train Acc=0.9534 | Val Loss=0.5641 | Dice=0.7449 | IoU=0.6185 | Accuracy=0.9306\n",
      "\n"
     ]
    },
    {
     "name": "stderr",
     "output_type": "stream",
     "text": [
      "Epoch 261/500: 100%|██████████| 107/107 [01:04<00:00,  1.67it/s, loss=0.552, accuracy=0.962]\n"
     ]
    },
    {
     "name": "stdout",
     "output_type": "stream",
     "text": [
      "\n",
      "Epoch 261: Train Loss=0.4104 | Train Acc=0.9545 | Val Loss=0.6312 | Dice=0.7116 | IoU=0.5783 | Accuracy=0.9215\n",
      "\n"
     ]
    },
    {
     "name": "stderr",
     "output_type": "stream",
     "text": [
      "Epoch 262/500: 100%|██████████| 107/107 [01:04<00:00,  1.67it/s, loss=0.368, accuracy=0.954]\n"
     ]
    },
    {
     "name": "stdout",
     "output_type": "stream",
     "text": [
      "\n",
      "Epoch 262: Train Loss=0.4098 | Train Acc=0.9544 | Val Loss=0.6005 | Dice=0.7185 | IoU=0.5910 | Accuracy=0.9262\n",
      "\n"
     ]
    },
    {
     "name": "stderr",
     "output_type": "stream",
     "text": [
      "Epoch 263/500: 100%|██████████| 107/107 [01:04<00:00,  1.67it/s, loss=0.404, accuracy=0.972]\n"
     ]
    },
    {
     "name": "stdout",
     "output_type": "stream",
     "text": [
      "\n",
      "Epoch 263: Train Loss=0.4096 | Train Acc=0.9540 | Val Loss=0.5666 | Dice=0.7468 | IoU=0.6201 | Accuracy=0.9309\n",
      "\n"
     ]
    },
    {
     "name": "stderr",
     "output_type": "stream",
     "text": [
      "Epoch 264/500: 100%|██████████| 107/107 [01:03<00:00,  1.67it/s, loss=0.422, accuracy=0.956]\n"
     ]
    },
    {
     "name": "stdout",
     "output_type": "stream",
     "text": [
      "\n",
      "Epoch 264: Train Loss=0.4085 | Train Acc=0.9545 | Val Loss=0.5913 | Dice=0.7394 | IoU=0.6160 | Accuracy=0.9272\n",
      "\n"
     ]
    },
    {
     "name": "stderr",
     "output_type": "stream",
     "text": [
      "Epoch 265/500: 100%|██████████| 107/107 [01:04<00:00,  1.67it/s, loss=0.35, accuracy=0.966]\n"
     ]
    },
    {
     "name": "stdout",
     "output_type": "stream",
     "text": [
      "\n",
      "Epoch 265: Train Loss=0.4019 | Train Acc=0.9554 | Val Loss=0.5921 | Dice=0.7307 | IoU=0.6022 | Accuracy=0.9274\n",
      "\n"
     ]
    },
    {
     "name": "stderr",
     "output_type": "stream",
     "text": [
      "Epoch 266/500: 100%|██████████| 107/107 [01:04<00:00,  1.67it/s, loss=0.338, accuracy=0.968]\n"
     ]
    },
    {
     "name": "stdout",
     "output_type": "stream",
     "text": [
      "\n",
      "Epoch 266: Train Loss=0.4037 | Train Acc=0.9548 | Val Loss=0.5842 | Dice=0.7366 | IoU=0.6122 | Accuracy=0.9285\n",
      "\n"
     ]
    },
    {
     "name": "stderr",
     "output_type": "stream",
     "text": [
      "Epoch 267/500: 100%|██████████| 107/107 [01:04<00:00,  1.67it/s, loss=0.37, accuracy=0.957]\n"
     ]
    },
    {
     "name": "stdout",
     "output_type": "stream",
     "text": [
      "\n",
      "Epoch 267: Train Loss=0.4093 | Train Acc=0.9540 | Val Loss=0.5575 | Dice=0.7449 | IoU=0.6204 | Accuracy=0.9329\n",
      "\n"
     ]
    },
    {
     "name": "stderr",
     "output_type": "stream",
     "text": [
      "Epoch 268/500: 100%|██████████| 107/107 [01:04<00:00,  1.67it/s, loss=0.349, accuracy=0.959]\n"
     ]
    },
    {
     "name": "stdout",
     "output_type": "stream",
     "text": [
      "\n",
      "Epoch 268: Train Loss=0.4030 | Train Acc=0.9550 | Val Loss=0.6191 | Dice=0.7248 | IoU=0.5966 | Accuracy=0.9250\n",
      "\n"
     ]
    },
    {
     "name": "stderr",
     "output_type": "stream",
     "text": [
      "Epoch 269/500: 100%|██████████| 107/107 [01:04<00:00,  1.67it/s, loss=0.285, accuracy=0.953]\n"
     ]
    },
    {
     "name": "stdout",
     "output_type": "stream",
     "text": [
      "\n",
      "Epoch 269: Train Loss=0.4033 | Train Acc=0.9552 | Val Loss=0.5856 | Dice=0.7255 | IoU=0.5984 | Accuracy=0.9269\n",
      "\n"
     ]
    },
    {
     "name": "stderr",
     "output_type": "stream",
     "text": [
      "Epoch 270/500: 100%|██████████| 107/107 [01:04<00:00,  1.67it/s, loss=0.38, accuracy=0.965]\n"
     ]
    },
    {
     "name": "stdout",
     "output_type": "stream",
     "text": [
      "\n",
      "Epoch 270: Train Loss=0.4069 | Train Acc=0.9547 | Val Loss=0.6115 | Dice=0.7102 | IoU=0.5801 | Accuracy=0.9244\n",
      "\n"
     ]
    },
    {
     "name": "stderr",
     "output_type": "stream",
     "text": [
      "Epoch 271/500: 100%|██████████| 107/107 [01:04<00:00,  1.66it/s, loss=0.429, accuracy=0.942]\n"
     ]
    },
    {
     "name": "stdout",
     "output_type": "stream",
     "text": [
      "\n",
      "Epoch 271: Train Loss=0.4076 | Train Acc=0.9543 | Val Loss=0.6005 | Dice=0.7222 | IoU=0.5908 | Accuracy=0.9249\n",
      "\n"
     ]
    },
    {
     "name": "stderr",
     "output_type": "stream",
     "text": [
      "Epoch 272/500: 100%|██████████| 107/107 [01:04<00:00,  1.67it/s, loss=0.383, accuracy=0.958]\n"
     ]
    },
    {
     "name": "stdout",
     "output_type": "stream",
     "text": [
      "\n",
      "Epoch 272: Train Loss=0.4082 | Train Acc=0.9543 | Val Loss=0.6175 | Dice=0.7143 | IoU=0.5842 | Accuracy=0.9237\n",
      "\n"
     ]
    },
    {
     "name": "stderr",
     "output_type": "stream",
     "text": [
      "Epoch 273/500: 100%|██████████| 107/107 [01:04<00:00,  1.67it/s, loss=0.466, accuracy=0.969]\n"
     ]
    },
    {
     "name": "stdout",
     "output_type": "stream",
     "text": [
      "\n",
      "Epoch 273: Train Loss=0.4024 | Train Acc=0.9556 | Val Loss=0.5412 | Dice=0.7625 | IoU=0.6394 | Accuracy=0.9340\n",
      "\n",
      "✅ Best model saved: checkpoints/best_model_epoch273_dice0.7625.pth\n"
     ]
    },
    {
     "name": "stderr",
     "output_type": "stream",
     "text": [
      "Epoch 274/500: 100%|██████████| 107/107 [01:04<00:00,  1.66it/s, loss=0.464, accuracy=0.888]\n"
     ]
    },
    {
     "name": "stdout",
     "output_type": "stream",
     "text": [
      "\n",
      "Epoch 274: Train Loss=0.3971 | Train Acc=0.9556 | Val Loss=0.5779 | Dice=0.7476 | IoU=0.6225 | Accuracy=0.9294\n",
      "\n"
     ]
    },
    {
     "name": "stderr",
     "output_type": "stream",
     "text": [
      "Epoch 275/500: 100%|██████████| 107/107 [01:04<00:00,  1.67it/s, loss=0.488, accuracy=0.95]\n"
     ]
    },
    {
     "name": "stdout",
     "output_type": "stream",
     "text": [
      "\n",
      "Epoch 275: Train Loss=0.4062 | Train Acc=0.9545 | Val Loss=0.5974 | Dice=0.7251 | IoU=0.5951 | Accuracy=0.9278\n",
      "\n"
     ]
    },
    {
     "name": "stderr",
     "output_type": "stream",
     "text": [
      "Epoch 276/500: 100%|██████████| 107/107 [01:04<00:00,  1.66it/s, loss=0.446, accuracy=0.971]\n"
     ]
    },
    {
     "name": "stdout",
     "output_type": "stream",
     "text": [
      "\n",
      "Epoch 276: Train Loss=0.3996 | Train Acc=0.9559 | Val Loss=0.5740 | Dice=0.7409 | IoU=0.6156 | Accuracy=0.9309\n",
      "\n"
     ]
    },
    {
     "name": "stderr",
     "output_type": "stream",
     "text": [
      "Epoch 277/500: 100%|██████████| 107/107 [01:03<00:00,  1.67it/s, loss=0.341, accuracy=0.947]\n"
     ]
    },
    {
     "name": "stdout",
     "output_type": "stream",
     "text": [
      "\n",
      "Epoch 277: Train Loss=0.3981 | Train Acc=0.9553 | Val Loss=0.5781 | Dice=0.7354 | IoU=0.6075 | Accuracy=0.9282\n",
      "\n"
     ]
    },
    {
     "name": "stderr",
     "output_type": "stream",
     "text": [
      "Epoch 278/500: 100%|██████████| 107/107 [01:04<00:00,  1.67it/s, loss=0.289, accuracy=0.963]\n"
     ]
    },
    {
     "name": "stdout",
     "output_type": "stream",
     "text": [
      "\n",
      "Epoch 278: Train Loss=0.4031 | Train Acc=0.9550 | Val Loss=0.5871 | Dice=0.7308 | IoU=0.6085 | Accuracy=0.9277\n",
      "\n"
     ]
    },
    {
     "name": "stderr",
     "output_type": "stream",
     "text": [
      "Epoch 279/500: 100%|██████████| 107/107 [01:04<00:00,  1.65it/s, loss=0.277, accuracy=0.97]\n"
     ]
    },
    {
     "name": "stdout",
     "output_type": "stream",
     "text": [
      "\n",
      "Epoch 279: Train Loss=0.4053 | Train Acc=0.9548 | Val Loss=0.5974 | Dice=0.7330 | IoU=0.6073 | Accuracy=0.9262\n",
      "\n"
     ]
    },
    {
     "name": "stderr",
     "output_type": "stream",
     "text": [
      "Epoch 280/500: 100%|██████████| 107/107 [01:03<00:00,  1.67it/s, loss=0.348, accuracy=0.965]\n"
     ]
    },
    {
     "name": "stdout",
     "output_type": "stream",
     "text": [
      "\n",
      "Epoch 280: Train Loss=0.3958 | Train Acc=0.9561 | Val Loss=0.6061 | Dice=0.7217 | IoU=0.5939 | Accuracy=0.9251\n",
      "\n"
     ]
    },
    {
     "name": "stderr",
     "output_type": "stream",
     "text": [
      "Epoch 281/500: 100%|██████████| 107/107 [01:04<00:00,  1.67it/s, loss=0.421, accuracy=0.93]\n"
     ]
    },
    {
     "name": "stdout",
     "output_type": "stream",
     "text": [
      "\n",
      "Epoch 281: Train Loss=0.4001 | Train Acc=0.9556 | Val Loss=0.5736 | Dice=0.7426 | IoU=0.6181 | Accuracy=0.9291\n",
      "\n"
     ]
    },
    {
     "name": "stderr",
     "output_type": "stream",
     "text": [
      "Epoch 282/500: 100%|██████████| 107/107 [01:04<00:00,  1.67it/s, loss=0.324, accuracy=0.967]\n"
     ]
    },
    {
     "name": "stdout",
     "output_type": "stream",
     "text": [
      "\n",
      "Epoch 282: Train Loss=0.3973 | Train Acc=0.9560 | Val Loss=0.5884 | Dice=0.7321 | IoU=0.6053 | Accuracy=0.9269\n",
      "\n"
     ]
    },
    {
     "name": "stderr",
     "output_type": "stream",
     "text": [
      "Epoch 283/500: 100%|██████████| 107/107 [01:03<00:00,  1.67it/s, loss=0.309, accuracy=0.973]\n"
     ]
    },
    {
     "name": "stdout",
     "output_type": "stream",
     "text": [
      "\n",
      "Epoch 283: Train Loss=0.3962 | Train Acc=0.9560 | Val Loss=0.6267 | Dice=0.7124 | IoU=0.5822 | Accuracy=0.9239\n",
      "\n"
     ]
    },
    {
     "name": "stderr",
     "output_type": "stream",
     "text": [
      "Epoch 284/500: 100%|██████████| 107/107 [01:03<00:00,  1.67it/s, loss=0.361, accuracy=0.942]\n"
     ]
    },
    {
     "name": "stdout",
     "output_type": "stream",
     "text": [
      "\n",
      "Epoch 284: Train Loss=0.4007 | Train Acc=0.9548 | Val Loss=0.5752 | Dice=0.7434 | IoU=0.6223 | Accuracy=0.9310\n",
      "\n"
     ]
    },
    {
     "name": "stderr",
     "output_type": "stream",
     "text": [
      "Epoch 285/500: 100%|██████████| 107/107 [01:03<00:00,  1.67it/s, loss=0.349, accuracy=0.953]\n"
     ]
    },
    {
     "name": "stdout",
     "output_type": "stream",
     "text": [
      "\n",
      "Epoch 285: Train Loss=0.4018 | Train Acc=0.9555 | Val Loss=0.5960 | Dice=0.7342 | IoU=0.6079 | Accuracy=0.9282\n",
      "\n"
     ]
    },
    {
     "name": "stderr",
     "output_type": "stream",
     "text": [
      "Epoch 286/500: 100%|██████████| 107/107 [01:04<00:00,  1.67it/s, loss=0.397, accuracy=0.958]\n"
     ]
    },
    {
     "name": "stdout",
     "output_type": "stream",
     "text": [
      "\n",
      "Epoch 286: Train Loss=0.3981 | Train Acc=0.9560 | Val Loss=0.5901 | Dice=0.7315 | IoU=0.6080 | Accuracy=0.9285\n",
      "\n"
     ]
    },
    {
     "name": "stderr",
     "output_type": "stream",
     "text": [
      "Epoch 287/500: 100%|██████████| 107/107 [01:04<00:00,  1.67it/s, loss=0.434, accuracy=0.961]\n"
     ]
    },
    {
     "name": "stdout",
     "output_type": "stream",
     "text": [
      "\n",
      "Epoch 287: Train Loss=0.3933 | Train Acc=0.9567 | Val Loss=0.5931 | Dice=0.7268 | IoU=0.5983 | Accuracy=0.9265\n",
      "\n"
     ]
    },
    {
     "name": "stderr",
     "output_type": "stream",
     "text": [
      "Epoch 288/500: 100%|██████████| 107/107 [01:04<00:00,  1.67it/s, loss=0.388, accuracy=0.955]\n"
     ]
    },
    {
     "name": "stdout",
     "output_type": "stream",
     "text": [
      "\n",
      "Epoch 288: Train Loss=0.3953 | Train Acc=0.9563 | Val Loss=0.5899 | Dice=0.7270 | IoU=0.5988 | Accuracy=0.9267\n",
      "\n"
     ]
    },
    {
     "name": "stderr",
     "output_type": "stream",
     "text": [
      "Epoch 289/500: 100%|██████████| 107/107 [01:04<00:00,  1.67it/s, loss=0.576, accuracy=0.893]\n"
     ]
    },
    {
     "name": "stdout",
     "output_type": "stream",
     "text": [
      "\n",
      "Epoch 289: Train Loss=0.3991 | Train Acc=0.9556 | Val Loss=0.6015 | Dice=0.7251 | IoU=0.6001 | Accuracy=0.9227\n",
      "\n"
     ]
    },
    {
     "name": "stderr",
     "output_type": "stream",
     "text": [
      "Epoch 290/500: 100%|██████████| 107/107 [01:04<00:00,  1.67it/s, loss=0.58, accuracy=0.949]\n"
     ]
    },
    {
     "name": "stdout",
     "output_type": "stream",
     "text": [
      "\n",
      "Epoch 290: Train Loss=0.3958 | Train Acc=0.9566 | Val Loss=0.6004 | Dice=0.7335 | IoU=0.6114 | Accuracy=0.9271\n",
      "\n"
     ]
    },
    {
     "name": "stderr",
     "output_type": "stream",
     "text": [
      "Epoch 291/500: 100%|██████████| 107/107 [01:04<00:00,  1.67it/s, loss=0.503, accuracy=0.93]\n"
     ]
    },
    {
     "name": "stdout",
     "output_type": "stream",
     "text": [
      "\n",
      "Epoch 291: Train Loss=0.3971 | Train Acc=0.9561 | Val Loss=0.5911 | Dice=0.7340 | IoU=0.6090 | Accuracy=0.9278\n",
      "\n"
     ]
    },
    {
     "name": "stderr",
     "output_type": "stream",
     "text": [
      "Epoch 292/500: 100%|██████████| 107/107 [01:03<00:00,  1.67it/s, loss=0.524, accuracy=0.96]\n"
     ]
    },
    {
     "name": "stdout",
     "output_type": "stream",
     "text": [
      "\n",
      "Epoch 292: Train Loss=0.4011 | Train Acc=0.9555 | Val Loss=0.6486 | Dice=0.7035 | IoU=0.5699 | Accuracy=0.9198\n",
      "\n"
     ]
    },
    {
     "name": "stderr",
     "output_type": "stream",
     "text": [
      "Epoch 293/500: 100%|██████████| 107/107 [01:04<00:00,  1.66it/s, loss=0.493, accuracy=0.968]\n"
     ]
    },
    {
     "name": "stdout",
     "output_type": "stream",
     "text": [
      "\n",
      "Epoch 293: Train Loss=0.3972 | Train Acc=0.9562 | Val Loss=0.6121 | Dice=0.7331 | IoU=0.6084 | Accuracy=0.9242\n",
      "\n"
     ]
    },
    {
     "name": "stderr",
     "output_type": "stream",
     "text": [
      "Epoch 294/500: 100%|██████████| 107/107 [01:04<00:00,  1.67it/s, loss=0.375, accuracy=0.942]\n"
     ]
    },
    {
     "name": "stdout",
     "output_type": "stream",
     "text": [
      "\n",
      "Epoch 294: Train Loss=0.3996 | Train Acc=0.9554 | Val Loss=0.5936 | Dice=0.7389 | IoU=0.6172 | Accuracy=0.9289\n",
      "\n"
     ]
    },
    {
     "name": "stderr",
     "output_type": "stream",
     "text": [
      "Epoch 295/500: 100%|██████████| 107/107 [01:04<00:00,  1.67it/s, loss=0.308, accuracy=0.956]\n"
     ]
    },
    {
     "name": "stdout",
     "output_type": "stream",
     "text": [
      "\n",
      "Epoch 295: Train Loss=0.3936 | Train Acc=0.9564 | Val Loss=0.5973 | Dice=0.7300 | IoU=0.6033 | Accuracy=0.9259\n",
      "\n"
     ]
    },
    {
     "name": "stderr",
     "output_type": "stream",
     "text": [
      "Epoch 296/500: 100%|██████████| 107/107 [01:03<00:00,  1.68it/s, loss=0.333, accuracy=0.957]\n"
     ]
    },
    {
     "name": "stdout",
     "output_type": "stream",
     "text": [
      "\n",
      "Epoch 296: Train Loss=0.3932 | Train Acc=0.9566 | Val Loss=0.5919 | Dice=0.7284 | IoU=0.6020 | Accuracy=0.9269\n",
      "\n"
     ]
    },
    {
     "name": "stderr",
     "output_type": "stream",
     "text": [
      "Epoch 297/500: 100%|██████████| 107/107 [01:04<00:00,  1.67it/s, loss=0.516, accuracy=0.967]\n"
     ]
    },
    {
     "name": "stdout",
     "output_type": "stream",
     "text": [
      "\n",
      "Epoch 297: Train Loss=0.3929 | Train Acc=0.9567 | Val Loss=0.6245 | Dice=0.7195 | IoU=0.5916 | Accuracy=0.9218\n",
      "\n"
     ]
    },
    {
     "name": "stderr",
     "output_type": "stream",
     "text": [
      "Epoch 298/500: 100%|██████████| 107/107 [01:04<00:00,  1.67it/s, loss=0.424, accuracy=0.932]\n"
     ]
    },
    {
     "name": "stdout",
     "output_type": "stream",
     "text": [
      "\n",
      "Epoch 298: Train Loss=0.3962 | Train Acc=0.9561 | Val Loss=0.5936 | Dice=0.7319 | IoU=0.6039 | Accuracy=0.9262\n",
      "\n"
     ]
    },
    {
     "name": "stderr",
     "output_type": "stream",
     "text": [
      "Epoch 299/500: 100%|██████████| 107/107 [01:04<00:00,  1.67it/s, loss=0.36, accuracy=0.95]\n"
     ]
    },
    {
     "name": "stdout",
     "output_type": "stream",
     "text": [
      "\n",
      "Epoch 299: Train Loss=0.3924 | Train Acc=0.9566 | Val Loss=0.6078 | Dice=0.7230 | IoU=0.5954 | Accuracy=0.9246\n",
      "\n"
     ]
    },
    {
     "name": "stderr",
     "output_type": "stream",
     "text": [
      "Epoch 300/500: 100%|██████████| 107/107 [01:04<00:00,  1.67it/s, loss=0.475, accuracy=0.962]\n"
     ]
    },
    {
     "name": "stdout",
     "output_type": "stream",
     "text": [
      "\n",
      "Epoch 300: Train Loss=0.3891 | Train Acc=0.9573 | Val Loss=0.6021 | Dice=0.7305 | IoU=0.6054 | Accuracy=0.9261\n",
      "\n"
     ]
    },
    {
     "name": "stderr",
     "output_type": "stream",
     "text": [
      "Epoch 301/500: 100%|██████████| 107/107 [01:03<00:00,  1.68it/s, loss=0.389, accuracy=0.97]\n"
     ]
    },
    {
     "name": "stdout",
     "output_type": "stream",
     "text": [
      "\n",
      "Epoch 301: Train Loss=0.3876 | Train Acc=0.9573 | Val Loss=0.5949 | Dice=0.7361 | IoU=0.6118 | Accuracy=0.9261\n",
      "\n"
     ]
    },
    {
     "name": "stderr",
     "output_type": "stream",
     "text": [
      "Epoch 302/500: 100%|██████████| 107/107 [01:03<00:00,  1.67it/s, loss=0.47, accuracy=0.973]\n"
     ]
    },
    {
     "name": "stdout",
     "output_type": "stream",
     "text": [
      "\n",
      "Epoch 302: Train Loss=0.3991 | Train Acc=0.9559 | Val Loss=0.6384 | Dice=0.7128 | IoU=0.5841 | Accuracy=0.9187\n",
      "\n"
     ]
    },
    {
     "name": "stderr",
     "output_type": "stream",
     "text": [
      "Epoch 303/500: 100%|██████████| 107/107 [01:03<00:00,  1.67it/s, loss=0.374, accuracy=0.944]\n"
     ]
    },
    {
     "name": "stdout",
     "output_type": "stream",
     "text": [
      "\n",
      "Epoch 303: Train Loss=0.3906 | Train Acc=0.9568 | Val Loss=0.6074 | Dice=0.7256 | IoU=0.6016 | Accuracy=0.9241\n",
      "\n"
     ]
    },
    {
     "name": "stderr",
     "output_type": "stream",
     "text": [
      "Epoch 304/500: 100%|██████████| 107/107 [01:03<00:00,  1.68it/s, loss=0.429, accuracy=0.95]\n"
     ]
    },
    {
     "name": "stdout",
     "output_type": "stream",
     "text": [
      "\n",
      "Epoch 304: Train Loss=0.3933 | Train Acc=0.9565 | Val Loss=0.5848 | Dice=0.7290 | IoU=0.6051 | Accuracy=0.9287\n",
      "\n"
     ]
    },
    {
     "name": "stderr",
     "output_type": "stream",
     "text": [
      "Epoch 305/500: 100%|██████████| 107/107 [01:03<00:00,  1.68it/s, loss=0.36, accuracy=0.949]\n"
     ]
    },
    {
     "name": "stdout",
     "output_type": "stream",
     "text": [
      "\n",
      "Epoch 305: Train Loss=0.3868 | Train Acc=0.9574 | Val Loss=0.6548 | Dice=0.7079 | IoU=0.5792 | Accuracy=0.9218\n",
      "\n"
     ]
    },
    {
     "name": "stderr",
     "output_type": "stream",
     "text": [
      "Epoch 306/500: 100%|██████████| 107/107 [01:03<00:00,  1.68it/s, loss=0.29, accuracy=0.964]\n"
     ]
    },
    {
     "name": "stdout",
     "output_type": "stream",
     "text": [
      "\n",
      "Epoch 306: Train Loss=0.3863 | Train Acc=0.9575 | Val Loss=0.6103 | Dice=0.7174 | IoU=0.5914 | Accuracy=0.9240\n",
      "\n"
     ]
    },
    {
     "name": "stderr",
     "output_type": "stream",
     "text": [
      "Epoch 307/500: 100%|██████████| 107/107 [01:04<00:00,  1.67it/s, loss=0.417, accuracy=0.97]\n"
     ]
    },
    {
     "name": "stdout",
     "output_type": "stream",
     "text": [
      "\n",
      "Epoch 307: Train Loss=0.3880 | Train Acc=0.9572 | Val Loss=0.5699 | Dice=0.7503 | IoU=0.6290 | Accuracy=0.9298\n",
      "\n"
     ]
    },
    {
     "name": "stderr",
     "output_type": "stream",
     "text": [
      "Epoch 308/500: 100%|██████████| 107/107 [01:04<00:00,  1.67it/s, loss=0.333, accuracy=0.945]\n"
     ]
    },
    {
     "name": "stdout",
     "output_type": "stream",
     "text": [
      "\n",
      "Epoch 308: Train Loss=0.3847 | Train Acc=0.9577 | Val Loss=0.6025 | Dice=0.7261 | IoU=0.5996 | Accuracy=0.9255\n",
      "\n"
     ]
    },
    {
     "name": "stderr",
     "output_type": "stream",
     "text": [
      "Epoch 309/500: 100%|██████████| 107/107 [01:03<00:00,  1.67it/s, loss=0.35, accuracy=0.966]\n"
     ]
    },
    {
     "name": "stdout",
     "output_type": "stream",
     "text": [
      "\n",
      "Epoch 309: Train Loss=0.3850 | Train Acc=0.9578 | Val Loss=0.5571 | Dice=0.7451 | IoU=0.6200 | Accuracy=0.9303\n",
      "\n"
     ]
    },
    {
     "name": "stderr",
     "output_type": "stream",
     "text": [
      "Epoch 310/500: 100%|██████████| 107/107 [01:03<00:00,  1.67it/s, loss=0.358, accuracy=0.95]\n"
     ]
    },
    {
     "name": "stdout",
     "output_type": "stream",
     "text": [
      "\n",
      "Epoch 310: Train Loss=0.3881 | Train Acc=0.9576 | Val Loss=0.6093 | Dice=0.7313 | IoU=0.6065 | Accuracy=0.9253\n",
      "\n"
     ]
    },
    {
     "name": "stderr",
     "output_type": "stream",
     "text": [
      "Epoch 311/500: 100%|██████████| 107/107 [01:03<00:00,  1.68it/s, loss=0.447, accuracy=0.952]\n"
     ]
    },
    {
     "name": "stdout",
     "output_type": "stream",
     "text": [
      "\n",
      "Epoch 311: Train Loss=0.3866 | Train Acc=0.9576 | Val Loss=0.6195 | Dice=0.7278 | IoU=0.6033 | Accuracy=0.9239\n",
      "\n"
     ]
    },
    {
     "name": "stderr",
     "output_type": "stream",
     "text": [
      "Epoch 312/500: 100%|██████████| 107/107 [01:03<00:00,  1.68it/s, loss=0.35, accuracy=0.916]\n"
     ]
    },
    {
     "name": "stdout",
     "output_type": "stream",
     "text": [
      "\n",
      "Epoch 312: Train Loss=0.3861 | Train Acc=0.9573 | Val Loss=0.6229 | Dice=0.7199 | IoU=0.5962 | Accuracy=0.9228\n",
      "\n"
     ]
    },
    {
     "name": "stderr",
     "output_type": "stream",
     "text": [
      "Epoch 313/500: 100%|██████████| 107/107 [01:04<00:00,  1.67it/s, loss=0.409, accuracy=0.958]\n"
     ]
    },
    {
     "name": "stdout",
     "output_type": "stream",
     "text": [
      "\n",
      "Epoch 313: Train Loss=0.3891 | Train Acc=0.9567 | Val Loss=0.5600 | Dice=0.7490 | IoU=0.6262 | Accuracy=0.9321\n",
      "\n"
     ]
    },
    {
     "name": "stderr",
     "output_type": "stream",
     "text": [
      "Epoch 314/500: 100%|██████████| 107/107 [01:04<00:00,  1.66it/s, loss=0.421, accuracy=0.965]\n"
     ]
    },
    {
     "name": "stdout",
     "output_type": "stream",
     "text": [
      "\n",
      "Epoch 314: Train Loss=0.3843 | Train Acc=0.9579 | Val Loss=0.5961 | Dice=0.7368 | IoU=0.6140 | Accuracy=0.9279\n",
      "\n"
     ]
    },
    {
     "name": "stderr",
     "output_type": "stream",
     "text": [
      "Epoch 315/500: 100%|██████████| 107/107 [01:04<00:00,  1.65it/s, loss=0.386, accuracy=0.961]\n"
     ]
    },
    {
     "name": "stdout",
     "output_type": "stream",
     "text": [
      "\n",
      "Epoch 315: Train Loss=0.3867 | Train Acc=0.9579 | Val Loss=0.5965 | Dice=0.7323 | IoU=0.6112 | Accuracy=0.9283\n",
      "\n"
     ]
    },
    {
     "name": "stderr",
     "output_type": "stream",
     "text": [
      "Epoch 316/500: 100%|██████████| 107/107 [01:04<00:00,  1.66it/s, loss=0.366, accuracy=0.955]\n"
     ]
    },
    {
     "name": "stdout",
     "output_type": "stream",
     "text": [
      "\n",
      "Epoch 316: Train Loss=0.3824 | Train Acc=0.9584 | Val Loss=0.5738 | Dice=0.7468 | IoU=0.6247 | Accuracy=0.9310\n",
      "\n"
     ]
    },
    {
     "name": "stderr",
     "output_type": "stream",
     "text": [
      "Epoch 317/500: 100%|██████████| 107/107 [01:04<00:00,  1.67it/s, loss=0.414, accuracy=0.975]\n"
     ]
    },
    {
     "name": "stdout",
     "output_type": "stream",
     "text": [
      "\n",
      "Epoch 317: Train Loss=0.3800 | Train Acc=0.9588 | Val Loss=0.5922 | Dice=0.7350 | IoU=0.6120 | Accuracy=0.9297\n",
      "\n"
     ]
    },
    {
     "name": "stderr",
     "output_type": "stream",
     "text": [
      "Epoch 318/500: 100%|██████████| 107/107 [01:04<00:00,  1.67it/s, loss=0.356, accuracy=0.963]\n"
     ]
    },
    {
     "name": "stdout",
     "output_type": "stream",
     "text": [
      "\n",
      "Epoch 318: Train Loss=0.3814 | Train Acc=0.9583 | Val Loss=0.6075 | Dice=0.7243 | IoU=0.6005 | Accuracy=0.9266\n",
      "\n"
     ]
    },
    {
     "name": "stderr",
     "output_type": "stream",
     "text": [
      "Epoch 319/500: 100%|██████████| 107/107 [01:04<00:00,  1.67it/s, loss=0.481, accuracy=0.969]\n"
     ]
    },
    {
     "name": "stdout",
     "output_type": "stream",
     "text": [
      "\n",
      "Epoch 319: Train Loss=0.3813 | Train Acc=0.9585 | Val Loss=0.6095 | Dice=0.7264 | IoU=0.6015 | Accuracy=0.9253\n",
      "\n"
     ]
    },
    {
     "name": "stderr",
     "output_type": "stream",
     "text": [
      "Epoch 320/500: 100%|██████████| 107/107 [01:03<00:00,  1.67it/s, loss=0.525, accuracy=0.952]\n"
     ]
    },
    {
     "name": "stdout",
     "output_type": "stream",
     "text": [
      "\n",
      "Epoch 320: Train Loss=0.3863 | Train Acc=0.9578 | Val Loss=0.6133 | Dice=0.7315 | IoU=0.6100 | Accuracy=0.9249\n",
      "\n"
     ]
    },
    {
     "name": "stderr",
     "output_type": "stream",
     "text": [
      "Epoch 321/500: 100%|██████████| 107/107 [01:04<00:00,  1.67it/s, loss=0.401, accuracy=0.953]\n"
     ]
    },
    {
     "name": "stdout",
     "output_type": "stream",
     "text": [
      "\n",
      "Epoch 321: Train Loss=0.3850 | Train Acc=0.9579 | Val Loss=0.5970 | Dice=0.7367 | IoU=0.6106 | Accuracy=0.9268\n",
      "\n"
     ]
    },
    {
     "name": "stderr",
     "output_type": "stream",
     "text": [
      "Epoch 322/500: 100%|██████████| 107/107 [01:04<00:00,  1.67it/s, loss=0.395, accuracy=0.961]\n"
     ]
    },
    {
     "name": "stdout",
     "output_type": "stream",
     "text": [
      "\n",
      "Epoch 322: Train Loss=0.3866 | Train Acc=0.9575 | Val Loss=0.6123 | Dice=0.7279 | IoU=0.6030 | Accuracy=0.9245\n",
      "\n"
     ]
    },
    {
     "name": "stderr",
     "output_type": "stream",
     "text": [
      "Epoch 323/500: 100%|██████████| 107/107 [01:03<00:00,  1.67it/s, loss=0.395, accuracy=0.966]\n"
     ]
    },
    {
     "name": "stdout",
     "output_type": "stream",
     "text": [
      "\n",
      "Epoch 323: Train Loss=0.3823 | Train Acc=0.9581 | Val Loss=0.6063 | Dice=0.7335 | IoU=0.6092 | Accuracy=0.9265\n",
      "\n"
     ]
    },
    {
     "name": "stderr",
     "output_type": "stream",
     "text": [
      "Epoch 324/500: 100%|██████████| 107/107 [01:04<00:00,  1.67it/s, loss=0.324, accuracy=0.966]\n"
     ]
    },
    {
     "name": "stdout",
     "output_type": "stream",
     "text": [
      "\n",
      "Epoch 324: Train Loss=0.3787 | Train Acc=0.9589 | Val Loss=0.5920 | Dice=0.7427 | IoU=0.6213 | Accuracy=0.9283\n",
      "\n"
     ]
    },
    {
     "name": "stderr",
     "output_type": "stream",
     "text": [
      "Epoch 325/500: 100%|██████████| 107/107 [01:04<00:00,  1.66it/s, loss=0.554, accuracy=0.939]\n"
     ]
    },
    {
     "name": "stdout",
     "output_type": "stream",
     "text": [
      "\n",
      "Epoch 325: Train Loss=0.3819 | Train Acc=0.9582 | Val Loss=0.6304 | Dice=0.7247 | IoU=0.5988 | Accuracy=0.9229\n",
      "\n"
     ]
    },
    {
     "name": "stderr",
     "output_type": "stream",
     "text": [
      "Epoch 326/500: 100%|██████████| 107/107 [01:04<00:00,  1.67it/s, loss=0.297, accuracy=0.971]\n"
     ]
    },
    {
     "name": "stdout",
     "output_type": "stream",
     "text": [
      "\n",
      "Epoch 326: Train Loss=0.3857 | Train Acc=0.9577 | Val Loss=0.6237 | Dice=0.7273 | IoU=0.6018 | Accuracy=0.9239\n",
      "\n"
     ]
    },
    {
     "name": "stderr",
     "output_type": "stream",
     "text": [
      "Epoch 327/500: 100%|██████████| 107/107 [01:04<00:00,  1.67it/s, loss=0.514, accuracy=0.943]\n"
     ]
    },
    {
     "name": "stdout",
     "output_type": "stream",
     "text": [
      "\n",
      "Epoch 327: Train Loss=0.3841 | Train Acc=0.9579 | Val Loss=0.5994 | Dice=0.7294 | IoU=0.6050 | Accuracy=0.9259\n",
      "\n"
     ]
    },
    {
     "name": "stderr",
     "output_type": "stream",
     "text": [
      "Epoch 328/500: 100%|██████████| 107/107 [01:04<00:00,  1.66it/s, loss=0.375, accuracy=0.959]\n"
     ]
    },
    {
     "name": "stdout",
     "output_type": "stream",
     "text": [
      "\n",
      "Epoch 328: Train Loss=0.3797 | Train Acc=0.9588 | Val Loss=0.6155 | Dice=0.7231 | IoU=0.5955 | Accuracy=0.9244\n",
      "\n"
     ]
    },
    {
     "name": "stderr",
     "output_type": "stream",
     "text": [
      "Epoch 329/500: 100%|██████████| 107/107 [01:04<00:00,  1.67it/s, loss=0.456, accuracy=0.967]\n"
     ]
    },
    {
     "name": "stdout",
     "output_type": "stream",
     "text": [
      "\n",
      "Epoch 329: Train Loss=0.3810 | Train Acc=0.9584 | Val Loss=0.5744 | Dice=0.7400 | IoU=0.6143 | Accuracy=0.9301\n",
      "\n"
     ]
    },
    {
     "name": "stderr",
     "output_type": "stream",
     "text": [
      "Epoch 330/500: 100%|██████████| 107/107 [01:04<00:00,  1.67it/s, loss=0.597, accuracy=0.956]\n"
     ]
    },
    {
     "name": "stdout",
     "output_type": "stream",
     "text": [
      "\n",
      "Epoch 330: Train Loss=0.3822 | Train Acc=0.9583 | Val Loss=0.5933 | Dice=0.7290 | IoU=0.6028 | Accuracy=0.9261\n",
      "\n"
     ]
    },
    {
     "name": "stderr",
     "output_type": "stream",
     "text": [
      "Epoch 331/500: 100%|██████████| 107/107 [01:03<00:00,  1.68it/s, loss=0.332, accuracy=0.952]\n"
     ]
    },
    {
     "name": "stdout",
     "output_type": "stream",
     "text": [
      "\n",
      "Epoch 331: Train Loss=0.3799 | Train Acc=0.9584 | Val Loss=0.5816 | Dice=0.7419 | IoU=0.6179 | Accuracy=0.9302\n",
      "\n"
     ]
    },
    {
     "name": "stderr",
     "output_type": "stream",
     "text": [
      "Epoch 332/500: 100%|██████████| 107/107 [01:03<00:00,  1.68it/s, loss=0.397, accuracy=0.965]\n"
     ]
    },
    {
     "name": "stdout",
     "output_type": "stream",
     "text": [
      "\n",
      "Epoch 332: Train Loss=0.3771 | Train Acc=0.9592 | Val Loss=0.5897 | Dice=0.7419 | IoU=0.6208 | Accuracy=0.9300\n",
      "\n"
     ]
    },
    {
     "name": "stderr",
     "output_type": "stream",
     "text": [
      "Epoch 333/500: 100%|██████████| 107/107 [01:03<00:00,  1.67it/s, loss=0.327, accuracy=0.969]\n"
     ]
    },
    {
     "name": "stdout",
     "output_type": "stream",
     "text": [
      "\n",
      "Epoch 333: Train Loss=0.3759 | Train Acc=0.9592 | Val Loss=0.6428 | Dice=0.7093 | IoU=0.5786 | Accuracy=0.9200\n",
      "\n"
     ]
    },
    {
     "name": "stderr",
     "output_type": "stream",
     "text": [
      "Epoch 334/500: 100%|██████████| 107/107 [01:03<00:00,  1.68it/s, loss=0.374, accuracy=0.961]\n"
     ]
    },
    {
     "name": "stdout",
     "output_type": "stream",
     "text": [
      "\n",
      "Epoch 334: Train Loss=0.3778 | Train Acc=0.9591 | Val Loss=0.5840 | Dice=0.7340 | IoU=0.6083 | Accuracy=0.9290\n",
      "\n"
     ]
    },
    {
     "name": "stderr",
     "output_type": "stream",
     "text": [
      "Epoch 335/500: 100%|██████████| 107/107 [01:03<00:00,  1.68it/s, loss=0.362, accuracy=0.948]\n"
     ]
    },
    {
     "name": "stdout",
     "output_type": "stream",
     "text": [
      "\n",
      "Epoch 335: Train Loss=0.3754 | Train Acc=0.9589 | Val Loss=0.6247 | Dice=0.7239 | IoU=0.5978 | Accuracy=0.9253\n",
      "\n"
     ]
    },
    {
     "name": "stderr",
     "output_type": "stream",
     "text": [
      "Epoch 336/500: 100%|██████████| 107/107 [01:03<00:00,  1.68it/s, loss=0.426, accuracy=0.955]\n"
     ]
    },
    {
     "name": "stdout",
     "output_type": "stream",
     "text": [
      "\n",
      "Epoch 336: Train Loss=0.3807 | Train Acc=0.9583 | Val Loss=0.5668 | Dice=0.7398 | IoU=0.6168 | Accuracy=0.9303\n",
      "\n"
     ]
    },
    {
     "name": "stderr",
     "output_type": "stream",
     "text": [
      "Epoch 337/500: 100%|██████████| 107/107 [01:03<00:00,  1.68it/s, loss=0.379, accuracy=0.963]\n"
     ]
    },
    {
     "name": "stdout",
     "output_type": "stream",
     "text": [
      "\n",
      "Epoch 337: Train Loss=0.3780 | Train Acc=0.9588 | Val Loss=0.5783 | Dice=0.7414 | IoU=0.6184 | Accuracy=0.9306\n",
      "\n"
     ]
    },
    {
     "name": "stderr",
     "output_type": "stream",
     "text": [
      "Epoch 338/500: 100%|██████████| 107/107 [01:03<00:00,  1.68it/s, loss=0.417, accuracy=0.97]\n"
     ]
    },
    {
     "name": "stdout",
     "output_type": "stream",
     "text": [
      "\n",
      "Epoch 338: Train Loss=0.3773 | Train Acc=0.9591 | Val Loss=0.5849 | Dice=0.7454 | IoU=0.6226 | Accuracy=0.9307\n",
      "\n"
     ]
    },
    {
     "name": "stderr",
     "output_type": "stream",
     "text": [
      "Epoch 339/500: 100%|██████████| 107/107 [01:03<00:00,  1.68it/s, loss=0.396, accuracy=0.935]\n"
     ]
    },
    {
     "name": "stdout",
     "output_type": "stream",
     "text": [
      "\n",
      "Epoch 339: Train Loss=0.3737 | Train Acc=0.9592 | Val Loss=0.6241 | Dice=0.7271 | IoU=0.6050 | Accuracy=0.9249\n",
      "\n"
     ]
    },
    {
     "name": "stderr",
     "output_type": "stream",
     "text": [
      "Epoch 340/500: 100%|██████████| 107/107 [01:03<00:00,  1.68it/s, loss=0.363, accuracy=0.963]\n"
     ]
    },
    {
     "name": "stdout",
     "output_type": "stream",
     "text": [
      "\n",
      "Epoch 340: Train Loss=0.3794 | Train Acc=0.9584 | Val Loss=0.6025 | Dice=0.7303 | IoU=0.6054 | Accuracy=0.9249\n",
      "\n"
     ]
    },
    {
     "name": "stderr",
     "output_type": "stream",
     "text": [
      "Epoch 341/500: 100%|██████████| 107/107 [01:03<00:00,  1.68it/s, loss=0.305, accuracy=0.942]\n"
     ]
    },
    {
     "name": "stdout",
     "output_type": "stream",
     "text": [
      "\n",
      "Epoch 341: Train Loss=0.3698 | Train Acc=0.9595 | Val Loss=0.5834 | Dice=0.7390 | IoU=0.6154 | Accuracy=0.9293\n",
      "\n"
     ]
    },
    {
     "name": "stderr",
     "output_type": "stream",
     "text": [
      "Epoch 342/500: 100%|██████████| 107/107 [01:03<00:00,  1.67it/s, loss=0.312, accuracy=0.965]\n"
     ]
    },
    {
     "name": "stdout",
     "output_type": "stream",
     "text": [
      "\n",
      "Epoch 342: Train Loss=0.3760 | Train Acc=0.9591 | Val Loss=0.5897 | Dice=0.7263 | IoU=0.5992 | Accuracy=0.9287\n",
      "\n"
     ]
    },
    {
     "name": "stderr",
     "output_type": "stream",
     "text": [
      "Epoch 343/500: 100%|██████████| 107/107 [01:03<00:00,  1.67it/s, loss=0.311, accuracy=0.967]\n"
     ]
    },
    {
     "name": "stdout",
     "output_type": "stream",
     "text": [
      "\n",
      "Epoch 343: Train Loss=0.3730 | Train Acc=0.9592 | Val Loss=0.6279 | Dice=0.7198 | IoU=0.5928 | Accuracy=0.9243\n",
      "\n"
     ]
    },
    {
     "name": "stderr",
     "output_type": "stream",
     "text": [
      "Epoch 344/500: 100%|██████████| 107/107 [01:04<00:00,  1.66it/s, loss=0.337, accuracy=0.976]\n"
     ]
    },
    {
     "name": "stdout",
     "output_type": "stream",
     "text": [
      "\n",
      "Epoch 344: Train Loss=0.3722 | Train Acc=0.9599 | Val Loss=0.5666 | Dice=0.7397 | IoU=0.6159 | Accuracy=0.9311\n",
      "\n"
     ]
    },
    {
     "name": "stderr",
     "output_type": "stream",
     "text": [
      "Epoch 345/500: 100%|██████████| 107/107 [01:04<00:00,  1.67it/s, loss=0.398, accuracy=0.967]\n"
     ]
    },
    {
     "name": "stdout",
     "output_type": "stream",
     "text": [
      "\n",
      "Epoch 345: Train Loss=0.3797 | Train Acc=0.9586 | Val Loss=0.5815 | Dice=0.7407 | IoU=0.6147 | Accuracy=0.9275\n",
      "\n"
     ]
    },
    {
     "name": "stderr",
     "output_type": "stream",
     "text": [
      "Epoch 346/500: 100%|██████████| 107/107 [01:03<00:00,  1.67it/s, loss=0.358, accuracy=0.948]\n"
     ]
    },
    {
     "name": "stdout",
     "output_type": "stream",
     "text": [
      "\n",
      "Epoch 346: Train Loss=0.3750 | Train Acc=0.9590 | Val Loss=0.5761 | Dice=0.7391 | IoU=0.6150 | Accuracy=0.9290\n",
      "\n"
     ]
    },
    {
     "name": "stderr",
     "output_type": "stream",
     "text": [
      "Epoch 347/500: 100%|██████████| 107/107 [01:03<00:00,  1.68it/s, loss=0.27, accuracy=0.96]\n"
     ]
    },
    {
     "name": "stdout",
     "output_type": "stream",
     "text": [
      "\n",
      "Epoch 347: Train Loss=0.3705 | Train Acc=0.9597 | Val Loss=0.6037 | Dice=0.7210 | IoU=0.5916 | Accuracy=0.9246\n",
      "\n"
     ]
    },
    {
     "name": "stderr",
     "output_type": "stream",
     "text": [
      "Epoch 348/500: 100%|██████████| 107/107 [01:04<00:00,  1.67it/s, loss=0.44, accuracy=0.95]\n"
     ]
    },
    {
     "name": "stdout",
     "output_type": "stream",
     "text": [
      "\n",
      "Epoch 348: Train Loss=0.3732 | Train Acc=0.9596 | Val Loss=0.6069 | Dice=0.7297 | IoU=0.6033 | Accuracy=0.9249\n",
      "\n"
     ]
    },
    {
     "name": "stderr",
     "output_type": "stream",
     "text": [
      "Epoch 349/500: 100%|██████████| 107/107 [01:03<00:00,  1.68it/s, loss=0.325, accuracy=0.954]\n"
     ]
    },
    {
     "name": "stdout",
     "output_type": "stream",
     "text": [
      "\n",
      "Epoch 349: Train Loss=0.3681 | Train Acc=0.9601 | Val Loss=0.6075 | Dice=0.7346 | IoU=0.6088 | Accuracy=0.9279\n",
      "\n"
     ]
    },
    {
     "name": "stderr",
     "output_type": "stream",
     "text": [
      "Epoch 350/500: 100%|██████████| 107/107 [01:03<00:00,  1.68it/s, loss=0.395, accuracy=0.939]\n"
     ]
    },
    {
     "name": "stdout",
     "output_type": "stream",
     "text": [
      "\n",
      "Epoch 350: Train Loss=0.3742 | Train Acc=0.9593 | Val Loss=0.6004 | Dice=0.7290 | IoU=0.6058 | Accuracy=0.9266\n",
      "\n"
     ]
    },
    {
     "name": "stderr",
     "output_type": "stream",
     "text": [
      "Epoch 351/500: 100%|██████████| 107/107 [01:03<00:00,  1.68it/s, loss=0.338, accuracy=0.971]\n"
     ]
    },
    {
     "name": "stdout",
     "output_type": "stream",
     "text": [
      "\n",
      "Epoch 351: Train Loss=0.3731 | Train Acc=0.9595 | Val Loss=0.6179 | Dice=0.7202 | IoU=0.5925 | Accuracy=0.9232\n",
      "\n"
     ]
    },
    {
     "name": "stderr",
     "output_type": "stream",
     "text": [
      "Epoch 352/500: 100%|██████████| 107/107 [01:03<00:00,  1.68it/s, loss=0.375, accuracy=0.97]\n"
     ]
    },
    {
     "name": "stdout",
     "output_type": "stream",
     "text": [
      "\n",
      "Epoch 352: Train Loss=0.3754 | Train Acc=0.9595 | Val Loss=0.6158 | Dice=0.7275 | IoU=0.5996 | Accuracy=0.9259\n",
      "\n"
     ]
    },
    {
     "name": "stderr",
     "output_type": "stream",
     "text": [
      "Epoch 353/500: 100%|██████████| 107/107 [01:03<00:00,  1.67it/s, loss=0.337, accuracy=0.947]\n"
     ]
    },
    {
     "name": "stdout",
     "output_type": "stream",
     "text": [
      "\n",
      "Epoch 353: Train Loss=0.3693 | Train Acc=0.9600 | Val Loss=0.5772 | Dice=0.7387 | IoU=0.6145 | Accuracy=0.9299\n",
      "\n"
     ]
    },
    {
     "name": "stderr",
     "output_type": "stream",
     "text": [
      "Epoch 354/500: 100%|██████████| 107/107 [01:04<00:00,  1.66it/s, loss=0.387, accuracy=0.974]\n"
     ]
    },
    {
     "name": "stdout",
     "output_type": "stream",
     "text": [
      "\n",
      "Epoch 354: Train Loss=0.3707 | Train Acc=0.9600 | Val Loss=0.6357 | Dice=0.7231 | IoU=0.5968 | Accuracy=0.9239\n",
      "\n"
     ]
    },
    {
     "name": "stderr",
     "output_type": "stream",
     "text": [
      "Epoch 355/500: 100%|██████████| 107/107 [01:04<00:00,  1.66it/s, loss=0.358, accuracy=0.947]\n"
     ]
    },
    {
     "name": "stdout",
     "output_type": "stream",
     "text": [
      "\n",
      "Epoch 355: Train Loss=0.3683 | Train Acc=0.9600 | Val Loss=0.6212 | Dice=0.7221 | IoU=0.5954 | Accuracy=0.9253\n",
      "\n"
     ]
    },
    {
     "name": "stderr",
     "output_type": "stream",
     "text": [
      "Epoch 356/500: 100%|██████████| 107/107 [01:04<00:00,  1.66it/s, loss=0.402, accuracy=0.962]\n"
     ]
    },
    {
     "name": "stdout",
     "output_type": "stream",
     "text": [
      "\n",
      "Epoch 356: Train Loss=0.3730 | Train Acc=0.9595 | Val Loss=0.5872 | Dice=0.7443 | IoU=0.6188 | Accuracy=0.9290\n",
      "\n"
     ]
    },
    {
     "name": "stderr",
     "output_type": "stream",
     "text": [
      "Epoch 357/500: 100%|██████████| 107/107 [01:03<00:00,  1.67it/s, loss=0.352, accuracy=0.952]\n"
     ]
    },
    {
     "name": "stdout",
     "output_type": "stream",
     "text": [
      "\n",
      "Epoch 357: Train Loss=0.3686 | Train Acc=0.9602 | Val Loss=0.6131 | Dice=0.7303 | IoU=0.6014 | Accuracy=0.9250\n",
      "\n"
     ]
    },
    {
     "name": "stderr",
     "output_type": "stream",
     "text": [
      "Epoch 358/500: 100%|██████████| 107/107 [01:03<00:00,  1.67it/s, loss=0.316, accuracy=0.952]\n"
     ]
    },
    {
     "name": "stdout",
     "output_type": "stream",
     "text": [
      "\n",
      "Epoch 358: Train Loss=0.3692 | Train Acc=0.9601 | Val Loss=0.6228 | Dice=0.7250 | IoU=0.5969 | Accuracy=0.9227\n",
      "\n"
     ]
    },
    {
     "name": "stderr",
     "output_type": "stream",
     "text": [
      "Epoch 359/500: 100%|██████████| 107/107 [01:03<00:00,  1.67it/s, loss=0.334, accuracy=0.97]\n"
     ]
    },
    {
     "name": "stdout",
     "output_type": "stream",
     "text": [
      "\n",
      "Epoch 359: Train Loss=0.3637 | Train Acc=0.9607 | Val Loss=0.5713 | Dice=0.7462 | IoU=0.6200 | Accuracy=0.9312\n",
      "\n"
     ]
    },
    {
     "name": "stderr",
     "output_type": "stream",
     "text": [
      "Epoch 360/500: 100%|██████████| 107/107 [01:03<00:00,  1.68it/s, loss=0.391, accuracy=0.977]\n"
     ]
    },
    {
     "name": "stdout",
     "output_type": "stream",
     "text": [
      "\n",
      "Epoch 360: Train Loss=0.3671 | Train Acc=0.9606 | Val Loss=0.5959 | Dice=0.7288 | IoU=0.5992 | Accuracy=0.9259\n",
      "\n"
     ]
    },
    {
     "name": "stderr",
     "output_type": "stream",
     "text": [
      "Epoch 361/500: 100%|██████████| 107/107 [01:04<00:00,  1.67it/s, loss=0.326, accuracy=0.957]\n"
     ]
    },
    {
     "name": "stdout",
     "output_type": "stream",
     "text": [
      "\n",
      "Epoch 361: Train Loss=0.3709 | Train Acc=0.9597 | Val Loss=0.6147 | Dice=0.7269 | IoU=0.5982 | Accuracy=0.9257\n",
      "\n"
     ]
    },
    {
     "name": "stderr",
     "output_type": "stream",
     "text": [
      "Epoch 362/500: 100%|██████████| 107/107 [01:03<00:00,  1.67it/s, loss=0.293, accuracy=0.946]\n"
     ]
    },
    {
     "name": "stdout",
     "output_type": "stream",
     "text": [
      "\n",
      "Epoch 362: Train Loss=0.3677 | Train Acc=0.9602 | Val Loss=0.6277 | Dice=0.7296 | IoU=0.6021 | Accuracy=0.9225\n",
      "\n"
     ]
    },
    {
     "name": "stderr",
     "output_type": "stream",
     "text": [
      "Epoch 363/500: 100%|██████████| 107/107 [01:03<00:00,  1.68it/s, loss=0.278, accuracy=0.964]\n"
     ]
    },
    {
     "name": "stdout",
     "output_type": "stream",
     "text": [
      "\n",
      "Epoch 363: Train Loss=0.3707 | Train Acc=0.9600 | Val Loss=0.6311 | Dice=0.7164 | IoU=0.5852 | Accuracy=0.9210\n",
      "\n"
     ]
    },
    {
     "name": "stderr",
     "output_type": "stream",
     "text": [
      "Epoch 364/500: 100%|██████████| 107/107 [01:04<00:00,  1.67it/s, loss=0.574, accuracy=0.932]\n"
     ]
    },
    {
     "name": "stdout",
     "output_type": "stream",
     "text": [
      "\n",
      "Epoch 364: Train Loss=0.3739 | Train Acc=0.9594 | Val Loss=0.5830 | Dice=0.7434 | IoU=0.6226 | Accuracy=0.9300\n",
      "\n"
     ]
    },
    {
     "name": "stderr",
     "output_type": "stream",
     "text": [
      "Epoch 365/500: 100%|██████████| 107/107 [01:04<00:00,  1.66it/s, loss=0.405, accuracy=0.945]\n"
     ]
    },
    {
     "name": "stdout",
     "output_type": "stream",
     "text": [
      "\n",
      "Epoch 365: Train Loss=0.3753 | Train Acc=0.9593 | Val Loss=0.6023 | Dice=0.7282 | IoU=0.6031 | Accuracy=0.9258\n",
      "\n"
     ]
    },
    {
     "name": "stderr",
     "output_type": "stream",
     "text": [
      "Epoch 366/500: 100%|██████████| 107/107 [01:04<00:00,  1.67it/s, loss=0.316, accuracy=0.96]\n"
     ]
    },
    {
     "name": "stdout",
     "output_type": "stream",
     "text": [
      "\n",
      "Epoch 366: Train Loss=0.3673 | Train Acc=0.9603 | Val Loss=0.5956 | Dice=0.7354 | IoU=0.6124 | Accuracy=0.9252\n",
      "\n"
     ]
    },
    {
     "name": "stderr",
     "output_type": "stream",
     "text": [
      "Epoch 367/500: 100%|██████████| 107/107 [01:03<00:00,  1.68it/s, loss=0.413, accuracy=0.958]\n"
     ]
    },
    {
     "name": "stdout",
     "output_type": "stream",
     "text": [
      "\n",
      "Epoch 367: Train Loss=0.3636 | Train Acc=0.9608 | Val Loss=0.5887 | Dice=0.7409 | IoU=0.6185 | Accuracy=0.9289\n",
      "\n"
     ]
    },
    {
     "name": "stderr",
     "output_type": "stream",
     "text": [
      "Epoch 368/500: 100%|██████████| 107/107 [01:03<00:00,  1.67it/s, loss=0.535, accuracy=0.977]\n"
     ]
    },
    {
     "name": "stdout",
     "output_type": "stream",
     "text": [
      "\n",
      "Epoch 368: Train Loss=0.3697 | Train Acc=0.9604 | Val Loss=0.6451 | Dice=0.7138 | IoU=0.5875 | Accuracy=0.9224\n",
      "\n"
     ]
    },
    {
     "name": "stderr",
     "output_type": "stream",
     "text": [
      "Epoch 369/500: 100%|██████████| 107/107 [01:04<00:00,  1.67it/s, loss=0.273, accuracy=0.962]\n"
     ]
    },
    {
     "name": "stdout",
     "output_type": "stream",
     "text": [
      "\n",
      "Epoch 369: Train Loss=0.3669 | Train Acc=0.9601 | Val Loss=0.5949 | Dice=0.7370 | IoU=0.6135 | Accuracy=0.9286\n",
      "\n"
     ]
    },
    {
     "name": "stderr",
     "output_type": "stream",
     "text": [
      "Epoch 370/500: 100%|██████████| 107/107 [01:03<00:00,  1.67it/s, loss=0.284, accuracy=0.953]\n"
     ]
    },
    {
     "name": "stdout",
     "output_type": "stream",
     "text": [
      "\n",
      "Epoch 370: Train Loss=0.3659 | Train Acc=0.9603 | Val Loss=0.5822 | Dice=0.7419 | IoU=0.6145 | Accuracy=0.9301\n",
      "\n"
     ]
    },
    {
     "name": "stderr",
     "output_type": "stream",
     "text": [
      "Epoch 371/500: 100%|██████████| 107/107 [01:03<00:00,  1.68it/s, loss=0.344, accuracy=0.965]\n"
     ]
    },
    {
     "name": "stdout",
     "output_type": "stream",
     "text": [
      "\n",
      "Epoch 371: Train Loss=0.3643 | Train Acc=0.9608 | Val Loss=0.5901 | Dice=0.7346 | IoU=0.6098 | Accuracy=0.9265\n",
      "\n"
     ]
    },
    {
     "name": "stderr",
     "output_type": "stream",
     "text": [
      "Epoch 372/500: 100%|██████████| 107/107 [01:03<00:00,  1.68it/s, loss=0.389, accuracy=0.955]\n"
     ]
    },
    {
     "name": "stdout",
     "output_type": "stream",
     "text": [
      "\n",
      "Epoch 372: Train Loss=0.3672 | Train Acc=0.9601 | Val Loss=0.6289 | Dice=0.7250 | IoU=0.5990 | Accuracy=0.9250\n",
      "\n"
     ]
    },
    {
     "name": "stderr",
     "output_type": "stream",
     "text": [
      "Epoch 373/500: 100%|██████████| 107/107 [01:03<00:00,  1.68it/s, loss=0.351, accuracy=0.962]\n"
     ]
    },
    {
     "name": "stdout",
     "output_type": "stream",
     "text": [
      "\n",
      "Epoch 373: Train Loss=0.3663 | Train Acc=0.9605 | Val Loss=0.6042 | Dice=0.7281 | IoU=0.6010 | Accuracy=0.9263\n",
      "\n"
     ]
    },
    {
     "name": "stderr",
     "output_type": "stream",
     "text": [
      "Epoch 374/500: 100%|██████████| 107/107 [01:03<00:00,  1.68it/s, loss=0.34, accuracy=0.978]\n"
     ]
    },
    {
     "name": "stdout",
     "output_type": "stream",
     "text": [
      "\n",
      "Epoch 374: Train Loss=0.3621 | Train Acc=0.9608 | Val Loss=0.6088 | Dice=0.7331 | IoU=0.6077 | Accuracy=0.9259\n",
      "\n"
     ]
    },
    {
     "name": "stderr",
     "output_type": "stream",
     "text": [
      "Epoch 375/500: 100%|██████████| 107/107 [01:03<00:00,  1.68it/s, loss=0.455, accuracy=0.958]\n"
     ]
    },
    {
     "name": "stdout",
     "output_type": "stream",
     "text": [
      "\n",
      "Epoch 375: Train Loss=0.3618 | Train Acc=0.9612 | Val Loss=0.5871 | Dice=0.7442 | IoU=0.6210 | Accuracy=0.9294\n",
      "\n"
     ]
    },
    {
     "name": "stderr",
     "output_type": "stream",
     "text": [
      "Epoch 376/500: 100%|██████████| 107/107 [01:03<00:00,  1.67it/s, loss=0.334, accuracy=0.969]\n"
     ]
    },
    {
     "name": "stdout",
     "output_type": "stream",
     "text": [
      "\n",
      "Epoch 376: Train Loss=0.3639 | Train Acc=0.9607 | Val Loss=0.5865 | Dice=0.7354 | IoU=0.6077 | Accuracy=0.9286\n",
      "\n"
     ]
    },
    {
     "name": "stderr",
     "output_type": "stream",
     "text": [
      "Epoch 377/500: 100%|██████████| 107/107 [01:03<00:00,  1.68it/s, loss=0.413, accuracy=0.98]\n"
     ]
    },
    {
     "name": "stdout",
     "output_type": "stream",
     "text": [
      "\n",
      "Epoch 377: Train Loss=0.3700 | Train Acc=0.9600 | Val Loss=0.5802 | Dice=0.7414 | IoU=0.6193 | Accuracy=0.9290\n",
      "\n"
     ]
    },
    {
     "name": "stderr",
     "output_type": "stream",
     "text": [
      "Epoch 378/500: 100%|██████████| 107/107 [01:03<00:00,  1.68it/s, loss=0.374, accuracy=0.968]\n"
     ]
    },
    {
     "name": "stdout",
     "output_type": "stream",
     "text": [
      "\n",
      "Epoch 378: Train Loss=0.3659 | Train Acc=0.9605 | Val Loss=0.5956 | Dice=0.7347 | IoU=0.6070 | Accuracy=0.9273\n",
      "\n"
     ]
    },
    {
     "name": "stderr",
     "output_type": "stream",
     "text": [
      "Epoch 379/500: 100%|██████████| 107/107 [01:03<00:00,  1.68it/s, loss=0.299, accuracy=0.967]\n"
     ]
    },
    {
     "name": "stdout",
     "output_type": "stream",
     "text": [
      "\n",
      "Epoch 379: Train Loss=0.3601 | Train Acc=0.9612 | Val Loss=0.5749 | Dice=0.7435 | IoU=0.6189 | Accuracy=0.9300\n",
      "\n"
     ]
    },
    {
     "name": "stderr",
     "output_type": "stream",
     "text": [
      "Epoch 380/500: 100%|██████████| 107/107 [01:03<00:00,  1.68it/s, loss=0.374, accuracy=0.966]\n"
     ]
    },
    {
     "name": "stdout",
     "output_type": "stream",
     "text": [
      "\n",
      "Epoch 380: Train Loss=0.3605 | Train Acc=0.9611 | Val Loss=0.6238 | Dice=0.7211 | IoU=0.5931 | Accuracy=0.9236\n",
      "\n"
     ]
    },
    {
     "name": "stderr",
     "output_type": "stream",
     "text": [
      "Epoch 381/500: 100%|██████████| 107/107 [01:03<00:00,  1.68it/s, loss=0.531, accuracy=0.968]\n"
     ]
    },
    {
     "name": "stdout",
     "output_type": "stream",
     "text": [
      "\n",
      "Epoch 381: Train Loss=0.3664 | Train Acc=0.9605 | Val Loss=0.5850 | Dice=0.7442 | IoU=0.6209 | Accuracy=0.9292\n",
      "\n"
     ]
    },
    {
     "name": "stderr",
     "output_type": "stream",
     "text": [
      "Epoch 382/500: 100%|██████████| 107/107 [01:03<00:00,  1.68it/s, loss=0.26, accuracy=0.967]\n"
     ]
    },
    {
     "name": "stdout",
     "output_type": "stream",
     "text": [
      "\n",
      "Epoch 382: Train Loss=0.3640 | Train Acc=0.9608 | Val Loss=0.6022 | Dice=0.7339 | IoU=0.6104 | Accuracy=0.9274\n",
      "\n"
     ]
    },
    {
     "name": "stderr",
     "output_type": "stream",
     "text": [
      "Epoch 383/500: 100%|██████████| 107/107 [01:03<00:00,  1.68it/s, loss=0.337, accuracy=0.97]\n"
     ]
    },
    {
     "name": "stdout",
     "output_type": "stream",
     "text": [
      "\n",
      "Epoch 383: Train Loss=0.3615 | Train Acc=0.9614 | Val Loss=0.6000 | Dice=0.7366 | IoU=0.6112 | Accuracy=0.9274\n",
      "\n"
     ]
    },
    {
     "name": "stderr",
     "output_type": "stream",
     "text": [
      "Epoch 384/500: 100%|██████████| 107/107 [01:03<00:00,  1.68it/s, loss=0.292, accuracy=0.946]\n"
     ]
    },
    {
     "name": "stdout",
     "output_type": "stream",
     "text": [
      "\n",
      "Epoch 384: Train Loss=0.3610 | Train Acc=0.9613 | Val Loss=0.6032 | Dice=0.7317 | IoU=0.6050 | Accuracy=0.9268\n",
      "\n"
     ]
    },
    {
     "name": "stderr",
     "output_type": "stream",
     "text": [
      "Epoch 385/500: 100%|██████████| 107/107 [01:04<00:00,  1.66it/s, loss=0.281, accuracy=0.959]\n"
     ]
    },
    {
     "name": "stdout",
     "output_type": "stream",
     "text": [
      "\n",
      "Epoch 385: Train Loss=0.3592 | Train Acc=0.9610 | Val Loss=0.6360 | Dice=0.7209 | IoU=0.5956 | Accuracy=0.9219\n",
      "\n"
     ]
    },
    {
     "name": "stderr",
     "output_type": "stream",
     "text": [
      "Epoch 386/500: 100%|██████████| 107/107 [01:04<00:00,  1.67it/s, loss=0.414, accuracy=0.97]\n"
     ]
    },
    {
     "name": "stdout",
     "output_type": "stream",
     "text": [
      "\n",
      "Epoch 386: Train Loss=0.3628 | Train Acc=0.9609 | Val Loss=0.6343 | Dice=0.7210 | IoU=0.5931 | Accuracy=0.9217\n",
      "\n"
     ]
    },
    {
     "name": "stderr",
     "output_type": "stream",
     "text": [
      "Epoch 387/500: 100%|██████████| 107/107 [01:04<00:00,  1.67it/s, loss=0.324, accuracy=0.951]\n"
     ]
    },
    {
     "name": "stdout",
     "output_type": "stream",
     "text": [
      "\n",
      "Epoch 387: Train Loss=0.3567 | Train Acc=0.9615 | Val Loss=0.5994 | Dice=0.7302 | IoU=0.6055 | Accuracy=0.9271\n",
      "\n"
     ]
    },
    {
     "name": "stderr",
     "output_type": "stream",
     "text": [
      "Epoch 388/500: 100%|██████████| 107/107 [01:04<00:00,  1.67it/s, loss=0.316, accuracy=0.959]\n"
     ]
    },
    {
     "name": "stdout",
     "output_type": "stream",
     "text": [
      "\n",
      "Epoch 388: Train Loss=0.3567 | Train Acc=0.9619 | Val Loss=0.6069 | Dice=0.7319 | IoU=0.6091 | Accuracy=0.9276\n",
      "\n"
     ]
    },
    {
     "name": "stderr",
     "output_type": "stream",
     "text": [
      "Epoch 389/500: 100%|██████████| 107/107 [01:03<00:00,  1.67it/s, loss=0.351, accuracy=0.968]\n"
     ]
    },
    {
     "name": "stdout",
     "output_type": "stream",
     "text": [
      "\n",
      "Epoch 389: Train Loss=0.3623 | Train Acc=0.9608 | Val Loss=0.5993 | Dice=0.7209 | IoU=0.5951 | Accuracy=0.9252\n",
      "\n"
     ]
    },
    {
     "name": "stderr",
     "output_type": "stream",
     "text": [
      "Epoch 390/500: 100%|██████████| 107/107 [01:04<00:00,  1.67it/s, loss=0.49, accuracy=0.921]\n"
     ]
    },
    {
     "name": "stdout",
     "output_type": "stream",
     "text": [
      "\n",
      "Epoch 390: Train Loss=0.3670 | Train Acc=0.9601 | Val Loss=0.5671 | Dice=0.7453 | IoU=0.6217 | Accuracy=0.9298\n",
      "\n"
     ]
    },
    {
     "name": "stderr",
     "output_type": "stream",
     "text": [
      "Epoch 391/500: 100%|██████████| 107/107 [01:04<00:00,  1.67it/s, loss=0.392, accuracy=0.94]\n"
     ]
    },
    {
     "name": "stdout",
     "output_type": "stream",
     "text": [
      "\n",
      "Epoch 391: Train Loss=0.3666 | Train Acc=0.9603 | Val Loss=0.6180 | Dice=0.7198 | IoU=0.5932 | Accuracy=0.9248\n",
      "\n"
     ]
    },
    {
     "name": "stderr",
     "output_type": "stream",
     "text": [
      "Epoch 392/500: 100%|██████████| 107/107 [01:04<00:00,  1.67it/s, loss=0.364, accuracy=0.963]\n"
     ]
    },
    {
     "name": "stdout",
     "output_type": "stream",
     "text": [
      "\n",
      "Epoch 392: Train Loss=0.3587 | Train Acc=0.9615 | Val Loss=0.6151 | Dice=0.7283 | IoU=0.6021 | Accuracy=0.9260\n",
      "\n"
     ]
    },
    {
     "name": "stderr",
     "output_type": "stream",
     "text": [
      "Epoch 393/500: 100%|██████████| 107/107 [01:04<00:00,  1.67it/s, loss=0.247, accuracy=0.958]\n"
     ]
    },
    {
     "name": "stdout",
     "output_type": "stream",
     "text": [
      "\n",
      "Epoch 393: Train Loss=0.3615 | Train Acc=0.9612 | Val Loss=0.6211 | Dice=0.7265 | IoU=0.6021 | Accuracy=0.9248\n",
      "\n"
     ]
    },
    {
     "name": "stderr",
     "output_type": "stream",
     "text": [
      "Epoch 394/500: 100%|██████████| 107/107 [01:04<00:00,  1.67it/s, loss=0.405, accuracy=0.961]\n"
     ]
    },
    {
     "name": "stdout",
     "output_type": "stream",
     "text": [
      "\n",
      "Epoch 394: Train Loss=0.3620 | Train Acc=0.9611 | Val Loss=0.6059 | Dice=0.7309 | IoU=0.6066 | Accuracy=0.9267\n",
      "\n"
     ]
    },
    {
     "name": "stderr",
     "output_type": "stream",
     "text": [
      "Epoch 395/500: 100%|██████████| 107/107 [01:03<00:00,  1.67it/s, loss=0.374, accuracy=0.961]\n"
     ]
    },
    {
     "name": "stdout",
     "output_type": "stream",
     "text": [
      "\n",
      "Epoch 395: Train Loss=0.3601 | Train Acc=0.9614 | Val Loss=0.6011 | Dice=0.7331 | IoU=0.6070 | Accuracy=0.9280\n",
      "\n"
     ]
    },
    {
     "name": "stderr",
     "output_type": "stream",
     "text": [
      "Epoch 396/500: 100%|██████████| 107/107 [01:03<00:00,  1.67it/s, loss=0.287, accuracy=0.953]\n"
     ]
    },
    {
     "name": "stdout",
     "output_type": "stream",
     "text": [
      "\n",
      "Epoch 396: Train Loss=0.3580 | Train Acc=0.9616 | Val Loss=0.6128 | Dice=0.7406 | IoU=0.6179 | Accuracy=0.9270\n",
      "\n"
     ]
    },
    {
     "name": "stderr",
     "output_type": "stream",
     "text": [
      "Epoch 397/500: 100%|██████████| 107/107 [01:04<00:00,  1.67it/s, loss=0.323, accuracy=0.949]\n"
     ]
    },
    {
     "name": "stdout",
     "output_type": "stream",
     "text": [
      "\n",
      "Epoch 397: Train Loss=0.3567 | Train Acc=0.9616 | Val Loss=0.5902 | Dice=0.7374 | IoU=0.6156 | Accuracy=0.9285\n",
      "\n"
     ]
    },
    {
     "name": "stderr",
     "output_type": "stream",
     "text": [
      "Epoch 398/500: 100%|██████████| 107/107 [01:03<00:00,  1.68it/s, loss=0.349, accuracy=0.951]\n"
     ]
    },
    {
     "name": "stdout",
     "output_type": "stream",
     "text": [
      "\n",
      "Epoch 398: Train Loss=0.3556 | Train Acc=0.9620 | Val Loss=0.5962 | Dice=0.7401 | IoU=0.6177 | Accuracy=0.9287\n",
      "\n"
     ]
    },
    {
     "name": "stderr",
     "output_type": "stream",
     "text": [
      "Epoch 399/500: 100%|██████████| 107/107 [01:03<00:00,  1.68it/s, loss=0.446, accuracy=0.97]\n"
     ]
    },
    {
     "name": "stdout",
     "output_type": "stream",
     "text": [
      "\n",
      "Epoch 399: Train Loss=0.3580 | Train Acc=0.9616 | Val Loss=0.6416 | Dice=0.7225 | IoU=0.6000 | Accuracy=0.9248\n",
      "\n"
     ]
    },
    {
     "name": "stderr",
     "output_type": "stream",
     "text": [
      "Epoch 400/500: 100%|██████████| 107/107 [01:03<00:00,  1.67it/s, loss=0.422, accuracy=0.965]\n"
     ]
    },
    {
     "name": "stdout",
     "output_type": "stream",
     "text": [
      "\n",
      "Epoch 400: Train Loss=0.3609 | Train Acc=0.9613 | Val Loss=0.6216 | Dice=0.7303 | IoU=0.6066 | Accuracy=0.9279\n",
      "\n"
     ]
    },
    {
     "name": "stderr",
     "output_type": "stream",
     "text": [
      "Epoch 401/500: 100%|██████████| 107/107 [01:04<00:00,  1.67it/s, loss=0.477, accuracy=0.966]\n"
     ]
    },
    {
     "name": "stdout",
     "output_type": "stream",
     "text": [
      "\n",
      "Epoch 401: Train Loss=0.3595 | Train Acc=0.9614 | Val Loss=0.6228 | Dice=0.7204 | IoU=0.5921 | Accuracy=0.9245\n",
      "\n"
     ]
    },
    {
     "name": "stderr",
     "output_type": "stream",
     "text": [
      "Epoch 402/500: 100%|██████████| 107/107 [01:04<00:00,  1.67it/s, loss=0.264, accuracy=0.967]\n"
     ]
    },
    {
     "name": "stdout",
     "output_type": "stream",
     "text": [
      "\n",
      "Epoch 402: Train Loss=0.3600 | Train Acc=0.9614 | Val Loss=0.6070 | Dice=0.7291 | IoU=0.6007 | Accuracy=0.9264\n",
      "\n"
     ]
    },
    {
     "name": "stderr",
     "output_type": "stream",
     "text": [
      "Epoch 403/500: 100%|██████████| 107/107 [01:03<00:00,  1.67it/s, loss=0.365, accuracy=0.972]\n"
     ]
    },
    {
     "name": "stdout",
     "output_type": "stream",
     "text": [
      "\n",
      "Epoch 403: Train Loss=0.3575 | Train Acc=0.9618 | Val Loss=0.6081 | Dice=0.7355 | IoU=0.6118 | Accuracy=0.9277\n",
      "\n"
     ]
    },
    {
     "name": "stderr",
     "output_type": "stream",
     "text": [
      "Epoch 404/500: 100%|██████████| 107/107 [01:04<00:00,  1.67it/s, loss=0.525, accuracy=0.972]\n"
     ]
    },
    {
     "name": "stdout",
     "output_type": "stream",
     "text": [
      "\n",
      "Epoch 404: Train Loss=0.3572 | Train Acc=0.9621 | Val Loss=0.6033 | Dice=0.7351 | IoU=0.6093 | Accuracy=0.9272\n",
      "\n"
     ]
    },
    {
     "name": "stderr",
     "output_type": "stream",
     "text": [
      "Epoch 405/500: 100%|██████████| 107/107 [01:04<00:00,  1.67it/s, loss=0.387, accuracy=0.954]\n"
     ]
    },
    {
     "name": "stdout",
     "output_type": "stream",
     "text": [
      "\n",
      "Epoch 405: Train Loss=0.3584 | Train Acc=0.9614 | Val Loss=0.6231 | Dice=0.7221 | IoU=0.5921 | Accuracy=0.9240\n",
      "\n"
     ]
    },
    {
     "name": "stderr",
     "output_type": "stream",
     "text": [
      "Epoch 406/500: 100%|██████████| 107/107 [01:04<00:00,  1.67it/s, loss=0.356, accuracy=0.972]\n"
     ]
    },
    {
     "name": "stdout",
     "output_type": "stream",
     "text": [
      "\n",
      "Epoch 406: Train Loss=0.3561 | Train Acc=0.9621 | Val Loss=0.5955 | Dice=0.7360 | IoU=0.6119 | Accuracy=0.9283\n",
      "\n"
     ]
    },
    {
     "name": "stderr",
     "output_type": "stream",
     "text": [
      "Epoch 407/500: 100%|██████████| 107/107 [01:03<00:00,  1.68it/s, loss=0.325, accuracy=0.948]\n"
     ]
    },
    {
     "name": "stdout",
     "output_type": "stream",
     "text": [
      "\n",
      "Epoch 407: Train Loss=0.3587 | Train Acc=0.9615 | Val Loss=0.5763 | Dice=0.7449 | IoU=0.6199 | Accuracy=0.9298\n",
      "\n"
     ]
    },
    {
     "name": "stderr",
     "output_type": "stream",
     "text": [
      "Epoch 408/500: 100%|██████████| 107/107 [01:03<00:00,  1.67it/s, loss=0.302, accuracy=0.953]\n"
     ]
    },
    {
     "name": "stdout",
     "output_type": "stream",
     "text": [
      "\n",
      "Epoch 408: Train Loss=0.3548 | Train Acc=0.9621 | Val Loss=0.5928 | Dice=0.7370 | IoU=0.6107 | Accuracy=0.9288\n",
      "\n"
     ]
    },
    {
     "name": "stderr",
     "output_type": "stream",
     "text": [
      "Epoch 409/500: 100%|██████████| 107/107 [01:03<00:00,  1.67it/s, loss=0.373, accuracy=0.964]\n"
     ]
    },
    {
     "name": "stdout",
     "output_type": "stream",
     "text": [
      "\n",
      "Epoch 409: Train Loss=0.3561 | Train Acc=0.9617 | Val Loss=0.5986 | Dice=0.7331 | IoU=0.6090 | Accuracy=0.9269\n",
      "\n"
     ]
    },
    {
     "name": "stderr",
     "output_type": "stream",
     "text": [
      "Epoch 410/500: 100%|██████████| 107/107 [01:04<00:00,  1.67it/s, loss=0.339, accuracy=0.961]\n"
     ]
    },
    {
     "name": "stdout",
     "output_type": "stream",
     "text": [
      "\n",
      "Epoch 410: Train Loss=0.3602 | Train Acc=0.9612 | Val Loss=0.5970 | Dice=0.7268 | IoU=0.5990 | Accuracy=0.9259\n",
      "\n"
     ]
    },
    {
     "name": "stderr",
     "output_type": "stream",
     "text": [
      "Epoch 411/500: 100%|██████████| 107/107 [01:03<00:00,  1.68it/s, loss=0.381, accuracy=0.95]\n"
     ]
    },
    {
     "name": "stdout",
     "output_type": "stream",
     "text": [
      "\n",
      "Epoch 411: Train Loss=0.3551 | Train Acc=0.9618 | Val Loss=0.5967 | Dice=0.7307 | IoU=0.6034 | Accuracy=0.9268\n",
      "\n"
     ]
    },
    {
     "name": "stderr",
     "output_type": "stream",
     "text": [
      "Epoch 412/500: 100%|██████████| 107/107 [01:04<00:00,  1.66it/s, loss=0.373, accuracy=0.961]\n"
     ]
    },
    {
     "name": "stdout",
     "output_type": "stream",
     "text": [
      "\n",
      "Epoch 412: Train Loss=0.3561 | Train Acc=0.9617 | Val Loss=0.5524 | Dice=0.7575 | IoU=0.6331 | Accuracy=0.9353\n",
      "\n"
     ]
    },
    {
     "name": "stderr",
     "output_type": "stream",
     "text": [
      "Epoch 413/500: 100%|██████████| 107/107 [01:03<00:00,  1.67it/s, loss=0.321, accuracy=0.976]\n"
     ]
    },
    {
     "name": "stdout",
     "output_type": "stream",
     "text": [
      "\n",
      "Epoch 413: Train Loss=0.3521 | Train Acc=0.9624 | Val Loss=0.6087 | Dice=0.7318 | IoU=0.6032 | Accuracy=0.9254\n",
      "\n"
     ]
    },
    {
     "name": "stderr",
     "output_type": "stream",
     "text": [
      "Epoch 414/500: 100%|██████████| 107/107 [01:03<00:00,  1.67it/s, loss=0.406, accuracy=0.935]\n"
     ]
    },
    {
     "name": "stdout",
     "output_type": "stream",
     "text": [
      "\n",
      "Epoch 414: Train Loss=0.3511 | Train Acc=0.9624 | Val Loss=0.5923 | Dice=0.7427 | IoU=0.6143 | Accuracy=0.9269\n",
      "\n"
     ]
    },
    {
     "name": "stderr",
     "output_type": "stream",
     "text": [
      "Epoch 415/500: 100%|██████████| 107/107 [01:04<00:00,  1.67it/s, loss=0.307, accuracy=0.968]\n"
     ]
    },
    {
     "name": "stdout",
     "output_type": "stream",
     "text": [
      "\n",
      "Epoch 415: Train Loss=0.3544 | Train Acc=0.9624 | Val Loss=0.6160 | Dice=0.7318 | IoU=0.6023 | Accuracy=0.9244\n",
      "\n"
     ]
    },
    {
     "name": "stderr",
     "output_type": "stream",
     "text": [
      "Epoch 416/500: 100%|██████████| 107/107 [01:04<00:00,  1.67it/s, loss=0.454, accuracy=0.971]\n"
     ]
    },
    {
     "name": "stdout",
     "output_type": "stream",
     "text": [
      "\n",
      "Epoch 416: Train Loss=0.3541 | Train Acc=0.9625 | Val Loss=0.5997 | Dice=0.7420 | IoU=0.6196 | Accuracy=0.9263\n",
      "\n"
     ]
    },
    {
     "name": "stderr",
     "output_type": "stream",
     "text": [
      "Epoch 417/500: 100%|██████████| 107/107 [01:04<00:00,  1.67it/s, loss=0.398, accuracy=0.969]\n"
     ]
    },
    {
     "name": "stdout",
     "output_type": "stream",
     "text": [
      "\n",
      "Epoch 417: Train Loss=0.3512 | Train Acc=0.9627 | Val Loss=0.5985 | Dice=0.7331 | IoU=0.6066 | Accuracy=0.9266\n",
      "\n"
     ]
    },
    {
     "name": "stderr",
     "output_type": "stream",
     "text": [
      "Epoch 418/500: 100%|██████████| 107/107 [01:04<00:00,  1.67it/s, loss=0.3, accuracy=0.962]\n"
     ]
    },
    {
     "name": "stdout",
     "output_type": "stream",
     "text": [
      "\n",
      "Epoch 418: Train Loss=0.3546 | Train Acc=0.9620 | Val Loss=0.6123 | Dice=0.7224 | IoU=0.5955 | Accuracy=0.9258\n",
      "\n"
     ]
    },
    {
     "name": "stderr",
     "output_type": "stream",
     "text": [
      "Epoch 419/500: 100%|██████████| 107/107 [01:04<00:00,  1.66it/s, loss=0.34, accuracy=0.919]\n"
     ]
    },
    {
     "name": "stdout",
     "output_type": "stream",
     "text": [
      "\n",
      "Epoch 419: Train Loss=0.3519 | Train Acc=0.9623 | Val Loss=0.5884 | Dice=0.7407 | IoU=0.6161 | Accuracy=0.9283\n",
      "\n"
     ]
    },
    {
     "name": "stderr",
     "output_type": "stream",
     "text": [
      "Epoch 420/500: 100%|██████████| 107/107 [01:04<00:00,  1.66it/s, loss=0.433, accuracy=0.971]\n"
     ]
    },
    {
     "name": "stdout",
     "output_type": "stream",
     "text": [
      "\n",
      "Epoch 420: Train Loss=0.3531 | Train Acc=0.9624 | Val Loss=0.6154 | Dice=0.7323 | IoU=0.6079 | Accuracy=0.9239\n",
      "\n"
     ]
    },
    {
     "name": "stderr",
     "output_type": "stream",
     "text": [
      "Epoch 421/500: 100%|██████████| 107/107 [01:04<00:00,  1.66it/s, loss=0.346, accuracy=0.962]\n"
     ]
    },
    {
     "name": "stdout",
     "output_type": "stream",
     "text": [
      "\n",
      "Epoch 421: Train Loss=0.3505 | Train Acc=0.9625 | Val Loss=0.6540 | Dice=0.7182 | IoU=0.5909 | Accuracy=0.9210\n",
      "\n"
     ]
    },
    {
     "name": "stderr",
     "output_type": "stream",
     "text": [
      "Epoch 422/500: 100%|██████████| 107/107 [01:04<00:00,  1.66it/s, loss=0.325, accuracy=0.958]\n"
     ]
    },
    {
     "name": "stdout",
     "output_type": "stream",
     "text": [
      "\n",
      "Epoch 422: Train Loss=0.3598 | Train Acc=0.9611 | Val Loss=0.6364 | Dice=0.7174 | IoU=0.5903 | Accuracy=0.9240\n",
      "\n"
     ]
    },
    {
     "name": "stderr",
     "output_type": "stream",
     "text": [
      "Epoch 423/500: 100%|██████████| 107/107 [01:04<00:00,  1.66it/s, loss=0.55, accuracy=0.955]\n"
     ]
    },
    {
     "name": "stdout",
     "output_type": "stream",
     "text": [
      "\n",
      "Epoch 423: Train Loss=0.3542 | Train Acc=0.9623 | Val Loss=0.5808 | Dice=0.7354 | IoU=0.6084 | Accuracy=0.9293\n",
      "\n"
     ]
    },
    {
     "name": "stderr",
     "output_type": "stream",
     "text": [
      "Epoch 424/500: 100%|██████████| 107/107 [01:04<00:00,  1.66it/s, loss=0.259, accuracy=0.95]\n"
     ]
    },
    {
     "name": "stdout",
     "output_type": "stream",
     "text": [
      "\n",
      "Epoch 424: Train Loss=0.3514 | Train Acc=0.9623 | Val Loss=0.6014 | Dice=0.7296 | IoU=0.6041 | Accuracy=0.9268\n",
      "\n"
     ]
    },
    {
     "name": "stderr",
     "output_type": "stream",
     "text": [
      "Epoch 425/500: 100%|██████████| 107/107 [01:05<00:00,  1.64it/s, loss=0.356, accuracy=0.961]\n"
     ]
    },
    {
     "name": "stdout",
     "output_type": "stream",
     "text": [
      "\n",
      "Epoch 425: Train Loss=0.3544 | Train Acc=0.9622 | Val Loss=0.6135 | Dice=0.7327 | IoU=0.6094 | Accuracy=0.9272\n",
      "\n"
     ]
    },
    {
     "name": "stderr",
     "output_type": "stream",
     "text": [
      "Epoch 426/500: 100%|██████████| 107/107 [01:04<00:00,  1.66it/s, loss=0.406, accuracy=0.961]\n"
     ]
    },
    {
     "name": "stdout",
     "output_type": "stream",
     "text": [
      "\n",
      "Epoch 426: Train Loss=0.3520 | Train Acc=0.9625 | Val Loss=0.6009 | Dice=0.7335 | IoU=0.6092 | Accuracy=0.9271\n",
      "\n"
     ]
    },
    {
     "name": "stderr",
     "output_type": "stream",
     "text": [
      "Epoch 427/500: 100%|██████████| 107/107 [01:04<00:00,  1.66it/s, loss=0.267, accuracy=0.962]\n"
     ]
    },
    {
     "name": "stdout",
     "output_type": "stream",
     "text": [
      "\n",
      "Epoch 427: Train Loss=0.3570 | Train Acc=0.9616 | Val Loss=0.6111 | Dice=0.7325 | IoU=0.6074 | Accuracy=0.9245\n",
      "\n"
     ]
    },
    {
     "name": "stderr",
     "output_type": "stream",
     "text": [
      "Epoch 428/500: 100%|██████████| 107/107 [01:04<00:00,  1.65it/s, loss=0.293, accuracy=0.967]\n"
     ]
    },
    {
     "name": "stdout",
     "output_type": "stream",
     "text": [
      "\n",
      "Epoch 428: Train Loss=0.3537 | Train Acc=0.9621 | Val Loss=0.6023 | Dice=0.7275 | IoU=0.6009 | Accuracy=0.9276\n",
      "\n"
     ]
    },
    {
     "name": "stderr",
     "output_type": "stream",
     "text": [
      "Epoch 429/500: 100%|██████████| 107/107 [01:04<00:00,  1.66it/s, loss=0.328, accuracy=0.972]\n"
     ]
    },
    {
     "name": "stdout",
     "output_type": "stream",
     "text": [
      "\n",
      "Epoch 429: Train Loss=0.3493 | Train Acc=0.9628 | Val Loss=0.5981 | Dice=0.7321 | IoU=0.6074 | Accuracy=0.9276\n",
      "\n"
     ]
    },
    {
     "name": "stderr",
     "output_type": "stream",
     "text": [
      "Epoch 430/500: 100%|██████████| 107/107 [01:04<00:00,  1.66it/s, loss=0.291, accuracy=0.967]\n"
     ]
    },
    {
     "name": "stdout",
     "output_type": "stream",
     "text": [
      "\n",
      "Epoch 430: Train Loss=0.3492 | Train Acc=0.9626 | Val Loss=0.5987 | Dice=0.7372 | IoU=0.6107 | Accuracy=0.9295\n",
      "\n"
     ]
    },
    {
     "name": "stderr",
     "output_type": "stream",
     "text": [
      "Epoch 431/500: 100%|██████████| 107/107 [01:04<00:00,  1.66it/s, loss=0.312, accuracy=0.958]\n"
     ]
    },
    {
     "name": "stdout",
     "output_type": "stream",
     "text": [
      "\n",
      "Epoch 431: Train Loss=0.3486 | Train Acc=0.9627 | Val Loss=0.6135 | Dice=0.7229 | IoU=0.5960 | Accuracy=0.9246\n",
      "\n"
     ]
    },
    {
     "name": "stderr",
     "output_type": "stream",
     "text": [
      "Epoch 432/500: 100%|██████████| 107/107 [01:04<00:00,  1.65it/s, loss=0.345, accuracy=0.962]\n"
     ]
    },
    {
     "name": "stdout",
     "output_type": "stream",
     "text": [
      "\n",
      "Epoch 432: Train Loss=0.3467 | Train Acc=0.9633 | Val Loss=0.6049 | Dice=0.7311 | IoU=0.6033 | Accuracy=0.9270\n",
      "\n"
     ]
    },
    {
     "name": "stderr",
     "output_type": "stream",
     "text": [
      "Epoch 433/500: 100%|██████████| 107/107 [01:04<00:00,  1.65it/s, loss=0.486, accuracy=0.969]\n"
     ]
    },
    {
     "name": "stdout",
     "output_type": "stream",
     "text": [
      "\n",
      "Epoch 433: Train Loss=0.3488 | Train Acc=0.9631 | Val Loss=0.6230 | Dice=0.7317 | IoU=0.6081 | Accuracy=0.9247\n",
      "\n"
     ]
    },
    {
     "name": "stderr",
     "output_type": "stream",
     "text": [
      "Epoch 434/500: 100%|██████████| 107/107 [01:04<00:00,  1.66it/s, loss=0.404, accuracy=0.962]\n"
     ]
    },
    {
     "name": "stdout",
     "output_type": "stream",
     "text": [
      "\n",
      "Epoch 434: Train Loss=0.3509 | Train Acc=0.9626 | Val Loss=0.6033 | Dice=0.7338 | IoU=0.6080 | Accuracy=0.9266\n",
      "\n"
     ]
    },
    {
     "name": "stderr",
     "output_type": "stream",
     "text": [
      "Epoch 435/500: 100%|██████████| 107/107 [01:04<00:00,  1.66it/s, loss=0.28, accuracy=0.965]\n"
     ]
    },
    {
     "name": "stdout",
     "output_type": "stream",
     "text": [
      "\n",
      "Epoch 435: Train Loss=0.3519 | Train Acc=0.9623 | Val Loss=0.5824 | Dice=0.7343 | IoU=0.6104 | Accuracy=0.9284\n",
      "\n"
     ]
    },
    {
     "name": "stderr",
     "output_type": "stream",
     "text": [
      "Epoch 436/500: 100%|██████████| 107/107 [01:04<00:00,  1.66it/s, loss=0.344, accuracy=0.969]\n"
     ]
    },
    {
     "name": "stdout",
     "output_type": "stream",
     "text": [
      "\n",
      "Epoch 436: Train Loss=0.3467 | Train Acc=0.9630 | Val Loss=0.5937 | Dice=0.7310 | IoU=0.6069 | Accuracy=0.9281\n",
      "\n"
     ]
    },
    {
     "name": "stderr",
     "output_type": "stream",
     "text": [
      "Epoch 437/500: 100%|██████████| 107/107 [01:04<00:00,  1.66it/s, loss=0.314, accuracy=0.967]\n"
     ]
    },
    {
     "name": "stdout",
     "output_type": "stream",
     "text": [
      "\n",
      "Epoch 437: Train Loss=0.3460 | Train Acc=0.9633 | Val Loss=0.6215 | Dice=0.7273 | IoU=0.6018 | Accuracy=0.9261\n",
      "\n"
     ]
    },
    {
     "name": "stderr",
     "output_type": "stream",
     "text": [
      "Epoch 438/500: 100%|██████████| 107/107 [01:04<00:00,  1.66it/s, loss=0.35, accuracy=0.968]\n"
     ]
    },
    {
     "name": "stdout",
     "output_type": "stream",
     "text": [
      "\n",
      "Epoch 438: Train Loss=0.3457 | Train Acc=0.9633 | Val Loss=0.5925 | Dice=0.7362 | IoU=0.6122 | Accuracy=0.9267\n",
      "\n"
     ]
    },
    {
     "name": "stderr",
     "output_type": "stream",
     "text": [
      "Epoch 439/500: 100%|██████████| 107/107 [01:04<00:00,  1.66it/s, loss=0.503, accuracy=0.974]\n"
     ]
    },
    {
     "name": "stdout",
     "output_type": "stream",
     "text": [
      "\n",
      "Epoch 439: Train Loss=0.3484 | Train Acc=0.9632 | Val Loss=0.5791 | Dice=0.7414 | IoU=0.6170 | Accuracy=0.9308\n",
      "\n"
     ]
    },
    {
     "name": "stderr",
     "output_type": "stream",
     "text": [
      "Epoch 440/500: 100%|██████████| 107/107 [01:04<00:00,  1.67it/s, loss=0.287, accuracy=0.959]\n"
     ]
    },
    {
     "name": "stdout",
     "output_type": "stream",
     "text": [
      "\n",
      "Epoch 440: Train Loss=0.3486 | Train Acc=0.9630 | Val Loss=0.6029 | Dice=0.7299 | IoU=0.6034 | Accuracy=0.9267\n",
      "\n"
     ]
    },
    {
     "name": "stderr",
     "output_type": "stream",
     "text": [
      "Epoch 441/500: 100%|██████████| 107/107 [01:04<00:00,  1.65it/s, loss=0.619, accuracy=0.953]\n"
     ]
    },
    {
     "name": "stdout",
     "output_type": "stream",
     "text": [
      "\n",
      "Epoch 441: Train Loss=0.3491 | Train Acc=0.9629 | Val Loss=0.5955 | Dice=0.7402 | IoU=0.6183 | Accuracy=0.9300\n",
      "\n"
     ]
    },
    {
     "name": "stderr",
     "output_type": "stream",
     "text": [
      "Epoch 442/500: 100%|██████████| 107/107 [01:04<00:00,  1.66it/s, loss=0.378, accuracy=0.965]\n"
     ]
    },
    {
     "name": "stdout",
     "output_type": "stream",
     "text": [
      "\n",
      "Epoch 442: Train Loss=0.3472 | Train Acc=0.9632 | Val Loss=0.5982 | Dice=0.7320 | IoU=0.6061 | Accuracy=0.9271\n",
      "\n"
     ]
    },
    {
     "name": "stderr",
     "output_type": "stream",
     "text": [
      "Epoch 443/500: 100%|██████████| 107/107 [01:04<00:00,  1.66it/s, loss=0.439, accuracy=0.97]\n"
     ]
    },
    {
     "name": "stdout",
     "output_type": "stream",
     "text": [
      "\n",
      "Epoch 443: Train Loss=0.3484 | Train Acc=0.9632 | Val Loss=0.5809 | Dice=0.7393 | IoU=0.6145 | Accuracy=0.9278\n",
      "\n"
     ]
    },
    {
     "name": "stderr",
     "output_type": "stream",
     "text": [
      "Epoch 444/500: 100%|██████████| 107/107 [01:04<00:00,  1.65it/s, loss=0.253, accuracy=0.959]\n"
     ]
    },
    {
     "name": "stdout",
     "output_type": "stream",
     "text": [
      "\n",
      "Epoch 444: Train Loss=0.3427 | Train Acc=0.9638 | Val Loss=0.5890 | Dice=0.7423 | IoU=0.6209 | Accuracy=0.9294\n",
      "\n"
     ]
    },
    {
     "name": "stderr",
     "output_type": "stream",
     "text": [
      "Epoch 445/500: 100%|██████████| 107/107 [01:04<00:00,  1.66it/s, loss=0.393, accuracy=0.96]\n"
     ]
    },
    {
     "name": "stdout",
     "output_type": "stream",
     "text": [
      "\n",
      "Epoch 445: Train Loss=0.3461 | Train Acc=0.9633 | Val Loss=0.6210 | Dice=0.7335 | IoU=0.6082 | Accuracy=0.9248\n",
      "\n"
     ]
    },
    {
     "name": "stderr",
     "output_type": "stream",
     "text": [
      "Epoch 446/500: 100%|██████████| 107/107 [01:04<00:00,  1.66it/s, loss=0.553, accuracy=0.974]\n"
     ]
    },
    {
     "name": "stdout",
     "output_type": "stream",
     "text": [
      "\n",
      "Epoch 446: Train Loss=0.3541 | Train Acc=0.9624 | Val Loss=0.5806 | Dice=0.7404 | IoU=0.6163 | Accuracy=0.9292\n",
      "\n"
     ]
    },
    {
     "name": "stderr",
     "output_type": "stream",
     "text": [
      "Epoch 447/500: 100%|██████████| 107/107 [01:05<00:00,  1.65it/s, loss=0.398, accuracy=0.965]\n"
     ]
    },
    {
     "name": "stdout",
     "output_type": "stream",
     "text": [
      "\n",
      "Epoch 447: Train Loss=0.3540 | Train Acc=0.9622 | Val Loss=0.6215 | Dice=0.7218 | IoU=0.5944 | Accuracy=0.9246\n",
      "\n"
     ]
    },
    {
     "name": "stderr",
     "output_type": "stream",
     "text": [
      "Epoch 448/500: 100%|██████████| 107/107 [01:04<00:00,  1.66it/s, loss=0.319, accuracy=0.948]\n"
     ]
    },
    {
     "name": "stdout",
     "output_type": "stream",
     "text": [
      "\n",
      "Epoch 448: Train Loss=0.3487 | Train Acc=0.9628 | Val Loss=0.5858 | Dice=0.7404 | IoU=0.6180 | Accuracy=0.9284\n",
      "\n"
     ]
    },
    {
     "name": "stderr",
     "output_type": "stream",
     "text": [
      "Epoch 449/500: 100%|██████████| 107/107 [01:04<00:00,  1.65it/s, loss=0.339, accuracy=0.959]\n"
     ]
    },
    {
     "name": "stdout",
     "output_type": "stream",
     "text": [
      "\n",
      "Epoch 449: Train Loss=0.3486 | Train Acc=0.9629 | Val Loss=0.5684 | Dice=0.7468 | IoU=0.6210 | Accuracy=0.9319\n",
      "\n"
     ]
    },
    {
     "name": "stderr",
     "output_type": "stream",
     "text": [
      "Epoch 450/500: 100%|██████████| 107/107 [01:04<00:00,  1.67it/s, loss=0.294, accuracy=0.963]\n"
     ]
    },
    {
     "name": "stdout",
     "output_type": "stream",
     "text": [
      "\n",
      "Epoch 450: Train Loss=0.3432 | Train Acc=0.9635 | Val Loss=0.5795 | Dice=0.7329 | IoU=0.6095 | Accuracy=0.9289\n",
      "\n"
     ]
    },
    {
     "name": "stderr",
     "output_type": "stream",
     "text": [
      "Epoch 451/500: 100%|██████████| 107/107 [01:04<00:00,  1.66it/s, loss=0.527, accuracy=0.974]\n"
     ]
    },
    {
     "name": "stdout",
     "output_type": "stream",
     "text": [
      "\n",
      "Epoch 451: Train Loss=0.3436 | Train Acc=0.9639 | Val Loss=0.6275 | Dice=0.7271 | IoU=0.6042 | Accuracy=0.9249\n",
      "\n"
     ]
    },
    {
     "name": "stderr",
     "output_type": "stream",
     "text": [
      "Epoch 452/500: 100%|██████████| 107/107 [01:04<00:00,  1.67it/s, loss=0.483, accuracy=0.966]\n"
     ]
    },
    {
     "name": "stdout",
     "output_type": "stream",
     "text": [
      "\n",
      "Epoch 452: Train Loss=0.3468 | Train Acc=0.9630 | Val Loss=0.6040 | Dice=0.7325 | IoU=0.6090 | Accuracy=0.9262\n",
      "\n"
     ]
    },
    {
     "name": "stderr",
     "output_type": "stream",
     "text": [
      "Epoch 453/500: 100%|██████████| 107/107 [01:04<00:00,  1.67it/s, loss=0.32, accuracy=0.939]\n"
     ]
    },
    {
     "name": "stdout",
     "output_type": "stream",
     "text": [
      "\n",
      "Epoch 453: Train Loss=0.3455 | Train Acc=0.9631 | Val Loss=0.5878 | Dice=0.7339 | IoU=0.6110 | Accuracy=0.9301\n",
      "\n"
     ]
    },
    {
     "name": "stderr",
     "output_type": "stream",
     "text": [
      "Epoch 454/500: 100%|██████████| 107/107 [01:04<00:00,  1.67it/s, loss=0.326, accuracy=0.966]\n"
     ]
    },
    {
     "name": "stdout",
     "output_type": "stream",
     "text": [
      "\n",
      "Epoch 454: Train Loss=0.3445 | Train Acc=0.9634 | Val Loss=0.5712 | Dice=0.7467 | IoU=0.6260 | Accuracy=0.9317\n",
      "\n"
     ]
    },
    {
     "name": "stderr",
     "output_type": "stream",
     "text": [
      "Epoch 455/500: 100%|██████████| 107/107 [01:04<00:00,  1.67it/s, loss=0.372, accuracy=0.953]\n"
     ]
    },
    {
     "name": "stdout",
     "output_type": "stream",
     "text": [
      "\n",
      "Epoch 455: Train Loss=0.3445 | Train Acc=0.9634 | Val Loss=0.5483 | Dice=0.7562 | IoU=0.6345 | Accuracy=0.9348\n",
      "\n"
     ]
    },
    {
     "name": "stderr",
     "output_type": "stream",
     "text": [
      "Epoch 456/500: 100%|██████████| 107/107 [01:03<00:00,  1.68it/s, loss=0.255, accuracy=0.957]\n"
     ]
    },
    {
     "name": "stdout",
     "output_type": "stream",
     "text": [
      "\n",
      "Epoch 456: Train Loss=0.3458 | Train Acc=0.9634 | Val Loss=0.5979 | Dice=0.7376 | IoU=0.6147 | Accuracy=0.9282\n",
      "\n"
     ]
    },
    {
     "name": "stderr",
     "output_type": "stream",
     "text": [
      "Epoch 457/500: 100%|██████████| 107/107 [01:04<00:00,  1.67it/s, loss=0.341, accuracy=0.963]\n"
     ]
    },
    {
     "name": "stdout",
     "output_type": "stream",
     "text": [
      "\n",
      "Epoch 457: Train Loss=0.3422 | Train Acc=0.9637 | Val Loss=0.6050 | Dice=0.7311 | IoU=0.6070 | Accuracy=0.9274\n",
      "\n"
     ]
    },
    {
     "name": "stderr",
     "output_type": "stream",
     "text": [
      "Epoch 458/500: 100%|██████████| 107/107 [01:03<00:00,  1.67it/s, loss=0.336, accuracy=0.973]\n"
     ]
    },
    {
     "name": "stdout",
     "output_type": "stream",
     "text": [
      "\n",
      "Epoch 458: Train Loss=0.3450 | Train Acc=0.9636 | Val Loss=0.6081 | Dice=0.7310 | IoU=0.6056 | Accuracy=0.9283\n",
      "\n"
     ]
    },
    {
     "name": "stderr",
     "output_type": "stream",
     "text": [
      "Epoch 459/500: 100%|██████████| 107/107 [01:03<00:00,  1.67it/s, loss=0.336, accuracy=0.963]\n"
     ]
    },
    {
     "name": "stdout",
     "output_type": "stream",
     "text": [
      "\n",
      "Epoch 459: Train Loss=0.3441 | Train Acc=0.9637 | Val Loss=0.5837 | Dice=0.7397 | IoU=0.6157 | Accuracy=0.9294\n",
      "\n"
     ]
    },
    {
     "name": "stderr",
     "output_type": "stream",
     "text": [
      "Epoch 460/500: 100%|██████████| 107/107 [01:04<00:00,  1.66it/s, loss=0.341, accuracy=0.941]\n"
     ]
    },
    {
     "name": "stdout",
     "output_type": "stream",
     "text": [
      "\n",
      "Epoch 460: Train Loss=0.3448 | Train Acc=0.9633 | Val Loss=0.5811 | Dice=0.7473 | IoU=0.6230 | Accuracy=0.9307\n",
      "\n"
     ]
    },
    {
     "name": "stderr",
     "output_type": "stream",
     "text": [
      "Epoch 461/500: 100%|██████████| 107/107 [01:04<00:00,  1.67it/s, loss=0.307, accuracy=0.959]\n"
     ]
    },
    {
     "name": "stdout",
     "output_type": "stream",
     "text": [
      "\n",
      "Epoch 461: Train Loss=0.3429 | Train Acc=0.9637 | Val Loss=0.5967 | Dice=0.7351 | IoU=0.6081 | Accuracy=0.9285\n",
      "\n"
     ]
    },
    {
     "name": "stderr",
     "output_type": "stream",
     "text": [
      "Epoch 462/500: 100%|██████████| 107/107 [01:04<00:00,  1.66it/s, loss=0.305, accuracy=0.964]\n"
     ]
    },
    {
     "name": "stdout",
     "output_type": "stream",
     "text": [
      "\n",
      "Epoch 462: Train Loss=0.3458 | Train Acc=0.9631 | Val Loss=0.5792 | Dice=0.7452 | IoU=0.6226 | Accuracy=0.9307\n",
      "\n"
     ]
    },
    {
     "name": "stderr",
     "output_type": "stream",
     "text": [
      "Epoch 463/500: 100%|██████████| 107/107 [01:04<00:00,  1.66it/s, loss=0.309, accuracy=0.958]\n"
     ]
    },
    {
     "name": "stdout",
     "output_type": "stream",
     "text": [
      "\n",
      "Epoch 463: Train Loss=0.3421 | Train Acc=0.9638 | Val Loss=0.5701 | Dice=0.7453 | IoU=0.6225 | Accuracy=0.9305\n",
      "\n"
     ]
    },
    {
     "name": "stderr",
     "output_type": "stream",
     "text": [
      "Epoch 464/500: 100%|██████████| 107/107 [01:04<00:00,  1.66it/s, loss=0.354, accuracy=0.947]\n"
     ]
    },
    {
     "name": "stdout",
     "output_type": "stream",
     "text": [
      "\n",
      "Epoch 464: Train Loss=0.3444 | Train Acc=0.9634 | Val Loss=0.6068 | Dice=0.7274 | IoU=0.6009 | Accuracy=0.9255\n",
      "\n"
     ]
    },
    {
     "name": "stderr",
     "output_type": "stream",
     "text": [
      "Epoch 465/500: 100%|██████████| 107/107 [01:04<00:00,  1.66it/s, loss=0.344, accuracy=0.935]\n"
     ]
    },
    {
     "name": "stdout",
     "output_type": "stream",
     "text": [
      "\n",
      "Epoch 465: Train Loss=0.3403 | Train Acc=0.9641 | Val Loss=0.5884 | Dice=0.7360 | IoU=0.6095 | Accuracy=0.9296\n",
      "\n"
     ]
    },
    {
     "name": "stderr",
     "output_type": "stream",
     "text": [
      "Epoch 466/500: 100%|██████████| 107/107 [01:04<00:00,  1.66it/s, loss=0.386, accuracy=0.959]\n"
     ]
    },
    {
     "name": "stdout",
     "output_type": "stream",
     "text": [
      "\n",
      "Epoch 466: Train Loss=0.3432 | Train Acc=0.9637 | Val Loss=0.6069 | Dice=0.7307 | IoU=0.6041 | Accuracy=0.9266\n",
      "\n"
     ]
    },
    {
     "name": "stderr",
     "output_type": "stream",
     "text": [
      "Epoch 467/500: 100%|██████████| 107/107 [01:04<00:00,  1.66it/s, loss=0.292, accuracy=0.973]\n"
     ]
    },
    {
     "name": "stdout",
     "output_type": "stream",
     "text": [
      "\n",
      "Epoch 467: Train Loss=0.3434 | Train Acc=0.9637 | Val Loss=0.5651 | Dice=0.7423 | IoU=0.6154 | Accuracy=0.9314\n",
      "\n"
     ]
    },
    {
     "name": "stderr",
     "output_type": "stream",
     "text": [
      "Epoch 468/500: 100%|██████████| 107/107 [01:04<00:00,  1.66it/s, loss=0.285, accuracy=0.971]\n"
     ]
    },
    {
     "name": "stdout",
     "output_type": "stream",
     "text": [
      "\n",
      "Epoch 468: Train Loss=0.3425 | Train Acc=0.9640 | Val Loss=0.5971 | Dice=0.7382 | IoU=0.6151 | Accuracy=0.9273\n",
      "\n"
     ]
    },
    {
     "name": "stderr",
     "output_type": "stream",
     "text": [
      "Epoch 469/500: 100%|██████████| 107/107 [01:03<00:00,  1.67it/s, loss=0.357, accuracy=0.968]\n"
     ]
    },
    {
     "name": "stdout",
     "output_type": "stream",
     "text": [
      "\n",
      "Epoch 469: Train Loss=0.3399 | Train Acc=0.9641 | Val Loss=0.6028 | Dice=0.7427 | IoU=0.6197 | Accuracy=0.9276\n",
      "\n"
     ]
    },
    {
     "name": "stderr",
     "output_type": "stream",
     "text": [
      "Epoch 470/500: 100%|██████████| 107/107 [01:04<00:00,  1.67it/s, loss=0.376, accuracy=0.921]\n"
     ]
    },
    {
     "name": "stdout",
     "output_type": "stream",
     "text": [
      "\n",
      "Epoch 470: Train Loss=0.3437 | Train Acc=0.9633 | Val Loss=0.6052 | Dice=0.7335 | IoU=0.6072 | Accuracy=0.9273\n",
      "\n"
     ]
    },
    {
     "name": "stderr",
     "output_type": "stream",
     "text": [
      "Epoch 471/500: 100%|██████████| 107/107 [01:04<00:00,  1.67it/s, loss=0.267, accuracy=0.966]\n"
     ]
    },
    {
     "name": "stdout",
     "output_type": "stream",
     "text": [
      "\n",
      "Epoch 471: Train Loss=0.3434 | Train Acc=0.9637 | Val Loss=0.6296 | Dice=0.7229 | IoU=0.5952 | Accuracy=0.9237\n",
      "\n"
     ]
    },
    {
     "name": "stderr",
     "output_type": "stream",
     "text": [
      "Epoch 472/500: 100%|██████████| 107/107 [01:03<00:00,  1.68it/s, loss=0.335, accuracy=0.967]\n"
     ]
    },
    {
     "name": "stdout",
     "output_type": "stream",
     "text": [
      "\n",
      "Epoch 472: Train Loss=0.3418 | Train Acc=0.9639 | Val Loss=0.6264 | Dice=0.7257 | IoU=0.5990 | Accuracy=0.9232\n",
      "\n"
     ]
    },
    {
     "name": "stderr",
     "output_type": "stream",
     "text": [
      "Epoch 473/500: 100%|██████████| 107/107 [01:04<00:00,  1.66it/s, loss=0.351, accuracy=0.966]\n"
     ]
    },
    {
     "name": "stdout",
     "output_type": "stream",
     "text": [
      "\n",
      "Epoch 473: Train Loss=0.3416 | Train Acc=0.9640 | Val Loss=0.6391 | Dice=0.7167 | IoU=0.5887 | Accuracy=0.9218\n",
      "\n"
     ]
    },
    {
     "name": "stderr",
     "output_type": "stream",
     "text": [
      "Epoch 474/500: 100%|██████████| 107/107 [01:04<00:00,  1.67it/s, loss=0.339, accuracy=0.944]\n"
     ]
    },
    {
     "name": "stdout",
     "output_type": "stream",
     "text": [
      "\n",
      "Epoch 474: Train Loss=0.3404 | Train Acc=0.9638 | Val Loss=0.5775 | Dice=0.7457 | IoU=0.6208 | Accuracy=0.9320\n",
      "\n"
     ]
    },
    {
     "name": "stderr",
     "output_type": "stream",
     "text": [
      "Epoch 475/500: 100%|██████████| 107/107 [01:04<00:00,  1.67it/s, loss=0.377, accuracy=0.967]\n"
     ]
    },
    {
     "name": "stdout",
     "output_type": "stream",
     "text": [
      "\n",
      "Epoch 475: Train Loss=0.3452 | Train Acc=0.9635 | Val Loss=0.6019 | Dice=0.7316 | IoU=0.6046 | Accuracy=0.9281\n",
      "\n"
     ]
    },
    {
     "name": "stderr",
     "output_type": "stream",
     "text": [
      "Epoch 476/500: 100%|██████████| 107/107 [01:04<00:00,  1.67it/s, loss=0.324, accuracy=0.965]\n"
     ]
    },
    {
     "name": "stdout",
     "output_type": "stream",
     "text": [
      "\n",
      "Epoch 476: Train Loss=0.3434 | Train Acc=0.9633 | Val Loss=0.5829 | Dice=0.7384 | IoU=0.6132 | Accuracy=0.9290\n",
      "\n"
     ]
    },
    {
     "name": "stderr",
     "output_type": "stream",
     "text": [
      "Epoch 477/500: 100%|██████████| 107/107 [01:04<00:00,  1.67it/s, loss=0.261, accuracy=0.964]\n"
     ]
    },
    {
     "name": "stdout",
     "output_type": "stream",
     "text": [
      "\n",
      "Epoch 477: Train Loss=0.3416 | Train Acc=0.9638 | Val Loss=0.5745 | Dice=0.7463 | IoU=0.6231 | Accuracy=0.9308\n",
      "\n"
     ]
    },
    {
     "name": "stderr",
     "output_type": "stream",
     "text": [
      "Epoch 478/500: 100%|██████████| 107/107 [01:04<00:00,  1.67it/s, loss=0.418, accuracy=0.946]\n"
     ]
    },
    {
     "name": "stdout",
     "output_type": "stream",
     "text": [
      "\n",
      "Epoch 478: Train Loss=0.3408 | Train Acc=0.9641 | Val Loss=0.5890 | Dice=0.7411 | IoU=0.6143 | Accuracy=0.9271\n",
      "\n"
     ]
    },
    {
     "name": "stderr",
     "output_type": "stream",
     "text": [
      "Epoch 479/500: 100%|██████████| 107/107 [01:04<00:00,  1.67it/s, loss=0.251, accuracy=0.969]\n"
     ]
    },
    {
     "name": "stdout",
     "output_type": "stream",
     "text": [
      "\n",
      "Epoch 479: Train Loss=0.3429 | Train Acc=0.9636 | Val Loss=0.5984 | Dice=0.7270 | IoU=0.5996 | Accuracy=0.9263\n",
      "\n"
     ]
    },
    {
     "name": "stderr",
     "output_type": "stream",
     "text": [
      "Epoch 480/500: 100%|██████████| 107/107 [01:03<00:00,  1.67it/s, loss=0.467, accuracy=0.96]\n"
     ]
    },
    {
     "name": "stdout",
     "output_type": "stream",
     "text": [
      "\n",
      "Epoch 480: Train Loss=0.3414 | Train Acc=0.9641 | Val Loss=0.6078 | Dice=0.7284 | IoU=0.5994 | Accuracy=0.9251\n",
      "\n"
     ]
    },
    {
     "name": "stderr",
     "output_type": "stream",
     "text": [
      "Epoch 481/500: 100%|██████████| 107/107 [01:04<00:00,  1.67it/s, loss=0.352, accuracy=0.973]\n"
     ]
    },
    {
     "name": "stdout",
     "output_type": "stream",
     "text": [
      "\n",
      "Epoch 481: Train Loss=0.3408 | Train Acc=0.9641 | Val Loss=0.5960 | Dice=0.7394 | IoU=0.6157 | Accuracy=0.9260\n",
      "\n"
     ]
    },
    {
     "name": "stderr",
     "output_type": "stream",
     "text": [
      "Epoch 482/500: 100%|██████████| 107/107 [01:03<00:00,  1.67it/s, loss=0.417, accuracy=0.969]\n"
     ]
    },
    {
     "name": "stdout",
     "output_type": "stream",
     "text": [
      "\n",
      "Epoch 482: Train Loss=0.3422 | Train Acc=0.9640 | Val Loss=0.5970 | Dice=0.7301 | IoU=0.6042 | Accuracy=0.9259\n",
      "\n"
     ]
    },
    {
     "name": "stderr",
     "output_type": "stream",
     "text": [
      "Epoch 483/500: 100%|██████████| 107/107 [01:03<00:00,  1.69it/s, loss=0.399, accuracy=0.958]\n"
     ]
    },
    {
     "name": "stdout",
     "output_type": "stream",
     "text": [
      "\n",
      "Epoch 483: Train Loss=0.3381 | Train Acc=0.9644 | Val Loss=0.5917 | Dice=0.7416 | IoU=0.6163 | Accuracy=0.9295\n",
      "\n"
     ]
    },
    {
     "name": "stderr",
     "output_type": "stream",
     "text": [
      "Epoch 484/500: 100%|██████████| 107/107 [01:04<00:00,  1.66it/s, loss=0.353, accuracy=0.978]\n"
     ]
    },
    {
     "name": "stdout",
     "output_type": "stream",
     "text": [
      "\n",
      "Epoch 484: Train Loss=0.3389 | Train Acc=0.9645 | Val Loss=0.5885 | Dice=0.7399 | IoU=0.6162 | Accuracy=0.9279\n",
      "\n"
     ]
    },
    {
     "name": "stderr",
     "output_type": "stream",
     "text": [
      "Epoch 485/500: 100%|██████████| 107/107 [01:04<00:00,  1.67it/s, loss=0.349, accuracy=0.962]\n"
     ]
    },
    {
     "name": "stdout",
     "output_type": "stream",
     "text": [
      "\n",
      "Epoch 485: Train Loss=0.3402 | Train Acc=0.9638 | Val Loss=0.5995 | Dice=0.7322 | IoU=0.6020 | Accuracy=0.9257\n",
      "\n"
     ]
    },
    {
     "name": "stderr",
     "output_type": "stream",
     "text": [
      "Epoch 486/500: 100%|██████████| 107/107 [01:04<00:00,  1.67it/s, loss=0.345, accuracy=0.952]\n"
     ]
    },
    {
     "name": "stdout",
     "output_type": "stream",
     "text": [
      "\n",
      "Epoch 486: Train Loss=0.3400 | Train Acc=0.9640 | Val Loss=0.6085 | Dice=0.7358 | IoU=0.6101 | Accuracy=0.9248\n",
      "\n"
     ]
    },
    {
     "name": "stderr",
     "output_type": "stream",
     "text": [
      "Epoch 487/500: 100%|██████████| 107/107 [01:03<00:00,  1.68it/s, loss=0.338, accuracy=0.959]\n"
     ]
    },
    {
     "name": "stdout",
     "output_type": "stream",
     "text": [
      "\n",
      "Epoch 487: Train Loss=0.3389 | Train Acc=0.9639 | Val Loss=0.5914 | Dice=0.7291 | IoU=0.6004 | Accuracy=0.9281\n",
      "\n"
     ]
    },
    {
     "name": "stderr",
     "output_type": "stream",
     "text": [
      "Epoch 488/500: 100%|██████████| 107/107 [01:03<00:00,  1.68it/s, loss=0.332, accuracy=0.969]\n"
     ]
    },
    {
     "name": "stdout",
     "output_type": "stream",
     "text": [
      "\n",
      "Epoch 488: Train Loss=0.3413 | Train Acc=0.9639 | Val Loss=0.6043 | Dice=0.7338 | IoU=0.6058 | Accuracy=0.9262\n",
      "\n"
     ]
    },
    {
     "name": "stderr",
     "output_type": "stream",
     "text": [
      "Epoch 489/500: 100%|██████████| 107/107 [01:04<00:00,  1.67it/s, loss=0.333, accuracy=0.958]\n"
     ]
    },
    {
     "name": "stdout",
     "output_type": "stream",
     "text": [
      "\n",
      "Epoch 489: Train Loss=0.3399 | Train Acc=0.9640 | Val Loss=0.5742 | Dice=0.7503 | IoU=0.6261 | Accuracy=0.9302\n",
      "\n"
     ]
    },
    {
     "name": "stderr",
     "output_type": "stream",
     "text": [
      "Epoch 490/500: 100%|██████████| 107/107 [01:04<00:00,  1.66it/s, loss=0.358, accuracy=0.965]\n"
     ]
    },
    {
     "name": "stdout",
     "output_type": "stream",
     "text": [
      "\n",
      "Epoch 490: Train Loss=0.3398 | Train Acc=0.9642 | Val Loss=0.5814 | Dice=0.7434 | IoU=0.6200 | Accuracy=0.9298\n",
      "\n"
     ]
    },
    {
     "name": "stderr",
     "output_type": "stream",
     "text": [
      "Epoch 491/500: 100%|██████████| 107/107 [01:04<00:00,  1.66it/s, loss=0.41, accuracy=0.972]\n"
     ]
    },
    {
     "name": "stdout",
     "output_type": "stream",
     "text": [
      "\n",
      "Epoch 491: Train Loss=0.3383 | Train Acc=0.9645 | Val Loss=0.5766 | Dice=0.7430 | IoU=0.6184 | Accuracy=0.9304\n",
      "\n"
     ]
    },
    {
     "name": "stderr",
     "output_type": "stream",
     "text": [
      "Epoch 492/500: 100%|██████████| 107/107 [01:04<00:00,  1.66it/s, loss=0.242, accuracy=0.963]\n"
     ]
    },
    {
     "name": "stdout",
     "output_type": "stream",
     "text": [
      "\n",
      "Epoch 492: Train Loss=0.3363 | Train Acc=0.9645 | Val Loss=0.5972 | Dice=0.7383 | IoU=0.6144 | Accuracy=0.9292\n",
      "\n"
     ]
    },
    {
     "name": "stderr",
     "output_type": "stream",
     "text": [
      "Epoch 493/500: 100%|██████████| 107/107 [01:04<00:00,  1.66it/s, loss=0.4, accuracy=0.962]\n"
     ]
    },
    {
     "name": "stdout",
     "output_type": "stream",
     "text": [
      "\n",
      "Epoch 493: Train Loss=0.3386 | Train Acc=0.9643 | Val Loss=0.6047 | Dice=0.7328 | IoU=0.6084 | Accuracy=0.9286\n",
      "\n"
     ]
    },
    {
     "name": "stderr",
     "output_type": "stream",
     "text": [
      "Epoch 494/500: 100%|██████████| 107/107 [01:04<00:00,  1.66it/s, loss=0.611, accuracy=0.976]\n"
     ]
    },
    {
     "name": "stdout",
     "output_type": "stream",
     "text": [
      "\n",
      "Epoch 494: Train Loss=0.3386 | Train Acc=0.9647 | Val Loss=0.6230 | Dice=0.7239 | IoU=0.5943 | Accuracy=0.9237\n",
      "\n"
     ]
    },
    {
     "name": "stderr",
     "output_type": "stream",
     "text": [
      "Epoch 495/500: 100%|██████████| 107/107 [01:03<00:00,  1.68it/s, loss=0.385, accuracy=0.971]\n"
     ]
    },
    {
     "name": "stdout",
     "output_type": "stream",
     "text": [
      "\n",
      "Epoch 495: Train Loss=0.3377 | Train Acc=0.9644 | Val Loss=0.5979 | Dice=0.7452 | IoU=0.6248 | Accuracy=0.9299\n",
      "\n"
     ]
    },
    {
     "name": "stderr",
     "output_type": "stream",
     "text": [
      "Epoch 496/500: 100%|██████████| 107/107 [01:04<00:00,  1.66it/s, loss=0.491, accuracy=0.88]\n"
     ]
    },
    {
     "name": "stdout",
     "output_type": "stream",
     "text": [
      "\n",
      "Epoch 496: Train Loss=0.3391 | Train Acc=0.9636 | Val Loss=0.5789 | Dice=0.7516 | IoU=0.6272 | Accuracy=0.9296\n",
      "\n"
     ]
    },
    {
     "name": "stderr",
     "output_type": "stream",
     "text": [
      "Epoch 497/500: 100%|██████████| 107/107 [01:04<00:00,  1.66it/s, loss=0.281, accuracy=0.962]\n"
     ]
    },
    {
     "name": "stdout",
     "output_type": "stream",
     "text": [
      "\n",
      "Epoch 497: Train Loss=0.3427 | Train Acc=0.9633 | Val Loss=0.5684 | Dice=0.7472 | IoU=0.6237 | Accuracy=0.9320\n",
      "\n"
     ]
    },
    {
     "name": "stderr",
     "output_type": "stream",
     "text": [
      "Epoch 498/500: 100%|██████████| 107/107 [01:04<00:00,  1.66it/s, loss=0.36, accuracy=0.977]\n"
     ]
    },
    {
     "name": "stdout",
     "output_type": "stream",
     "text": [
      "\n",
      "Epoch 498: Train Loss=0.3403 | Train Acc=0.9640 | Val Loss=0.6050 | Dice=0.7323 | IoU=0.6076 | Accuracy=0.9294\n",
      "\n"
     ]
    },
    {
     "name": "stderr",
     "output_type": "stream",
     "text": [
      "Epoch 499/500: 100%|██████████| 107/107 [01:04<00:00,  1.66it/s, loss=0.461, accuracy=0.972]\n"
     ]
    },
    {
     "name": "stdout",
     "output_type": "stream",
     "text": [
      "\n",
      "Epoch 499: Train Loss=0.3403 | Train Acc=0.9642 | Val Loss=0.5902 | Dice=0.7413 | IoU=0.6188 | Accuracy=0.9292\n",
      "\n"
     ]
    },
    {
     "name": "stderr",
     "output_type": "stream",
     "text": [
      "Epoch 500/500: 100%|██████████| 107/107 [01:04<00:00,  1.66it/s, loss=0.407, accuracy=0.949]\n"
     ]
    },
    {
     "name": "stdout",
     "output_type": "stream",
     "text": [
      "\n",
      "Epoch 500: Train Loss=0.3363 | Train Acc=0.9646 | Val Loss=0.5739 | Dice=0.7441 | IoU=0.6206 | Accuracy=0.9324\n",
      "\n"
     ]
    }
   ],
   "source": [
    "import torch\n",
    "import torch.nn as nn\n",
    "import torch.nn.functional as F\n",
    "from torch.utils.tensorboard import SummaryWriter\n",
    "from tqdm import tqdm\n",
    "import os\n",
    "\n",
    "# --- Dice Loss ---\n",
    "def dice_loss(pred, target, smooth=1.):\n",
    "    pred = torch.sigmoid(pred)\n",
    "    intersection = (pred * target).sum(dim=(2, 3))\n",
    "    union = pred.sum(dim=(2, 3)) + target.sum(dim=(2, 3))\n",
    "    dice = (2. * intersection + smooth) / (union + smooth)\n",
    "    return 1 - dice.mean()\n",
    "\n",
    "# --- Combined BCE + Dice Loss ---\n",
    "def combined_loss(preds, target):\n",
    "    bce = nn.BCEWithLogitsLoss()\n",
    "    weights = [0.6, 0.2, 0.1, 0.1]\n",
    "    total_loss = 0\n",
    "    for i, pred in enumerate(preds):\n",
    "        loss_bce = bce(pred, target)\n",
    "        loss_dice = dice_loss(pred, target)\n",
    "        total = loss_bce + loss_dice\n",
    "        total_loss += weights[i] * total\n",
    "    return total_loss\n",
    "\n",
    "# --- Metrics ---\n",
    "def calc_metrics(pred, target):\n",
    "    pred = torch.sigmoid(pred) > 0.5\n",
    "    target = target.bool()\n",
    "    intersection = (pred & target).float().sum((1, 2, 3))\n",
    "    union = (pred | target).float().sum((1, 2, 3))\n",
    "    iou = (intersection / (union + 1e-6)).mean()\n",
    "    dice = (2 * intersection / (pred.sum((1, 2, 3)) + target.sum((1, 2, 3)) + 1e-6)).mean()\n",
    "    accuracy = (pred == target).float().mean()\n",
    "    return dice.item(), iou.item(), accuracy.item()\n",
    "\n",
    "# --- TensorBoard Writer ---\n",
    "writer = SummaryWriter(log_dir=\"runs/AttentionUNetPlusPlus\")\n",
    "\n",
    "# --- Training Loop ---\n",
    "best_dice = 0.0\n",
    "os.makedirs(\"checkpoints\", exist_ok=True)\n",
    "os.makedirs(\"visualizations\", exist_ok=True)\n",
    "\n",
    "for epoch in range(epochs):\n",
    "    model.train()\n",
    "    train_loss, train_acc = 0, 0\n",
    "    with tqdm(train_loader, desc=f\"Epoch {epoch+1}/{epochs}\") as pbar:\n",
    "        for img, mask in pbar:\n",
    "            img, mask = img.to(device), mask.to(device)\n",
    "            optimizer.zero_grad()\n",
    "            outputs = model(img)\n",
    "            loss = combined_loss(outputs, mask)\n",
    "            loss.backward()\n",
    "            optimizer.step()\n",
    "            train_loss += loss.item()\n",
    "            _, _, acc = calc_metrics(outputs[0], mask)\n",
    "            train_acc += acc\n",
    "            pbar.set_postfix({\"loss\": loss.item(), \"accuracy\": acc})\n",
    "    \n",
    "    # --- Validation ---\n",
    "    model.eval()\n",
    "    val_loss, dice_total, iou_total, acc_total = 0, 0, 0, 0\n",
    "    with torch.no_grad():\n",
    "        for img, mask in val_loader:\n",
    "            img, mask = img.to(device), mask.to(device)\n",
    "            outputs = model(img)\n",
    "            loss = combined_loss(outputs, mask)\n",
    "            val_loss += loss.item()\n",
    "            dice, iou, acc = calc_metrics(outputs[0], mask)\n",
    "            dice_total += dice\n",
    "            iou_total += iou\n",
    "            acc_total += acc\n",
    "\n",
    "    avg_train_loss = train_loss / len(train_loader)\n",
    "    avg_train_acc = train_acc / len(train_loader)\n",
    "    avg_val_loss = val_loss / len(val_loader)\n",
    "    avg_dice = dice_total / len(val_loader)\n",
    "    avg_iou = iou_total / len(val_loader)\n",
    "    avg_acc = acc_total / len(val_loader)\n",
    "\n",
    "    print(f\"\\nEpoch {epoch+1}: \"\n",
    "          f\"Train Loss={avg_train_loss:.4f} | Train Acc={avg_train_acc:.4f} | \"\n",
    "          f\"Val Loss={avg_val_loss:.4f} | Dice={avg_dice:.4f} | IoU={avg_iou:.4f} | Accuracy={avg_acc:.4f}\\n\")\n",
    "\n",
    "    # --- TensorBoard Logging ---\n",
    "    writer.add_scalar(\"Loss/Train\", avg_train_loss, epoch)\n",
    "    writer.add_scalar(\"Loss/Validation\", avg_val_loss, epoch)\n",
    "    writer.add_scalar(\"Metrics/Dice\", avg_dice, epoch)\n",
    "    writer.add_scalar(\"Metrics/IoU\", avg_iou, epoch)\n",
    "    writer.add_scalar(\"Metrics/Accuracy\", avg_acc, epoch)\n",
    "\n",
    "    # --- Save Best Model ---\n",
    "    if avg_dice > best_dice:\n",
    "        best_dice = avg_dice\n",
    "        ckpt_path = f\"checkpoints/best_model_epoch{epoch+1}_dice{avg_dice:.4f}.pth\"\n",
    "        torch.save(model.state_dict(), ckpt_path)\n",
    "        print(f\"✅ Best model saved: {ckpt_path}\")\n",
    "\n",
    "writer.close()\n"
   ]
  }
 ],
 "metadata": {
  "kaggle": {
   "accelerator": "gpu",
   "dataSources": [
    {
     "datasetId": 6673714,
     "sourceId": 10759057,
     "sourceType": "datasetVersion"
    }
   ],
   "dockerImageVersionId": 30919,
   "isGpuEnabled": true,
   "isInternetEnabled": true,
   "language": "python",
   "sourceType": "notebook"
  },
  "kernelspec": {
   "display_name": "Python 3",
   "language": "python",
   "name": "python3"
  },
  "language_info": {
   "codemirror_mode": {
    "name": "ipython",
    "version": 3
   },
   "file_extension": ".py",
   "mimetype": "text/x-python",
   "name": "python",
   "nbconvert_exporter": "python",
   "pygments_lexer": "ipython3",
   "version": "3.10.12"
  },
  "papermill": {
   "default_parameters": {},
   "duration": 33641.974944,
   "end_time": "2025-03-25T12:52:40.444380",
   "environment_variables": {},
   "exception": null,
   "input_path": "__notebook__.ipynb",
   "output_path": "__notebook__.ipynb",
   "parameters": {},
   "start_time": "2025-03-25T03:31:58.469436",
   "version": "2.6.0"
  }
 },
 "nbformat": 4,
 "nbformat_minor": 5
}
